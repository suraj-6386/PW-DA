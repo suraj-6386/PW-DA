{
  "nbformat": 4,
  "nbformat_minor": 0,
  "metadata": {
    "colab": {
      "provenance": []
    },
    "kernelspec": {
      "name": "python3",
      "display_name": "Python 3"
    },
    "language_info": {
      "name": "python"
    }
  },
  "cells": [
    {
      "cell_type": "markdown",
      "source": [
        "# Python Basics Assignment\n"
      ],
      "metadata": {
        "id": "zP2bV2k15h1w"
      }
    },
    {
      "cell_type": "markdown",
      "source": [
        "## Theory Questions"
      ],
      "metadata": {
        "id": "F4p4NJcfguoH"
      }
    },
    {
      "cell_type": "markdown",
      "source": [
        "### 1. What is Python, and why is it popular?\n",
        "\n",
        "   -> Python is a high-level, interpreted programming language developed by Guido  van Rossum and first released in 1991. It is known for its simple syntax, readability, and versatility, which makes it suitable for beginners as well as professionals. Python supports multiple programming paradigms, including object-oriented, procedural, and functional programming.\n",
        "\n",
        "   Reasons for Python's Popularity-\n",
        "\n",
        "*   Open-Source and Free – Python is freely available for use, distribution, and modification.\n",
        "*   Easy to Learn and Use – Python has a simple and readable syntax, ideal for\n",
        "beginners.\n",
        "*   Extensive Libraries and Frameworks – It offers powerful libraries for tasks like data science, AI, and web development.\n",
        "*   Versatility – Python can be used for web apps, automation, data analysis, AI, and more.\n",
        "*   Cross-Platform Compatibility – Python code runs smoothly on Windows, macOS, and Linux.\n",
        "*   Strong Community Support – A large community helps users through forums, tutorials, and documentation.\n",
        "*   Used by Major Companies – Python is trusted and used by companies like Google, Netflix, and NASA."
      ],
      "metadata": {
        "id": "tZh6gY4Z6GSw"
      }
    },
    {
      "cell_type": "markdown",
      "source": [
        "### 2. What is an interpreter in Python?\n",
        "    \n",
        "-> An interpreter is a program that reads, translates, and executes Python code line by line. It converts the high-level Python code into machine-level code that the computer can understand and run. Unlike a compiler (which translates the entire program at once), the Python interpreter processes each line sequentially, which makes it easier to debug and test code.\n",
        "\n",
        "*  Executes code line by line.\n",
        "*  Helps in quick testing and debugging.\n",
        "*  Converts Python code to bytecode, then runs it on the Python Virtual Machine (PVM).\n",
        "*   Examples of Python interpreters: CPython, PyPy, Jython, etc.\n"
      ],
      "metadata": {
        "id": "YjaSvhCE7V6M"
      }
    },
    {
      "cell_type": "markdown",
      "source": [
        "### 3. What are pre-defined keywords in Python?\n",
        "\n",
        "   -> Pre-defined keywords in Python are special reserved words that are part of the language's syntax. These words have specific meanings and are used to perform various predefined operations such as defining functions, loops, conditional statements, classes, and more. Since their meanings are already defined by the Python interpreter, programmers are not allowed to use them as variable names, function names, or identifiers. Using them inappropriately will result in a syntax error.\n",
        "\n",
        "   Python keywords are case-sensitive, and they form the foundation of writing valid Python programs. Examples of some commonly used keywords include if, else, while, for, def, return, class, import, True, False, and None. Each of these plays a specific role in controlling the flow or structure of the code.\n",
        "  \n",
        "   As of Python 3, there are more than 35 keywords, and they can be viewed using Python’s built-in keyword module.\n",
        "   \n",
        "   These are -\n",
        "   False, None, True, and, as, assert, async, await, break, class, continue, def, del, elif, else, except, finally, for, from, global, if, import, in, is, lambda, nonlocal, not, or, pass, raise, return, try, while, with, yield\n"
      ],
      "metadata": {
        "id": "otBseiGdVczj"
      }
    },
    {
      "cell_type": "markdown",
      "source": [
        "### 4. Can keywords be used as variable names?\n",
        "\n",
        "  -> No, keywords cannot be used as variable names in Python.\n",
        "They are reserved words that have special meanings defined by the Python language, such as if, while, class, def, etc.\n",
        "\n",
        "Using them as variable names will result in a SyntaxError because Python expects them to be used only for their intended purpose."
      ],
      "metadata": {
        "id": "XSycbtilWg6x"
      }
    },
    {
      "cell_type": "code",
      "source": [
        "#Example\n",
        "\n",
        "if = 10 # This will cause a SyntaxError"
      ],
      "metadata": {
        "id": "P0nb-lI27_v5",
        "colab": {
          "base_uri": "https://localhost:8080/",
          "height": 106
        },
        "outputId": "2ed16437-d9a4-4ece-fe84-43346c6ce0cd"
      },
      "execution_count": null,
      "outputs": [
        {
          "output_type": "error",
          "ename": "SyntaxError",
          "evalue": "invalid syntax (ipython-input-7-1059521541.py, line 3)",
          "traceback": [
            "\u001b[0;36m  File \u001b[0;32m\"/tmp/ipython-input-7-1059521541.py\"\u001b[0;36m, line \u001b[0;32m3\u001b[0m\n\u001b[0;31m    if = 10 # This will cause a SyntaxError\u001b[0m\n\u001b[0m       ^\u001b[0m\n\u001b[0;31mSyntaxError\u001b[0m\u001b[0;31m:\u001b[0m invalid syntax\n"
          ]
        }
      ]
    },
    {
      "cell_type": "markdown",
      "source": [
        "### 5. What is mutability in Python?\n",
        "\n",
        "-> Mutability in Python refers to an object’s ability to change its value after it has been created.\n",
        "\n",
        "If the value of an object can be changed, it is called a mutable object. If the value cannot be changed, the object is considered immutable.\n",
        "\n",
        "Mutable objects allow in-place modification, while immutable objects require the creation of a new object for any change. This concept is important for memory management and affects how data behaves during operations like assignment, function passing, and comparison.\n",
        "\n",
        "Mutable Data Types: List, Dictionary, Set"
      ],
      "metadata": {
        "id": "aMvCwQdPXKu0"
      }
    },
    {
      "cell_type": "code",
      "source": [
        "#Example\n",
        "my_list = [1, 2, 3]\n",
        "my_list[0] = 10  # List is mutable\n",
        "print(my_list)"
      ],
      "metadata": {
        "colab": {
          "base_uri": "https://localhost:8080/"
        },
        "id": "ZJPGiNPGXKMC",
        "outputId": "f754ff6c-03de-4630-ecb8-c6482c3f8fee"
      },
      "execution_count": null,
      "outputs": [
        {
          "output_type": "stream",
          "name": "stdout",
          "text": [
            "[10, 2, 3]\n"
          ]
        }
      ]
    },
    {
      "cell_type": "markdown",
      "source": [
        "### 6. Why are lists mutable, but tuples are immutable?\n",
        "\n",
        "-> Lists are mutable because they are designed to allow modification, addition, or removal of elements after creation. They are implemented in such a way that their elements can be changed in-place, making them flexible and suitable for dynamic data structures.\n",
        "\n",
        "Lists are mutable → Designed for dynamic, changeable data.\n",
        "\n",
        "On the other hand, tuples are immutable because they are intended to store fixed collections of items. Once a tuple is created, its contents cannot be altered, which makes it more secure and reliable for storing constant data. This immutability also allows tuples to be used as dictionary keys and in sets, which require their elements to be hashable and unchangeable.\n",
        "\n",
        "Tuples are immutable → Designed for fixed, unchangeable data."
      ],
      "metadata": {
        "id": "9jHyS8p8X4Kh"
      }
    },
    {
      "cell_type": "markdown",
      "source": [
        "### 7. What is the difference between “==” and “is” operators in Python?\n",
        "\n",
        "-> == Operator (Equality Operator):\n",
        "\n",
        "*   Compares the values of two objects.\n",
        "*   Checks if values are equal.\n",
        "*   Returns True if the contents are the same, even if the objects are different.\n",
        "\n",
        "is Operator (Identity Operator):\n",
        "\n",
        "*   Compares the memory location (identity) of two objects.\n",
        "*   Checks if both are the same object\n",
        "*   Returns True only if both references point to the exact same object in memory."
      ],
      "metadata": {
        "id": "5yHA657SYT0U"
      }
    },
    {
      "cell_type": "code",
      "source": [
        "# Example of == (Equality Operator)\n",
        "a = [1, 2, 3]\n",
        "b = [1, 2, 3]\n",
        "\n",
        "print(a == b)  # True — values are the same\n",
        "\n",
        "# Example of is (Identity Operator)\n",
        "a = [1, 2, 3]\n",
        "b = [1, 2, 3]\n",
        "\n",
        "print(a is b)  # False — different objects in memory"
      ],
      "metadata": {
        "colab": {
          "base_uri": "https://localhost:8080/"
        },
        "id": "XOavb2d2YQMZ",
        "outputId": "6b03749d-bfc2-45ab-86e3-53f315e20e31"
      },
      "execution_count": null,
      "outputs": [
        {
          "output_type": "stream",
          "name": "stdout",
          "text": [
            "True\n",
            "False\n"
          ]
        }
      ]
    },
    {
      "cell_type": "markdown",
      "source": [
        "### 8. What are logical operators in Python?\n",
        "\n",
        "-> Logical operators in Python are used to combine multiple conditions (Boolean expressions) and return a result based on their truth values. They are commonly used in control flow statements like if, while, etc.\n",
        "\n",
        "Python has 3 logical operators:\n",
        "1. and-\n",
        "Returns True if both conditions are true.\n",
        "\n",
        "Example: True and True → True\n",
        "\n",
        "2. or-\n",
        "Returns True if at least one condition is true.\n",
        "\n",
        "Example: True or False → True\n",
        "\n",
        "3. not-\n",
        "Reverses the Boolean value of a condition.\n",
        "\n",
        "Example: not True → False"
      ],
      "metadata": {
        "id": "Xqwnz_ieZZAW"
      }
    },
    {
      "cell_type": "code",
      "source": [
        "#Example\n",
        "a = 10\n",
        "b = 5\n",
        "\n",
        "print(a > 5 and b < 10)\n",
        "print(a < 5 or b < 10)\n",
        "print(not(a > b))"
      ],
      "metadata": {
        "colab": {
          "base_uri": "https://localhost:8080/"
        },
        "id": "cXwwXRBBZ9Vx",
        "outputId": "aa7f2cae-bd6b-4cc9-a8aa-072947963c08"
      },
      "execution_count": null,
      "outputs": [
        {
          "output_type": "stream",
          "name": "stdout",
          "text": [
            "True\n",
            "True\n",
            "False\n"
          ]
        }
      ]
    },
    {
      "cell_type": "markdown",
      "source": [
        "### 9. What is type casting in Python?\n",
        "\n",
        "-> Type casting in Python refers to the process of converting one data type into another. It is used when you want to perform operations between variables of different types or when you want to explicitly change a variable’s data type.\n",
        "\n",
        "Types of Type Casting:\n",
        "1. Implicit Type Casting (Automatic)-\n",
        "Python automatically converts one data type to another when no data loss occurs.\n",
        "\n",
        "Example: int to float during arithmetic operations.\n",
        "\n",
        "2. Explicit Type Casting (Manual)-\n",
        "The programmer manually converts the data type using built-in functions.\n",
        "\n",
        "Example functions: int(), float(), str(), bool()\n",
        "\n"
      ],
      "metadata": {
        "id": "olKABp55aDh7"
      }
    },
    {
      "cell_type": "code",
      "source": [
        "#Example\n",
        "a = \"100\"\n",
        "b = int(a)  # Converts string to integer\n",
        "print(b + 10)"
      ],
      "metadata": {
        "colab": {
          "base_uri": "https://localhost:8080/"
        },
        "id": "U-SK3yBEaChf",
        "outputId": "2015b533-401d-404f-df2c-128b2076f4c9"
      },
      "execution_count": null,
      "outputs": [
        {
          "output_type": "stream",
          "name": "stdout",
          "text": [
            "110\n"
          ]
        }
      ]
    },
    {
      "cell_type": "markdown",
      "source": [
        "### 10. What is the difference between implicit and explicit type casting?\n",
        "\n",
        "-> Implicit Type Casting:\n",
        "\n",
        "* Done automatically by Python.\n",
        "* Happens when Python converts data types internally without user involvement.\n",
        "* No data is lost and conversion is safe.\n",
        "\n",
        "Explicit Type Casting:\n",
        "\n",
        "* Done manually by the programmer.\n",
        "* Requires use of casting functions like int(), float(), str(), etc.\n",
        "* Used when you want to **forcefully change** the data type.\n",
        "\n"
      ],
      "metadata": {
        "id": "b2J2mJ8Jahik"
      }
    },
    {
      "cell_type": "code",
      "source": [
        "#Example Implicit\n",
        "\n",
        "x = 5      # int\n",
        "y = 2.0    # float\n",
        "z = x + y  # Python automatically converts x to float\n",
        "print(z)\n",
        "\n",
        "#Example Explicit\n",
        "\n",
        "x = \"10\"       # string\n",
        "y = int(x)     # convert string to int\n",
        "print(y + 5)"
      ],
      "metadata": {
        "colab": {
          "base_uri": "https://localhost:8080/"
        },
        "id": "DwqjU8eZaaV9",
        "outputId": "40116ea3-6d7e-40a0-b14f-9bc6661b2367"
      },
      "execution_count": null,
      "outputs": [
        {
          "output_type": "stream",
          "name": "stdout",
          "text": [
            "7.0\n",
            "15\n"
          ]
        }
      ]
    },
    {
      "cell_type": "markdown",
      "source": [
        "### 11. What is the purpose of conditional statements in Python?\n",
        "\n",
        "-> The purpose of conditional statements in Python is to make decisions in a program based on certain conditions. They allow the program to execute specific blocks of code only when a particular condition is true.\n",
        "\n",
        "Conditional statements help control the flow of execution, enabling dynamic and flexible behavior in programs.\n",
        "\n",
        "* Handle decision-making in real-time.\n",
        "* Allow programs to respond to user input or data.\n",
        "* Make code more intelligent and interactive.\n",
        "\n",
        "Conditional Statements in Python:\n",
        "\n",
        "* if – Executes a block of code if the condition is true.\n",
        "* if-else – Executes one block if the condition is true, otherwise another block.\n",
        "* if-elif-else – Checks multiple conditions in sequence."
      ],
      "metadata": {
        "id": "kvN8BBMUbb_c"
      }
    },
    {
      "cell_type": "markdown",
      "source": [
        "### 12. How does the elif statement work?\n",
        "\n",
        "-> The elif (short for \"else if\") statement in Python is used to check multiple conditions after an initial if condition. It allows the program to evaluate several possible scenarios, one by one, and execute the block of code for the first condition that is true.\n",
        "\n",
        "How It Works:\n",
        "\n",
        "* Python checks the if condition first.\n",
        "* If if is False, it checks the next elif condition.\n",
        "* If an elif condition is True, that block runs and the rest are skipped.\n",
        "* If none of the conditions are true, the else block (if present) is executed.\n",
        "\n",
        "Purpose:\n",
        "The elif statement makes the code more efficient and readable when handling multiple conditions instead of using several nested if statements."
      ],
      "metadata": {
        "id": "rdCNA2fgb9io"
      }
    },
    {
      "cell_type": "code",
      "source": [
        "#Example\n",
        "marks = 75\n",
        "\n",
        "if marks >= 90:\n",
        "    print(\"Grade: A\")\n",
        "elif marks >= 80:\n",
        "    print(\"Grade: B\")\n",
        "elif marks >= 70:\n",
        "    print(\"Grade: C\")\n",
        "elif marks >= 60:\n",
        "    print(\"Grade: D\")\n",
        "else:\n",
        "    print(\"Grade: F\")"
      ],
      "metadata": {
        "colab": {
          "base_uri": "https://localhost:8080/"
        },
        "id": "E5k4ASDzbXL9",
        "outputId": "2ae5ac84-7340-47b0-b7f0-ccfc1fde6822"
      },
      "execution_count": null,
      "outputs": [
        {
          "output_type": "stream",
          "name": "stdout",
          "text": [
            "Grade: C\n"
          ]
        }
      ]
    },
    {
      "cell_type": "markdown",
      "source": [
        "### 13. What is the difference between for and while loops?\n",
        "\n",
        "-> **for Loop:**\n",
        "\n",
        "* Used when you know in advance how many times you want to repeat a block of code.\n",
        "* It iterates over a sequence (like a list, range, or string).\n",
        "\n",
        "**while Loop:**\n",
        "\n",
        "* Used when you want to repeat a block of code until a condition becomes false.\n",
        "* The number of iterations is not fixed; it depends on the condition.\n"
      ],
      "metadata": {
        "id": "WWDDZAM9crlw"
      }
    },
    {
      "cell_type": "code",
      "source": [
        "# Example of FOR LOOP\n",
        "\n",
        "for i in range(5):\n",
        "    print(i)\n",
        "\n",
        "print(\"\\n\")\n",
        "# Example of WHILE LOOP\n",
        "\n",
        "i = 0\n",
        "while i < 5:\n",
        "    print(i)\n",
        "    i += 1\n"
      ],
      "metadata": {
        "colab": {
          "base_uri": "https://localhost:8080/"
        },
        "id": "S2N_Xi6NclRy",
        "outputId": "509b992a-cbd8-4698-9699-095bfdd3e08a"
      },
      "execution_count": null,
      "outputs": [
        {
          "output_type": "stream",
          "name": "stdout",
          "text": [
            "0\n",
            "1\n",
            "2\n",
            "3\n",
            "4\n",
            "\n",
            "\n",
            "0\n",
            "1\n",
            "2\n",
            "3\n",
            "4\n"
          ]
        }
      ]
    },
    {
      "cell_type": "markdown",
      "source": [
        "### 14. Describe a scenario where a while loop is more suitable than a for loop.\n",
        "\n",
        "-> A while loop is more suitable when you do not know in advance how many times the loop should run, and the loop should continue until a certain condition becomes false.\n",
        "\n",
        "Scenario Example:\n",
        "User Login System\n",
        "\n",
        "Suppose you are building a program that asks a user to enter the correct password. The number of attempts is not fixed — the program should keep asking until the correct password is entered."
      ],
      "metadata": {
        "id": "paXVg2crdhCs"
      }
    },
    {
      "cell_type": "code",
      "source": [
        "#Example\n",
        "correct_password = \"python123\"\n",
        "user_input = \"\"\n",
        "\n",
        "while user_input != correct_password:\n",
        "    user_input = input(\"Enter your password: \")\n",
        "\n",
        "print(\"Access granted!\")\n"
      ],
      "metadata": {
        "colab": {
          "base_uri": "https://localhost:8080/"
        },
        "id": "fImljnKmdgbx",
        "outputId": "ca49ace7-ec60-43eb-975f-f10538de7193"
      },
      "execution_count": null,
      "outputs": [
        {
          "output_type": "stream",
          "name": "stdout",
          "text": [
            "Enter your password: 12345\n",
            "Enter your password: python123\n",
            "Access granted!\n"
          ]
        }
      ]
    },
    {
      "cell_type": "markdown",
      "source": [
        "while is Better Here Because-\n",
        "\n",
        "* The number of attempts is unknown.\n",
        "* You want to keep looping based on a condition (wrong password).\n",
        "* A for loop wouldn't work well here because it’s designed for a fixed number of iterations.\n",
        "\n"
      ],
      "metadata": {
        "id": "0PIFJXqGd6IG"
      }
    },
    {
      "cell_type": "markdown",
      "source": [
        "## Practical Questions"
      ],
      "metadata": {
        "id": "d-tZQZoUg5Ej"
      }
    },
    {
      "cell_type": "code",
      "source": [
        "# 1. Write a Python program to print \"Hello, World!\n",
        "\n",
        "print(\"Hello, World!\")"
      ],
      "metadata": {
        "id": "4I0gVNCGdxKM",
        "colab": {
          "base_uri": "https://localhost:8080/"
        },
        "outputId": "9941b822-9862-4176-d4b2-a47559f2ac82"
      },
      "execution_count": 1,
      "outputs": [
        {
          "output_type": "stream",
          "name": "stdout",
          "text": [
            "Hello, World!\n"
          ]
        }
      ]
    },
    {
      "cell_type": "code",
      "source": [
        "# 2. Write a Python program that displays your name and age\n",
        "\n",
        "name = \"Suraj Gupta\"\n",
        "age = 22\n",
        "\n",
        "print(\"My name is\", name)\n",
        "print(\"I am\", age, \"years old.\")"
      ],
      "metadata": {
        "colab": {
          "base_uri": "https://localhost:8080/"
        },
        "id": "chMTKle9hO_-",
        "outputId": "9c6889d3-dc44-4fc0-9ada-c26fd38c93f4"
      },
      "execution_count": 2,
      "outputs": [
        {
          "output_type": "stream",
          "name": "stdout",
          "text": [
            "My name is Suraj Gupta\n",
            "I am 22 years old.\n"
          ]
        }
      ]
    },
    {
      "cell_type": "code",
      "source": [
        "# 3. Write code to print all the pre-defined keywords in Python using the keyword library\n",
        "\n",
        "import keyword\n",
        "\n",
        "print(\"List of all Python keywords:\")\n",
        "print(keyword.kwlist)"
      ],
      "metadata": {
        "colab": {
          "base_uri": "https://localhost:8080/"
        },
        "id": "_wqMXlb9hZLJ",
        "outputId": "dd7e5c8e-cf6e-42cc-c6bf-17a36f508f0f"
      },
      "execution_count": 4,
      "outputs": [
        {
          "output_type": "stream",
          "name": "stdout",
          "text": [
            "List of all Python keywords:\n",
            "['False', 'None', 'True', 'and', 'as', 'assert', 'async', 'await', 'break', 'class', 'continue', 'def', 'del', 'elif', 'else', 'except', 'finally', 'for', 'from', 'global', 'if', 'import', 'in', 'is', 'lambda', 'nonlocal', 'not', 'or', 'pass', 'raise', 'return', 'try', 'while', 'with', 'yield']\n"
          ]
        }
      ]
    },
    {
      "cell_type": "code",
      "source": [
        "# 4. Write a program that checks if a given word is a Python keyword\n",
        "\n",
        "import keyword\n",
        "\n",
        "word = input(\"Enter a word: \")\n",
        "\n",
        "if keyword.iskeyword(word):\n",
        "    print(f\"'{word}' is a Python keyword.\")\n",
        "else:\n",
        "    print(f\"'{word}' is not a Python keyword.\")"
      ],
      "metadata": {
        "colab": {
          "base_uri": "https://localhost:8080/"
        },
        "id": "or2JNXNMhjAj",
        "outputId": "729bf25e-794b-4ff5-8f37-14864f782b44"
      },
      "execution_count": 5,
      "outputs": [
        {
          "output_type": "stream",
          "name": "stdout",
          "text": [
            "Enter a word: break\n",
            "'break' is a Python keyword.\n"
          ]
        }
      ]
    },
    {
      "cell_type": "code",
      "source": [
        "# 5.  Create a list and tuple in Python, and demonstrate how attempting to change an element works differently for each\n",
        "\n",
        "my_list = [10, 20, 30]\n",
        "my_tuple = (10, 20, 30)\n",
        "\n",
        "# Modify list\n",
        "print(\"Original list:\", my_list)\n",
        "my_list[1] = 99\n",
        "print(\"Modified list:\", my_list)\n",
        "\n",
        "# Modify tuple\n",
        "print(\"Original tuple:\", my_tuple)\n",
        "my_tuple[1] = 99 # error\n",
        "print(\"Modified tuple:\", my_tuple)"
      ],
      "metadata": {
        "colab": {
          "base_uri": "https://localhost:8080/",
          "height": 245
        },
        "id": "6RLQ2QAkh-cp",
        "outputId": "bf5d3650-6244-4b9a-a27c-0d728c97ff63"
      },
      "execution_count": 6,
      "outputs": [
        {
          "output_type": "stream",
          "name": "stdout",
          "text": [
            "Original list: [10, 20, 30]\n",
            "Modified list: [10, 99, 30]\n",
            "Original tuple: (10, 20, 30)\n"
          ]
        },
        {
          "output_type": "error",
          "ename": "TypeError",
          "evalue": "'tuple' object does not support item assignment",
          "traceback": [
            "\u001b[0;31m---------------------------------------------------------------------------\u001b[0m",
            "\u001b[0;31mTypeError\u001b[0m                                 Traceback (most recent call last)",
            "\u001b[0;32m/tmp/ipython-input-6-1865318012.py\u001b[0m in \u001b[0;36m<cell line: 0>\u001b[0;34m()\u001b[0m\n\u001b[1;32m     11\u001b[0m \u001b[0;31m# Modify an element in the tuple (will cause an error)\u001b[0m\u001b[0;34m\u001b[0m\u001b[0;34m\u001b[0m\u001b[0m\n\u001b[1;32m     12\u001b[0m \u001b[0mprint\u001b[0m\u001b[0;34m(\u001b[0m\u001b[0;34m\"Original tuple:\"\u001b[0m\u001b[0;34m,\u001b[0m \u001b[0mmy_tuple\u001b[0m\u001b[0;34m)\u001b[0m\u001b[0;34m\u001b[0m\u001b[0;34m\u001b[0m\u001b[0m\n\u001b[0;32m---> 13\u001b[0;31m \u001b[0mmy_tuple\u001b[0m\u001b[0;34m[\u001b[0m\u001b[0;36m1\u001b[0m\u001b[0;34m]\u001b[0m \u001b[0;34m=\u001b[0m \u001b[0;36m99\u001b[0m  \u001b[0;31m# ❌ This line will cause an error\u001b[0m\u001b[0;34m\u001b[0m\u001b[0;34m\u001b[0m\u001b[0m\n\u001b[0m\u001b[1;32m     14\u001b[0m \u001b[0mprint\u001b[0m\u001b[0;34m(\u001b[0m\u001b[0;34m\"Modified tuple:\"\u001b[0m\u001b[0;34m,\u001b[0m \u001b[0mmy_tuple\u001b[0m\u001b[0;34m)\u001b[0m\u001b[0;34m\u001b[0m\u001b[0;34m\u001b[0m\u001b[0m\n",
            "\u001b[0;31mTypeError\u001b[0m: 'tuple' object does not support item assignment"
          ]
        }
      ]
    },
    {
      "cell_type": "code",
      "source": [
        "# 6. Write a function to demonstrate the behavior of mutable and immutable arguments.\n",
        "\n",
        "def change_values(x, y):\n",
        "    x = x + 5          # Immutable (int)\n",
        "    y.append(10)       # Mutable (list)\n",
        "\n",
        "a = 10\n",
        "b = [1, 2, 3]\n",
        "\n",
        "change_values(a, b)\n",
        "\n",
        "print(\"a =\", a) # unchanged\n",
        "print(\"b =\", b)  # changed"
      ],
      "metadata": {
        "colab": {
          "base_uri": "https://localhost:8080/"
        },
        "id": "di3x0z99ibmd",
        "outputId": "379e0be5-128f-4a11-e72a-0a29b0f0c325"
      },
      "execution_count": 7,
      "outputs": [
        {
          "output_type": "stream",
          "name": "stdout",
          "text": [
            "a = 10\n",
            "b = [1, 2, 3, 10]\n"
          ]
        }
      ]
    },
    {
      "cell_type": "code",
      "source": [
        "# 7. Write a program that performs basic arithmetic operations on two user-input numbers.\n",
        "\n",
        "num1 = float(input(\"Enter first number: \"))\n",
        "num2 = float(input(\"Enter second number: \"))\n",
        "\n",
        "print(\"Addition:\", num1 + num2)\n",
        "print(\"Subtraction:\", num1 - num2)\n",
        "print(\"Multiplication:\", num1 * num2)\n",
        "if num2 != 0:\n",
        "    print(\"Division:\", num1 / num2)\n",
        "else:\n",
        "    print(\"Division: Cannot divide by zero\")"
      ],
      "metadata": {
        "colab": {
          "base_uri": "https://localhost:8080/"
        },
        "id": "S4gjn7BUjO9R",
        "outputId": "54afc5bf-55f3-4daa-b60f-ef2d34c49d63"
      },
      "execution_count": 8,
      "outputs": [
        {
          "output_type": "stream",
          "name": "stdout",
          "text": [
            "Enter first number: 21\n",
            "Enter second number: 0\n",
            "Addition: 21.0\n",
            "Subtraction: 21.0\n",
            "Multiplication: 0.0\n",
            "Division: Cannot divide by zero\n"
          ]
        }
      ]
    },
    {
      "cell_type": "code",
      "source": [
        "# 8.  Write a program to demonstrate the use of logical operators.\n",
        "\n",
        "a = 10\n",
        "b = 5\n",
        "c = 15\n",
        "\n",
        "print(a > b and a < c)  # True and True = True\n",
        "\n",
        "print(a > c or b < c)    # False or True = True\n",
        "\n",
        "print(not(a < c))            # not(True) = False"
      ],
      "metadata": {
        "colab": {
          "base_uri": "https://localhost:8080/"
        },
        "id": "YdRcrMU4jb5w",
        "outputId": "e65ee9b0-4aad-4377-c3e4-aa9ac82a0077"
      },
      "execution_count": 10,
      "outputs": [
        {
          "output_type": "stream",
          "name": "stdout",
          "text": [
            "True\n",
            "True\n",
            "False\n"
          ]
        }
      ]
    },
    {
      "cell_type": "code",
      "source": [
        "# 9. Write a Python program to convert user input from string to integer, float, and boolean types\n",
        "\n",
        "user_input = input(\"Enter a value: \")\n",
        "\n",
        "int_value = int(user_input)\n",
        "print(\"Integer:\", int_value)\n",
        "\n",
        "float_value = float(user_input)\n",
        "print(\"Float:\", float_value)\n",
        "\n",
        "bool_value = bool(user_input)\n",
        "print(\"Boolean:\", bool_value)"
      ],
      "metadata": {
        "colab": {
          "base_uri": "https://localhost:8080/"
        },
        "id": "C-CDMdB8juY3",
        "outputId": "2633151a-661e-4536-a99e-3f1da2811e61"
      },
      "execution_count": 12,
      "outputs": [
        {
          "output_type": "stream",
          "name": "stdout",
          "text": [
            "Enter a value: 15\n",
            "Integer: 15\n",
            "Float: 15.0\n",
            "Boolean: True\n"
          ]
        }
      ]
    },
    {
      "cell_type": "code",
      "source": [
        "# 10. Write code to demonstrate type casting with list elements.\n",
        "\n",
        "str_list = ['10', '20', '30']\n",
        "\n",
        "int_list = []\n",
        "\n",
        "for item in str_list:\n",
        "  int_list.append(int(item))\n",
        "\n",
        "print(\"Original list (strings):\", str_list)\n",
        "print(\"Converted list (integers):\", int_list)"
      ],
      "metadata": {
        "colab": {
          "base_uri": "https://localhost:8080/"
        },
        "id": "NvvxlTiwkBtS",
        "outputId": "d8de5e40-e9e9-4d28-8e2e-1aadcbadff9f"
      },
      "execution_count": 13,
      "outputs": [
        {
          "output_type": "stream",
          "name": "stdout",
          "text": [
            "Original list (strings): ['10', '20', '30']\n",
            "Converted list (integers): [10, 20, 30]\n"
          ]
        }
      ]
    },
    {
      "cell_type": "code",
      "source": [
        "# 11. Write a program that checks if a number is positive, negative, or zero.\n",
        "\n",
        "num = int(input(\"Enter a number: \"))\n",
        "\n",
        "if num > 0:\n",
        "    print(\"The number is positive.\")\n",
        "elif num < 0:\n",
        "    print(\"The number is negative.\")\n",
        "else:\n",
        "    print(\"The number is zero.\")"
      ],
      "metadata": {
        "colab": {
          "base_uri": "https://localhost:8080/"
        },
        "id": "YO1jkfWDkf9w",
        "outputId": "5006b021-8b9a-4c86-b426-4dfdc24f3ce0"
      },
      "execution_count": 14,
      "outputs": [
        {
          "output_type": "stream",
          "name": "stdout",
          "text": [
            "Enter a number: -20\n",
            "The number is negative.\n"
          ]
        }
      ]
    },
    {
      "cell_type": "code",
      "source": [
        "# 12. Write a for loop to print numbers from 1 to 10.\n",
        "\n",
        "for i in range(1, 11):\n",
        "    print(i)"
      ],
      "metadata": {
        "colab": {
          "base_uri": "https://localhost:8080/"
        },
        "id": "QfRsxs73kqb2",
        "outputId": "52a2ef8c-1167-43c2-a2c5-cc6dcbbf2973"
      },
      "execution_count": 15,
      "outputs": [
        {
          "output_type": "stream",
          "name": "stdout",
          "text": [
            "1\n",
            "2\n",
            "3\n",
            "4\n",
            "5\n",
            "6\n",
            "7\n",
            "8\n",
            "9\n",
            "10\n"
          ]
        }
      ]
    },
    {
      "cell_type": "code",
      "source": [
        "# 13. Write a Python program to find the sum of all even numbers between 1 and 50.\n",
        "\n",
        "sum = 0\n",
        "\n",
        "for i in range(1, 51):\n",
        "    if i % 2 == 0:\n",
        "        sum += i\n",
        "\n",
        "print(\"Sum of even numbers from 1 to 50 is:\", sum)"
      ],
      "metadata": {
        "colab": {
          "base_uri": "https://localhost:8080/"
        },
        "id": "xVDzCJ4ok3Pp",
        "outputId": "5bd98879-a128-4c40-dba9-c6d7b4eb6c3a"
      },
      "execution_count": 16,
      "outputs": [
        {
          "output_type": "stream",
          "name": "stdout",
          "text": [
            "Sum of even numbers from 1 to 50 is: 650\n"
          ]
        }
      ]
    },
    {
      "cell_type": "code",
      "source": [
        "# 14. Write a program to reverse a string using a while loop\n",
        "\n",
        "text = input(\"Enter a string: \")\n",
        "\n",
        "reversed_text = \"\"\n",
        "index = len(text) - 1\n",
        "\n",
        "while index >= 0:\n",
        "    reversed_text += text[index]\n",
        "    index -= 1\n",
        "\n",
        "print(\"Reversed string:\", reversed_text)"
      ],
      "metadata": {
        "colab": {
          "base_uri": "https://localhost:8080/"
        },
        "id": "GWfq0ETIlGaW",
        "outputId": "3a59253a-8ece-4e4e-d372-93bf704d6281"
      },
      "execution_count": 17,
      "outputs": [
        {
          "output_type": "stream",
          "name": "stdout",
          "text": [
            "Enter a string: Suraj Gupta\n",
            "Reversed string: atpuG jaruS\n"
          ]
        }
      ]
    },
    {
      "cell_type": "code",
      "source": [
        "# 15.  Write a Python program to calculate the factorial of a number provided by the user using a while loop.\n",
        "\n",
        "num = int(input(\"Enter a number: \"))\n",
        "\n",
        "fact = 1\n",
        "\n",
        "for i in range(1, num + 1):\n",
        "    fact *= i\n",
        "\n",
        "print(\"Factorial of\", num, \"is:\", fact)"
      ],
      "metadata": {
        "colab": {
          "base_uri": "https://localhost:8080/"
        },
        "id": "jge0L17XlbHi",
        "outputId": "b99b0455-3de9-4cab-8056-3401eea4c5a2"
      },
      "execution_count": 18,
      "outputs": [
        {
          "output_type": "stream",
          "name": "stdout",
          "text": [
            "Enter a number: 5\n",
            "Factorial of 5 is: 120\n"
          ]
        }
      ]
    }
  ]
}