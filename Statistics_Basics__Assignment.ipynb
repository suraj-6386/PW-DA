{
  "nbformat": 4,
  "nbformat_minor": 0,
  "metadata": {
    "colab": {
      "provenance": []
    },
    "kernelspec": {
      "name": "python3",
      "display_name": "Python 3"
    },
    "language_info": {
      "name": "python"
    }
  },
  "cells": [
    {
      "cell_type": "markdown",
      "source": [
        "# Statistics Basics Assignment"
      ],
      "metadata": {
        "id": "4_rsAXJPBvnQ"
      }
    },
    {
      "cell_type": "markdown",
      "source": [
        "## Question 1: What is the difference between descriptive statistics and inferential statistics? Explain with examples.\n",
        "\n",
        "Answer:\n",
        "# 1. Descriptive Statistics\n",
        "**Definition:**  \n",
        "Descriptive statistics summarize and describe the main features of a dataset.  \n",
        "\n",
        "**Purpose:**  \n",
        "They help us understand what the data looks like without making predictions or generalizations.  \n",
        "\n",
        "**Examples of Techniques:**  \n",
        "- **Measures of Central Tendency:** Mean, Median, Mode  \n",
        "- **Measures of Dispersion:** Range, Variance, Standard Deviation  \n",
        "- **Data Visualization:** Bar charts, Pie charts, Histograms  \n",
        "\n",
        "**Example:**  \n",
        "A teacher collects marks of 50 students in a class.  \n",
        "- Average (mean) marks = 65  \n",
        "- Highest mark = 95  \n",
        "- Lowest mark = 32  \n",
        "- Standard deviation = 10  \n",
        "\n",
        " This is descriptive because it only tells us about that particular class’s data, nothing beyond it.  \n",
        "\n",
        "\n",
        "# 2. Inferential Statistics\n",
        "**Definition:**  \n",
        "Inferential statistics use data from a sample to make conclusions, predictions, or generalizations about a larger population.  \n",
        "\n",
        "**Purpose:**  \n",
        "To infer, test hypotheses, or estimate population parameters based on sample data.  \n",
        "\n",
        "**Examples of Techniques:**  \n",
        "- **Hypothesis Testing:** t-test, chi-square test, ANOVA  \n",
        "- **Confidence Intervals**  \n",
        "- **Regression Analysis**  \n",
        "- **Correlation**  \n",
        "\n",
        "**Example:**  \n",
        "Instead of asking all 10,000 students in a university, the teacher randomly selects 200 students and finds their average marks = 67.  \n",
        "\n",
        "Using inferential statistics, the teacher estimates that the average marks of all university students lie between **65 and 69 (with 95% confidence).**  \n",
        "\n",
        " This goes beyond the sample to the whole population.\n"
      ],
      "metadata": {
        "id": "lN6bSQ2CByp7"
      }
    },
    {
      "cell_type": "markdown",
      "source": [
        "### Question 2: What is sampling in statistics? Explain the differences between random and stratified sampling.\n",
        "\n",
        "Answer:\n",
        "# Sampling in Statistics\n",
        "\n",
        "**Definition:**  \n",
        "Sampling is the process of selecting a subset (**sample**) from a larger group (**population**) to analyze, so we can make conclusions about the whole population.  \n",
        "\n",
        "**Why it’s needed:**  \n",
        "Studying an entire population is often expensive, time-consuming, or impossible.  \n",
        "A properly chosen sample saves time and still gives reliable results.  \n",
        "\n",
        "**Example:**  \n",
        "A company with 10,000 employees wants to know the average salary.  \n",
        "Instead of asking all 10,000, they survey 500 employees (the sample).  \n",
        "\n",
        "\n",
        "\n",
        "## 1. Random Sampling\n",
        "**Definition:**  \n",
        "Every individual in the population has an equal chance of being selected.  \n",
        "\n",
        "**Purpose:**  \n",
        "To avoid bias and ensure representativeness.  \n",
        "\n",
        "**Method:**  \n",
        "Use random numbers, lottery method, or software to select individuals.  \n",
        "\n",
        "**Example:**  \n",
        "If a school has 1,000 students, and you want 100 samples, you randomly pick 100 roll numbers out of 1,000.  \n",
        " Each student has the same chance of selection.  \n",
        "\n",
        "\n",
        "\n",
        "## 2. Stratified Sampling\n",
        "**Definition:**  \n",
        "The population is divided into groups (called **strata**) based on some characteristic (e.g., gender, age, income), and then samples are taken proportionally from each stratum.  \n",
        "\n",
        "**Purpose:**  \n",
        "To ensure representation from all important subgroups.  \n",
        "\n",
        "**Method:**  \n",
        "**Divide → Stratify → Randomly select within each stratum.**  \n",
        "\n",
        "**Example:**  \n",
        "In a school of 1,000 students:  \n",
        "- 600 boys, 400 girls  \n",
        "\n",
        "If you need a sample of 100 students, you don’t just pick randomly (which might give 80 boys and 20 girls).  \n",
        " Instead, you take **60 boys and 40 girls** (proportional to the population).  \n"
      ],
      "metadata": {
        "id": "SE24scOQCSDT"
      }
    },
    {
      "cell_type": "markdown",
      "source": [
        "### Question 3: Define mean, median, and mode. Explain why these measures of central tendency are important.\n",
        "\n",
        "Answer:\n",
        "# Measures of Central Tendency\n",
        "\n",
        "\n",
        "## 1. Mean (Arithmetic Average)\n",
        "\n",
        "**Definition:**  \n",
        "The mean is the sum of all values divided by the number of values.  \n",
        "\n",
        "**Formula:**  \n",
        "Mean = Sum of all observations\\Number of observations\n",
        "\n",
        "**Example:**  \n",
        "Marks = {10, 20, 30, 40, 50}  \n",
        "Mean = (10 + 20 + 30 + 40 + 50)/5 = 30\n",
        "\n",
        "\n",
        "## 2. Median\n",
        "\n",
        "**Definition:**  \n",
        "The median is the middle value when the data is arranged in ascending (or descending) order.  \n",
        "\n",
        "- If **n** is odd → Median = Middle value  \n",
        "- If **n** is even → Median = Average of two middle values  \n",
        "\n",
        "**Examples:**  \n",
        "- Marks = {10, 20, 30, 40, 50} → Median = 30 (middle value)  \n",
        "- Marks = {10, 20, 30, 40} → Median = (20 + 30) ÷ 2 = 25  \n",
        "\n",
        "\n",
        "## 3. Mode\n",
        "\n",
        "**Definition:**  \n",
        "The mode is the value that appears most frequently in the dataset.  \n",
        "\n",
        "**Example:**  \n",
        "Marks = {10, 20, 20, 30, 40, 40, 40, 50}  \n",
        " Mode = 40 (appears most often).  \n",
        "\n",
        "\n",
        "## 4. Importance of Mean, Median, and Mode\n",
        "\n",
        "These are called **Measures of Central Tendency** because they describe the \"center\" or \"typical value\" of data.  \n",
        "\n",
        "**Why they are important:**  \n",
        "1. **Summarization** – Reduce a large dataset to a single representative value.  \n",
        "2. **Comparison** – Useful in comparing two or more datasets (e.g., average income of two cities).  \n",
        "3. **Decision-making** – Applied in economics, business, education, and research for quick conclusions.  \n",
        "4. **Handling Different Data:**  \n",
        "   - **Mean:** Best for numerical and continuous data.  \n",
        "   - **Median:** Useful when data has extreme values (outliers), e.g., income distribution.  \n",
        "   - **Mode:** Useful for categorical data (e.g., most popular product color).  \n",
        "\n"
      ],
      "metadata": {
        "id": "LwT1OO4nCiiJ"
      }
    },
    {
      "cell_type": "markdown",
      "source": [
        "### Question 4: Explain skewness and kurtosis. What does a positive skew imply about the data?\n",
        "\n",
        "Answer:\n",
        "# Skewness and Kurtosis\n",
        "\n",
        "\n",
        "## 1. Skewness\n",
        "\n",
        "**Definition:**  \n",
        "Skewness measures the **asymmetry** of a data distribution.  \n",
        "\n",
        "**Types:**  \n",
        "- **Symmetrical distribution:** Mean = Median = Mode  \n",
        "- **Positive Skew (Right skew):** Tail is longer on the right side  \n",
        "- **Negative Skew (Left skew):** Tail is longer on the left side  \n",
        "\n",
        "**Examples:**  \n",
        "- **Positive Skew:** Income distribution (a few people earn very high salaries, most earn average or low).  \n",
        "- **Negative Skew:** Age at retirement (most people retire around the same age, but a few retire very early).  \n",
        "\n",
        "\n",
        "## 2. Kurtosis\n",
        "\n",
        "**Definition:**  \n",
        "Kurtosis measures the **\"tailedness\"** or the **peakedness** of a distribution compared to a normal distribution.  \n",
        "\n",
        "**Types:**  \n",
        "- **Mesokurtic (k = 3):** Normal bell-shaped curve  \n",
        "- **Leptokurtic (k > 3):** Sharper peak, fatter tails (more extreme values)  \n",
        "- **Platykurtic (k < 3):** Flatter peak, thinner tails  \n",
        "\n",
        "**Examples:**  \n",
        "- **Leptokurtic:** Stock market returns (many extreme highs/lows).  \n",
        "- **Platykurtic:** Uniform test scores (students scoring evenly across range).  \n",
        "\n",
        "\n",
        "## 3. What Does Positive Skew Imply?\n",
        "\n",
        "- The distribution has a long **right tail**.  \n",
        "- Most data points are concentrated on the **left side**, with a few large values pulling the mean to the right.  \n",
        "- **Relationship:**  \n",
        "Mean > Median > Mode  \n",
        "\n",
        "**Example (Salary Data):**  \n",
        "- Mode = ₹20,000  \n",
        "- Median = ₹25,000  \n",
        "- Mean = ₹40,000 (pulled up by very high salaries of a few executives)  \n",
        " This shows that most employees earn less than the mean, but a few earn much more.  \n"
      ],
      "metadata": {
        "id": "lfiX7Mb8DEtQ"
      }
    },
    {
      "cell_type": "markdown",
      "source": [
        "### Question 5: Implement a Python program to compute the mean, median, and mode of a given list of numbers.\n",
        "### numbers = [12, 15, 12, 18, 19, 12, 20, 22, 19, 19, 24, 24, 24, 26, 28]\n",
        "\n"
      ],
      "metadata": {
        "id": "dHiPtm_uDfAc"
      }
    },
    {
      "cell_type": "code",
      "execution_count": null,
      "metadata": {
        "colab": {
          "base_uri": "https://localhost:8080/"
        },
        "id": "hTsXDnKsjCFO",
        "outputId": "ca95f867-6805-43a8-eb0f-5831f3a46659"
      },
      "outputs": [
        {
          "output_type": "stream",
          "name": "stdout",
          "text": [
            "Numbers: [12, 15, 12, 18, 19, 12, 20, 22, 19, 19, 24, 24, 24, 26, 28]\n",
            "Mean: 19.6\n",
            "Median: 19\n",
            "Mode: 12\n"
          ]
        }
      ],
      "source": [
        "# Question 5: Compute Mean, Median, and Mode\n",
        "\n",
        "import statistics as stats\n",
        "\n",
        "# Given data\n",
        "numbers = [12, 15, 12, 18, 19, 12, 20, 22, 19, 19, 24, 24, 24, 26, 28]\n",
        "\n",
        "# Calculations\n",
        "mean_value = stats.mean(numbers)\n",
        "median_value = stats.median(numbers)\n",
        "mode_value = stats.mode(numbers)   # If multiple modes, picks the first one\n",
        "\n",
        "print(\"Numbers:\", numbers)\n",
        "print(\"Mean:\", mean_value)\n",
        "print(\"Median:\", median_value)\n",
        "print(\"Mode:\", mode_value)"
      ]
    },
    {
      "cell_type": "markdown",
      "source": [
        "### Question 6: Compute the covariance and correlation coefficient between the following two datasets provided as lists in Python:\n",
        "### list_x = [10, 20, 30, 40, 50]\n",
        "### list_y = [15, 25, 35, 45, 60]\n"
      ],
      "metadata": {
        "id": "PGorjG2TDsk0"
      }
    },
    {
      "cell_type": "code",
      "source": [
        "# Question 6: Compute Covariance and Correlation Coefficient\n",
        "\n",
        "import numpy as np\n",
        "\n",
        "# Given data\n",
        "list_x = [10, 20, 30, 40, 50]\n",
        "list_y = [15, 25, 35, 45, 60]\n",
        "\n",
        "# Convert to numpy arrays\n",
        "x = np.array(list_x)\n",
        "y = np.array(list_y)\n",
        "\n",
        "# Mean of x and y\n",
        "mean_x = np.mean(x)\n",
        "mean_y = np.mean(y)\n",
        "\n",
        "# Covariance calculation\n",
        "covariance = np.sum((x - mean_x) * (y - mean_y)) / (len(x) - 1)\n",
        "\n",
        "# Correlation calculation\n",
        "correlation = np.corrcoef(x, y)[0, 1]\n",
        "\n",
        "print(\"List X:\", list_x)\n",
        "print(\"List Y:\", list_y)\n",
        "print(\"Mean of X:\", mean_x)\n",
        "print(\"Mean of Y:\", mean_y)\n",
        "print(\"Covariance:\", covariance)\n",
        "print(\"Correlation Coefficient:\", correlation)\n"
      ],
      "metadata": {
        "colab": {
          "base_uri": "https://localhost:8080/"
        },
        "id": "DA_jzyNsjHIV",
        "outputId": "e21de49a-18c6-4b3f-8d54-c3824514b7d8"
      },
      "execution_count": null,
      "outputs": [
        {
          "output_type": "stream",
          "name": "stdout",
          "text": [
            "List X: [10, 20, 30, 40, 50]\n",
            "List Y: [15, 25, 35, 45, 60]\n",
            "Mean of X: 30.0\n",
            "Mean of Y: 36.0\n",
            "Covariance: 275.0\n",
            "Correlation Coefficient: 0.995893206467704\n"
          ]
        }
      ]
    },
    {
      "cell_type": "markdown",
      "source": [
        "### Question 7: Write a Python script to draw a boxplot for the following numeric list and identify its outliers. Explain the result:\n",
        "### data = [12, 14, 14, 15, 18, 19, 19, 21, 22, 22, 23, 23, 24, 26, 29, 35]\n"
      ],
      "metadata": {
        "id": "iijcGrHHD0yr"
      }
    },
    {
      "cell_type": "code",
      "source": [
        "# Question 7: Boxplot and Outlier Detection\n",
        "\n",
        "import matplotlib.pyplot as plt\n",
        "import seaborn as sns\n",
        "import numpy as np\n",
        "\n",
        "# Given data\n",
        "data = [12, 14, 14, 15, 18, 19, 19, 21, 22, 22, 23, 23, 24, 26, 29, 35]\n",
        "\n",
        "# Create boxplot\n",
        "plt.figure(figsize=(6,4))\n",
        "sns.boxplot(data=data, color=\"skyblue\")\n",
        "plt.title(\"Boxplot of Given Data\")\n",
        "plt.xlabel(\"Values\")\n",
        "plt.show()\n",
        "\n",
        "# Outlier detection using IQR\n",
        "Q1 = np.percentile(data, 25)   # 1st Quartile\n",
        "Q3 = np.percentile(data, 75)   # 3rd Quartile\n",
        "IQR = Q3 - Q1\n",
        "\n",
        "# Define outlier boundaries\n",
        "lower_bound = Q1 - 1.5 * IQR\n",
        "upper_bound = Q3 + 1.5 * IQR\n",
        "\n",
        "# Find outliers\n",
        "outliers = [x for x in data if x < lower_bound or x > upper_bound]\n",
        "\n",
        "print(\"Q1 (25th percentile):\", Q1)\n",
        "print(\"Q3 (75th percentile):\", Q3)\n",
        "print(\"IQR:\", IQR)\n",
        "print(\"Lower Bound:\", lower_bound)\n",
        "print(\"Upper Bound:\", upper_bound)\n",
        "print(\"Outliers:\", outliers)\n"
      ],
      "metadata": {
        "colab": {
          "base_uri": "https://localhost:8080/",
          "height": 505
        },
        "id": "H9-YhXUzjMRC",
        "outputId": "aa011758-6c83-4cfb-d279-21392e2efe3e"
      },
      "execution_count": null,
      "outputs": [
        {
          "output_type": "display_data",
          "data": {
            "text/plain": [
              "<Figure size 600x400 with 1 Axes>"
            ],
            "image/png": "[encoded data removed]"
          },
          "metadata": {}
        },
        {
          "output_type": "stream",
          "name": "stdout",
          "text": [
            "Q1 (25th percentile): 17.25\n",
            "Q3 (75th percentile): 23.25\n",
            "IQR: 6.0\n",
            "Lower Bound: 8.25\n",
            "Upper Bound: 32.25\n",
            "Outliers: [35]\n"
          ]
        }
      ]
    },
    {
      "cell_type": "markdown",
      "source": [
        "### Question 8: You are working as a data analyst in an e-commerce company. The marketing team wants to know if there is a relationship between advertising spend and daily sales.\n",
        "### ● Explain how you would use covariance and correlation to explore this relationship.\n",
        "### ● Write Python code to compute the correlation between the two lists:\n",
        "### advertising_spend = [200, 250, 300, 400, 500]\n",
        "### daily_sales = [2200, 2450, 2750, 3200, 4000]\n",
        "---\n",
        "### Answer:\n",
        "\n",
        "Step 1: How to Use Covariance and Correlation\n",
        "\n",
        "Covariance\n",
        "**Definition:**  \n",
        "Covariance tells whether two variables move together.  \n",
        "\n",
        "- If **positive** → as advertising spend increases, sales also increase.  \n",
        "- If **negative** → as advertising spend increases, sales decrease.  \n",
        "\n",
        "**Problem:**  \n",
        "Magnitude is hard to interpret because it depends on units.  \n",
        "\n",
        " Correlation (r)\n",
        "**Definition:**  \n",
        "Correlation is a **standardized measure** of the relationship between two variables.  \n",
        "\n",
        "- Always between **-1 and +1**  \n",
        "- **r ≈ +1** → Strong positive linear relationship  \n",
        "- **r ≈ -1** → Strong negative linear relationship  \n",
        "- **r ≈ 0** → Little or no linear relationship  \n",
        "\n",
        "**Advantage:**  \n",
        "Correlation is **unit-free** and easier to interpret than covariance.  \n",
        "\n",
        " Summary\n",
        "- **Covariance** → Direction of relationship (positive or negative).  \n",
        "- **Correlation** → Strength of relationship (how strongly variables are related).  \n",
        "- Process: First check **covariance (direction)**, then **correlation (strength)**.  \n"
      ],
      "metadata": {
        "id": "mODkDoomD6sz"
      }
    },
    {
      "cell_type": "code",
      "source": [
        "# Question 8: Relationship between Advertising Spend and Daily Sales\n",
        "\n",
        "import numpy as np\n",
        "\n",
        "# Given data\n",
        "advertising_spend = [200, 250, 300, 400, 500]\n",
        "daily_sales = [2200, 2450, 2750, 3200, 4000]\n",
        "\n",
        "# Convert to numpy arrays\n",
        "x = np.array(advertising_spend)\n",
        "y = np.array(daily_sales)\n",
        "\n",
        "# Means\n",
        "mean_x = np.mean(x)\n",
        "mean_y = np.mean(y)\n",
        "\n",
        "# Covariance\n",
        "covariance = np.sum((x - mean_x) * (y - mean_y)) / (len(x) - 1)\n",
        "\n",
        "# Correlation\n",
        "correlation = np.corrcoef(x, y)[0, 1]\n",
        "\n",
        "# Output\n",
        "print(\"Advertising Spend:\", advertising_spend)\n",
        "print(\"Daily Sales:\", daily_sales)\n",
        "print(\"Mean of Advertising Spend:\", mean_x)\n",
        "print(\"Mean of Daily Sales:\", mean_y)\n",
        "print(\"Covariance:\", covariance)\n",
        "print(\"Correlation Coefficient:\", correlation)\n"
      ],
      "metadata": {
        "colab": {
          "base_uri": "https://localhost:8080/"
        },
        "id": "J_y-NiWikSrB",
        "outputId": "e3ff0346-5f40-4cb5-fc35-58f445c653dc"
      },
      "execution_count": null,
      "outputs": [
        {
          "output_type": "stream",
          "name": "stdout",
          "text": [
            "Advertising Spend: [200, 250, 300, 400, 500]\n",
            "Daily Sales: [2200, 2450, 2750, 3200, 4000]\n",
            "Mean of Advertising Spend: 330.0\n",
            "Mean of Daily Sales: 2920.0\n",
            "Covariance: 84875.0\n",
            "Correlation Coefficient: 0.9935824101653329\n"
          ]
        }
      ]
    },
    {
      "cell_type": "markdown",
      "source": [
        "### Question 9: Your team has collected customer satisfaction survey data on a scale of 1-10 and wants to understand its distribution before launching a new product.\n",
        "### ● Explain which summary statistics and visualizations (e.g. mean, standard deviation, histogram) you’d use.\n",
        "### ● Write Python code to create a histogram using Matplotlib for the survey data:\n",
        "### survey_scores = [7, 8, 5, 9, 6, 7, 8, 9, 10, 4, 7, 6, 9, 8, 7]\n",
        "\n",
        "---\n",
        "### Answer:\n",
        "\n",
        "Step 1: Summary Statistics & Visualizations\n",
        "\n",
        "To understand the distribution of customer satisfaction survey data (scale **1–10**), we should use:\n",
        "\n",
        " 1. Mean (Average)  \n",
        "Shows the **central tendency** (overall satisfaction level).  \n",
        "\n",
        "2. Median  \n",
        "Useful if data is **skewed**.  \n",
        "\n",
        "3. Mode  \n",
        "Shows the **most common rating** given by customers.  \n",
        "\n",
        " 4. Standard Deviation (SD)  \n",
        "Tells how spread out the scores are:  \n",
        "- **High SD** → Varied opinions  \n",
        "- **Low SD** → Consistent opinions  \n",
        "\n",
        " 5. Histogram  \n",
        "Visualizes the **frequency distribution** (how many customers gave each score).  \n",
        "\n",
        " 6. Boxplot  \n",
        "Detects **outliers** and shows the spread of scores.  \n",
        "\n",
        "## Conclusion  \n",
        "Together, these will tell us whether customers are:  \n",
        "- **Generally satisfied** → High scores clustered near **7–10**  \n",
        "- **Divided in opinion** → Scores spread widely across the scale  \n"
      ],
      "metadata": {
        "id": "RKh-0KDHEm1q"
      }
    },
    {
      "cell_type": "code",
      "source": [
        "# Question 9: Distribution of Survey Data\n",
        "\n",
        "import matplotlib.pyplot as plt\n",
        "import numpy as np\n",
        "import statistics as stats\n",
        "\n",
        "# Given data\n",
        "survey_scores = [7, 8, 5, 9, 6, 7, 8, 9, 10, 4, 7, 6, 9, 8, 7]\n",
        "\n",
        "# Summary Statistics\n",
        "mean_score = stats.mean(survey_scores)\n",
        "median_score = stats.median(survey_scores)\n",
        "mode_score = stats.mode(survey_scores)\n",
        "std_dev = np.std(survey_scores, ddof=1)  # sample standard deviation\n",
        "\n",
        "print(\"Mean:\", mean_score)\n",
        "print(\"Median:\", median_score)\n",
        "print(\"Mode:\", mode_score)\n",
        "print(\"Standard Deviation:\", std_dev)\n",
        "\n",
        "# Histogram\n",
        "plt.figure(figsize=(6,4))\n",
        "plt.hist(survey_scores, bins=6, color=\"skyblue\", edgecolor=\"black\")\n",
        "plt.title(\"Histogram of Customer Satisfaction Scores\")\n",
        "plt.xlabel(\"Survey Score (1–10)\")\n",
        "plt.ylabel(\"Frequency\")\n",
        "plt.show()\n"
      ],
      "metadata": {
        "colab": {
          "base_uri": "https://localhost:8080/",
          "height": 483
        },
        "id": "x7MV8AmKmA0t",
        "outputId": "4b1b7c8f-2e3e-42e7-fef9-1e6886814007"
      },
      "execution_count": null,
      "outputs": [
        {
          "output_type": "stream",
          "name": "stdout",
          "text": [
            "Mean: 7.333333333333333\n",
            "Median: 7\n",
            "Mode: 7\n",
            "Standard Deviation: 1.632993161855452\n"
          ]
        },
        {
          "output_type": "display_data",
          "data": {
            "text/plain": [
              "<Figure size 600x400 with 1 Axes>"
            ],
            "image/png": "[encoded data removed]"
          },
          "metadata": {}
        }
      ]
    },
    {
      "cell_type": "code",
      "source": [],
      "metadata": {
        "id": "kR3QAEB_nBPd"
      },
      "execution_count": null,
      "outputs": []
    }
  ]
}