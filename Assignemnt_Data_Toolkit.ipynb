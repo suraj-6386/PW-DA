{
  "nbformat": 4,
  "nbformat_minor": 0,
  "metadata": {
    "colab": {
      "provenance": []
    },
    "kernelspec": {
      "name": "python3",
      "display_name": "Python 3"
    },
    "language_info": {
      "name": "python"
    }
  },
  "cells": [
    {
      "cell_type": "markdown",
      "source": [
        "# Data Toolkit Assignment"
      ],
      "metadata": {
        "id": "13WgYLA7XNsb"
      }
    },
    {
      "cell_type": "markdown",
      "source": [
        "## Theory Questions"
      ],
      "metadata": {
        "id": "ai1clptFXTHy"
      }
    },
    {
      "cell_type": "markdown",
      "source": [
        "### 1. What is NumPy, and why is it widely used in Python?\n",
        "\n",
        "NumPy (Numerical Python) is a powerful Python library used for numerical and scientific computing. It provides a high-performance multidimensional array object called ndarray and functions for performing mathematical operations on arrays.\n",
        "\n",
        "Why is NumPy widely used?\n",
        "* Fast: Performs operations much faster than regular Python lists.\n",
        "\n",
        "* Efficient: Uses less memory and supports large datasets.\n",
        "\n",
        "* Mathematical Functions: Includes built-in functions for linear algebra, statistics, etc.\n",
        "\n",
        "* Foundation Library: Other libraries like Pandas, SciPy, and TensorFlow are built on it.\n",
        "\n",
        "* Supports Broadcasting: Allows operations between arrays of different shapes."
      ],
      "metadata": {
        "id": "62Uf0bagXV6B"
      }
    },
    {
      "cell_type": "markdown",
      "source": [
        "### 2. How does broadcasting work in NumPy?\n",
        "\n",
        "Broadcasting is a method that allows NumPy to perform operations on arrays of different shapes without copying data.\n",
        "\n",
        "How it Works (Point-wise):\n",
        "* NumPy compares array shapes from right to left.\n",
        "\n",
        "* If dimensions are equal or one of them is 1, they are compatible.\n",
        "\n",
        "* The smaller array is “broadcast” (stretched) to match the shape of the larger array.\n",
        "\n",
        "* The operation is then performed element-wise."
      ],
      "metadata": {
        "id": "aS2gEvawXzHf"
      }
    },
    {
      "cell_type": "markdown",
      "source": [
        "### 3. What is a Pandas DataFrame?\n",
        "\n",
        "A DataFrame is a 2-dimensional, tabular data structure provided by the Pandas library.\n",
        "It is similar to an Excel spreadsheet or a SQL table.\n",
        "It consists of rows and columns, where each column can have a different data type.\n",
        "\n",
        "Key Features:\n",
        "\n",
        " Labeled axes (rows = index, columns = column names).\n",
        "\n",
        " Easy to load data from CSV, Excel, SQL, etc.\n",
        "\n",
        " Supports data selection, filtering, and manipulation.\n",
        "\n",
        " Ideal for data analysis and cleaning."
      ],
      "metadata": {
        "id": "IiM6_ipnX7aY"
      }
    },
    {
      "cell_type": "markdown",
      "source": [
        "### 4. Explain the use of the groupby() method in Pandas.\n",
        "\n",
        "The groupby() method is used to group data based on one or more columns.\n",
        "\n",
        "It helps in performing split → apply → combine operations on datasets.\n",
        "\n",
        "Use of groupby() (Point-wise):\n",
        "* Splits the data into groups based on column values.\n",
        "\n",
        "* Applies a function like sum(), mean(), count(), etc., to each group.\n",
        "\n",
        "* Combines the result back into a new DataFrame."
      ],
      "metadata": {
        "id": "7NniDrFWYGpf"
      }
    },
    {
      "cell_type": "markdown",
      "source": [
        "### 5.  Why is Seaborn preferred for statistical visualizations?\n",
        "\n",
        "1. Beautiful and Informative Charts:\n",
        "Seaborn creates attractive, high-level statistical plots by default.\n",
        "\n",
        "2. Built-in Statistical Functions:\n",
        "It supports plots like box plots, violin plots, histograms, KDEs, etc., which are useful for statistical analysis.\n",
        "\n",
        "3. Works Well with Pandas:\n",
        "Accepts DataFrames directly, making plotting simple and intuitive.\n",
        "\n",
        "4. Automatic Handling of Complex Visuals:\n",
        "Seaborn simplifies grouping, aggregation, and multi-variable plotting.\n",
        "\n",
        "5. Less Code, More Power:\n",
        "Complex statistical plots can be created with very few lines of code.\n",
        "\n"
      ],
      "metadata": {
        "id": "R77MYLH-YQPC"
      }
    },
    {
      "cell_type": "markdown",
      "source": [
        "### 6. What are the differences between NumPy arrays and Python lists?\n",
        "\n",
        "1.  **Performance**:\n",
        "\n",
        "   * NumPy arrays are **faster** and more **memory-efficient** than Python lists.\n",
        "\n",
        "2.  **Data Type**:\n",
        "\n",
        "   * NumPy arrays hold elements of **the same data type**.\n",
        "   * Python lists can hold **mixed data types**.\n",
        "\n",
        "3.  **Mathematical Operations**:\n",
        "\n",
        "   * NumPy supports **element-wise operations** (e.g., `a * 2`).\n",
        "   * Python lists need loops for such operations.\n",
        "\n",
        "4.  **Functionality**:\n",
        "\n",
        "   * NumPy provides many **built-in mathematical functions**.\n",
        "   * Lists do not support such operations directly.\n",
        "\n",
        "5.  **Memory Usage**:\n",
        "\n",
        "   * NumPy arrays use **less memory** and are more efficient for large data.\n"
      ],
      "metadata": {
        "id": "R4UXdTFhYfOO"
      }
    },
    {
      "cell_type": "markdown",
      "source": [
        "### 7. What is a heatmap, and when should it be used?\n",
        "\n",
        "A heatmap is a data visualization technique that uses colors to represent the values of a matrix or 2D data.\n",
        "\n",
        "It shows how data varies across two dimensions, using color intensity.\n",
        "\n",
        " When Should It Be Used?\n",
        "*  To visualize correlations between variables (e.g., correlation matrix in data analysis).\n",
        "\n",
        "* To detect patterns, trends, or outliers in large datasets.\n",
        "\n",
        "*  Useful for comparing values across multiple rows and columns.\n",
        "\n",
        "*  Often used in machine learning, statistics, and bioinformatics.\n",
        "\n"
      ],
      "metadata": {
        "id": "hBP_vyVNYu7Q"
      }
    },
    {
      "cell_type": "markdown",
      "source": [
        "### 8.  What does the term “vectorized operation” mean in NumPy?\n",
        "\n",
        "* A vectorized operation means performing operations on entire arrays without using loops.\n",
        "\n",
        "* It allows fast, element-wise computations using optimized C code under the hood.\n",
        "\n",
        "* Eliminates the need for for loops in most cases.\n",
        "\n",
        "* Makes the code shorter, cleaner, and faster.\n",
        "\n",
        "* Operates on arrays element by element automatically."
      ],
      "metadata": {
        "id": "jA-O8FgUY5SN"
      }
    },
    {
      "cell_type": "markdown",
      "source": [
        "### 9. How does Matplotlib differ from Plotly?\n",
        "\n",
        "\n",
        "1.  **Type of Library**:\n",
        "\n",
        "   * **Matplotlib** is mainly for **static plots**.\n",
        "   * **Plotly** creates **interactive and web-based plots**.\n",
        "\n",
        "2.  **Ease of Interactivity**:\n",
        "\n",
        "   * Matplotlib plots are **not interactive** by default.\n",
        "   * Plotly plots support **hover, zoom, pan**, etc.\n",
        "\n",
        "3.  **Customization**:\n",
        "\n",
        "   * Matplotlib allows **full customization** but can be complex.\n",
        "   * Plotly has **easier interactive customization** with less code.\n",
        "\n",
        "4.  **Output Format**:\n",
        "\n",
        "   * Matplotlib is good for **print-ready figures** (PDF, PNG).\n",
        "   * Plotly is ideal for **dashboards and web apps** (HTML, JSON).\n",
        "\n",
        "5.  **Learning Curve**:\n",
        "\n",
        "   * Matplotlib has a **steeper learning curve**.\n",
        "   * Plotly is **user-friendly** for beginners working with interactive visuals.\n"
      ],
      "metadata": {
        "id": "LzXLplvrZHSq"
      }
    },
    {
      "cell_type": "markdown",
      "source": [
        "### 10. What is the significance of hierarchical indexing in Pandas?\n",
        "\n",
        "Hierarchical indexing (also called MultiIndexing) allows a Pandas DataFrame or Series to have multiple levels of indexing (rows or columns).\n",
        "\n",
        "It enables working with higher-dimensional data in a 2D format.\n",
        "\n",
        "Significance of Hierarchical Indexing:\n",
        "* Organizes complex datasets using multiple index levels (like Year, Month, Region, etc.).\n",
        "\n",
        "* Makes grouped data easier to access, slice, and analyze.\n",
        "\n",
        "* Supports advanced reshaping (like stack(), unstack()).\n",
        "\n",
        "* Helps in cleaner representation of multi-dimensional data."
      ],
      "metadata": {
        "id": "B9OX-dD1ZUob"
      }
    },
    {
      "cell_type": "markdown",
      "source": [
        "### 11. What is the role of Seaborn’s pairplot() function?\n",
        "\n",
        "The pairplot() function in Seaborn is used to visualize relationships between multiple numerical features in a dataset.\n",
        "\n",
        "It creates a grid of scatter plots for each pair of features and histograms/ KDE plots on the diagonal.\n",
        "\n",
        "Key Roles and Uses:\n",
        "* Helps in exploring pairwise relationships between variables.\n",
        "\n",
        "* Useful for detecting patterns, clusters, or correlations.\n",
        "\n",
        "* Can color-code data points using a categorical column with the hue parameter.\n",
        "\n",
        "* Great for initial data analysis in machine learning or statistics."
      ],
      "metadata": {
        "id": "vhnh07jFZg_l"
      }
    },
    {
      "cell_type": "markdown",
      "source": [
        "### 12. What is the purpose of the describe() function in Pandas?\n",
        "\n",
        "The describe() function in Pandas provides summary statistics of a DataFrame or Series.\n",
        "\n",
        "Key Uses:\n",
        "*  Gives quick insights into numerical data.\n",
        "\n",
        "*  Returns count, mean, std deviation, min, max, and quartiles (25%, 50%, 75%).\n",
        "\n",
        "*  Helps in understanding data distribution and spotting outliers.\n",
        "\n",
        "*  Works on both numerical and categorical data (if specified).\n"
      ],
      "metadata": {
        "id": "wuumVw1rZuoo"
      }
    },
    {
      "cell_type": "markdown",
      "source": [
        "### 13. Why is handling missing data important in Pandas?\n",
        "\n",
        "1. Ensures Data Accuracy:\n",
        "Missing values can lead to incorrect analysis or results.\n",
        "\n",
        "2. Prevents Errors:\n",
        "Many functions break or behave unexpectedly with missing data.\n",
        "\n",
        "3.  Improves Model Performance:\n",
        "In machine learning, missing data can negatively affect training and predictions.\n",
        "\n",
        "4. Enables Clean Visualizations:\n",
        "Charts and plots may look incomplete or misleading if missing data is not handled.\n",
        "\n",
        "5. Maintains Data Integrity:\n",
        "Helps in creating a complete, consistent, and usable dataset."
      ],
      "metadata": {
        "id": "bR2xJK4uZ4lx"
      }
    },
    {
      "cell_type": "markdown",
      "source": [
        "### 14. What are the benefits of using Plotly for data visualization?\n",
        "\n",
        "Benefits of Using Plotly for Data Visualization:\n",
        "1. Interactive Plots:\n",
        "Supports zoom, pan, hover tooltips, and clickable legends.\n",
        "\n",
        "2. Web-Friendly:\n",
        "Generates HTML-based plots, ideal for web apps and dashboards.\n",
        "\n",
        "3. Easy to Use:\n",
        "Simple syntax for creating advanced and attractive visualizations.\n",
        "\n",
        "4. Supports Multiple Chart Types:\n",
        "Bar, line, scatter, pie, 3D plots, maps, and more.\n",
        "\n",
        "5. Integrates with Dash:\n",
        "Works well with Dash framework for building interactive data apps.\n",
        "\n",
        "6. High-Quality Visuals:\n",
        "Produces publication-ready and responsive graphics."
      ],
      "metadata": {
        "id": "yt0jaqDhaGR9"
      }
    },
    {
      "cell_type": "markdown",
      "source": [
        "### 15. How does NumPy handle multidimensional arrays?\n",
        "\n",
        "NumPy uses a special object called ndarray to handle multidimensional arrays. These arrays can be 1D, 2D, 3D, or even higher dimensions.\n",
        "\n",
        "Each array has attributes like shape (which tells the size of each dimension) and ndim (which shows the number of dimensions). This makes it easy to work with complex data.\n",
        "\n",
        "NumPy supports element-wise operations, so you can perform math directly on arrays without using loops. This speeds up calculations significantly.\n",
        "\n",
        "Internally, NumPy stores arrays in continuous memory, making it efficient in terms of both speed and memory usage.\n",
        "\n",
        "Because of these features, NumPy is widely used for numerical, scientific, and data analysis tasks in Python."
      ],
      "metadata": {
        "id": "9HcrfFcgaaed"
      }
    },
    {
      "cell_type": "markdown",
      "source": [
        "### 16. What is the role of Bokeh in data visualization?\n",
        "\n",
        "Role of Bokeh in Data Visualization\n",
        "* Bokeh is used to create interactive and real-time data visualizations in Python.\n",
        "\n",
        "* It allows zooming, panning, and hovering, making charts more engaging.\n",
        "\n",
        "* Bokeh outputs charts directly to web browsers using HTML and JavaScript.\n",
        "\n",
        "* It supports various chart types like line, bar, scatter, and pie charts.\n",
        "\n",
        "* It can handle large datasets efficiently and is suitable for big data applications.\n",
        "\n",
        "* Bokeh visualizations can be embedded into websites and dashboards.\n",
        "\n",
        "* It also supports streaming data and real-time plot updates."
      ],
      "metadata": {
        "id": "NZQuqKija0gS"
      }
    },
    {
      "cell_type": "markdown",
      "source": [
        "### 17. Explain the difference between apply() and map() in Pandas\n",
        "\n",
        "\n",
        "1. **Functionality**:\n",
        "\n",
        "   * map() is used only with **Series** (mostly for single columns).\n",
        "   * apply() works with both **Series and DataFrames**.\n",
        "\n",
        "2. **Purpose**:\n",
        "\n",
        "   * map()` is mainly used to **transform** or **substitute** values in a Series.\n",
        "   * apply() is used to **apply a function** along an axis (row or column) of a DataFrame or to each element in a Series.\n",
        "\n",
        "3. **Use Case**:\n",
        "\n",
        "   * Use map() for **element-wise operations** on a Series.\n",
        "   * Use apply() for **row-wise or column-wise** operations in a DataFrame.\n",
        "\n",
        "4. **Flexibility**:\n",
        "\n",
        "   * apply() is more **powerful and flexible** than map().\n",
        "   * map()` is simpler and more limited in use.\n",
        "\n"
      ],
      "metadata": {
        "id": "RRBeOwvZbFxn"
      }
    },
    {
      "cell_type": "markdown",
      "source": [
        "### 18. What are some advanced features of NumPy?\n",
        "\n",
        "Advanced Features of NumPy\n",
        "1. Broadcasting:\n",
        "Allows operations between arrays of different shapes without explicit looping.\n",
        "\n",
        "1. Vectorization:\n",
        "Performs fast element-wise operations without using loops, improving performance.\n",
        "\n",
        "1. Multidimensional Arrays:\n",
        "Supports arrays of any dimension (1D, 2D, 3D, etc.) for complex data handling.\n",
        "\n",
        "1. Linear Algebra Operations:\n",
        "Includes functions like dot product, matrix inversion, eigenvalues, etc.\n",
        "\n",
        "1. Fourier Transform and Signal Processing:\n",
        "Provides tools for frequency-domain analysis using numpy.fft.\n",
        "\n",
        "1. Random Number Generation:\n",
        "Supports random sampling, probability distributions, and reproducible results using numpy.random.\n",
        "\n",
        "1. Masked Arrays:\n",
        "Handles missing or invalid data with numpy.ma (masked array) support.\n",
        "\n",
        "1. Memory Mapping:\n",
        "Allows reading large files without loading them entirely into memory using numpy.memmap.\n",
        "\n",
        "1. Advanced Indexing and Slicing:\n",
        "Enables selection of specific elements using boolean arrays, fancy indexing, or condition-based filters.\n",
        "\n",
        "1. Integration with C/C++ and Fortran:\n",
        "Supports interoperability with other languages for high-performance computing."
      ],
      "metadata": {
        "id": "8e8f0VLMbY8Y"
      }
    },
    {
      "cell_type": "markdown",
      "source": [
        "### 19. How does Pandas simplify time series analysis?\n",
        "\n",
        "\n",
        "Step-by-step explanation:\n",
        "\n",
        "1. Pandas allows you to use datetime objects as index values, which helps in organizing and accessing time-based data easily.\n",
        "\n",
        "1. It can automatically convert strings into proper datetime format using pd.to_datetime(), making date handling simple.\n",
        "\n",
        "1. You can resample your data to different time periods like daily, weekly, or monthly using the resample() function.\n",
        "\n",
        "1. The shift() function lets you move data forward or backward in time, which is useful for creating lag features.\n",
        "\n",
        "1. With rolling(), you can apply rolling statistics such as moving averages or rolling sums on time-based data.\n",
        "\n",
        "1. You can filter or slice data directly by dates, like selecting all rows from a specific month or year.\n",
        "\n",
        "1. Pandas can set or infer the frequency of time series data, such as daily ('D'), monthly ('M'), etc.\n",
        "\n",
        "1. It provides functions like asfreq() and fillna() to handle missing time periods or fill gaps in time series data.\n",
        "\n"
      ],
      "metadata": {
        "id": "4-REgfFrbsqC"
      }
    },
    {
      "cell_type": "markdown",
      "source": [
        "### 20. What is the role of a pivot table in Pandas?\n",
        "\n",
        "* A pivot table is used to summarize and analyze data in a tabular form.\n",
        "\n",
        "* It helps in grouping data based on one or more keys (columns).\n",
        "\n",
        "* You can aggregate values using functions like sum, mean, count, etc.\n",
        "\n",
        "* It is useful for comparing categories or trends across different dimensions.\n",
        "\n",
        "* You can reshape data to make it more readable and meaningful.\n",
        "\n",
        "* The pivot_table() function in Pandas is flexible and powerful for data analysis.\n",
        "\n"
      ],
      "metadata": {
        "id": "yniQ7kVScHx4"
      }
    },
    {
      "cell_type": "markdown",
      "source": [
        "### 21. Why is NumPy’s array slicing faster than Python’s list slicing?\n",
        "\n",
        "NumPy Array Slicing is Faster than Python List Slicing because:\n",
        "* NumPy stores data in a continuous block of memory, so accessing elements is faster.\n",
        "\n",
        "* Slicing a NumPy array creates a view, not a copy, saving time and memory.\n",
        "\n",
        "* Python lists store references to separate objects scattered in memory, making access slower.\n",
        "\n",
        "* When you slice a Python list, it creates a new list by copying elements, which is slower.\n",
        "\n",
        "* NumPy operations run in low-level optimized C code, boosting performance."
      ],
      "metadata": {
        "id": "SDiDyzxucRMH"
      }
    },
    {
      "cell_type": "markdown",
      "source": [
        "### 22. What are some common use cases for Seaborn?\n",
        "\n",
        "Common Use Cases for Seaborn\n",
        "1. Statistical Relationships:\n",
        "Seaborn helps visualize how two variables relate, using scatter plots to show data points and regression plots to highlight trends or correlations.\n",
        "\n",
        "2. Data Distribution:\n",
        "Histograms and KDE plots let you see how data is spread or concentrated, helping understand the distribution and detect patterns like skewness or modality.\n",
        "\n",
        "3. Categorical Data Visualization:\n",
        "Bar plots display summary statistics for categories, while box and violin plots show data spread, central tendency, and distribution shape within categories.\n",
        "\n",
        "4. Correlation Analysis:\n",
        "Heatmaps visualize correlation matrices using colors, making it easy to spot strong or weak relationships between variables. Cluster maps group similar data together visually.\n",
        "\n",
        "5. Multivariate Data Exploration:\n",
        "Pairplots create a grid of scatter plots for every pair of variables to see relationships at a glance. Jointplots focus on two variables, combining scatter and distribution plots.\n",
        "\n",
        "6. Time Series Analysis:\n",
        "Line plots in Seaborn are used to track changes over time, showing trends and seasonal patterns clearly.\n",
        "\n",
        "7. Visual Styling:\n",
        "Seaborn offers built-in themes and color palettes that improve the look of plots, making them more attractive and easier to interpret."
      ],
      "metadata": {
        "id": "Y5wnFHPJcjl9"
      }
    },
    {
      "cell_type": "markdown",
      "source": [
        "## Practical Questions"
      ],
      "metadata": {
        "id": "KGrVmEWgczMv"
      }
    },
    {
      "cell_type": "code",
      "execution_count": 1,
      "metadata": {
        "colab": {
          "base_uri": "https://localhost:8080/"
        },
        "id": "VP05rBHaWQV9",
        "outputId": "ab1ffcbb-acc4-4679-81ff-c1a2668b89f0"
      },
      "outputs": [
        {
          "output_type": "stream",
          "name": "stdout",
          "text": [
            "[ 6 15 24]\n"
          ]
        }
      ],
      "source": [
        "# 1. How do you create a 2D NumPy array and calculate the sum of each row\n",
        "\n",
        "import numpy as np\n",
        "\n",
        "# Create a 2D NumPy array\n",
        "arr = np.array([[1, 2, 3],\n",
        "                [4, 5, 6],\n",
        "                [7, 8, 9]])\n",
        "\n",
        "# Calculate the sum of each row\n",
        "row_sums = np.sum(arr, axis=1)\n",
        "\n",
        "print(row_sums)\n"
      ]
    },
    {
      "cell_type": "code",
      "source": [
        "# 2. Write a Pandas script to find the mean of a specific column in a DataFrame\n",
        "\n",
        "import pandas as pd\n",
        "\n",
        "# Sample DataFrame\n",
        "data = {'Name': ['Alice', 'Bob', 'Charlie'],\n",
        "        'Age': [25, 30, 35],\n",
        "        'Salary': [50000, 60000, 70000]}\n",
        "\n",
        "df = pd.DataFrame(data)\n",
        "\n",
        "# Calculate the mean of the 'Salary' column\n",
        "mean_salary = df['Salary'].mean()\n",
        "\n",
        "print(\"Mean Salary:\", mean_salary)\n"
      ],
      "metadata": {
        "colab": {
          "base_uri": "https://localhost:8080/"
        },
        "id": "FX5iAhMzdJVI",
        "outputId": "a5e19fef-2cda-4b31-d07c-27886cb6f2e8"
      },
      "execution_count": 2,
      "outputs": [
        {
          "output_type": "stream",
          "name": "stdout",
          "text": [
            "Mean Salary: 60000.0\n"
          ]
        }
      ]
    },
    {
      "cell_type": "code",
      "source": [
        "# 3. Create a scatter plot using Matplotlib\n",
        "\n",
        "import matplotlib.pyplot as plt\n",
        "\n",
        "# Sample data\n",
        "x = [1, 2, 3, 4, 5]\n",
        "y = [5, 7, 4, 6, 8]\n",
        "\n",
        "# Create scatter plot\n",
        "plt.scatter(x, y)\n",
        "\n",
        "# Add title and labels\n",
        "plt.title('Sample Scatter Plot')\n",
        "plt.xlabel('X-axis')\n",
        "plt.ylabel('Y-axis')\n",
        "\n",
        "# Show plot\n",
        "plt.show()\n"
      ],
      "metadata": {
        "colab": {
          "base_uri": "https://localhost:8080/",
          "height": 472
        },
        "id": "PXtGuoKLdOF0",
        "outputId": "d0bf1388-00cc-414d-a8ab-3b815d16b83e"
      },
      "execution_count": 3,
      "outputs": [
        {
          "output_type": "display_data",
          "data": {
            "text/plain": [
              "<Figure size 640x480 with 1 Axes>"
            ],
            "image/png": "[encoded data removed]"
          },
          "metadata": {}
        }
      ]
    },
    {
      "cell_type": "code",
      "source": [
        "# 4. How do you calculate the correlation matrix using Seaborn and visualize it with a heatmap\n",
        "\n",
        "import seaborn as sns\n",
        "import pandas as pd\n",
        "import matplotlib.pyplot as plt\n",
        "\n",
        "# Sample DataFrame\n",
        "data = {'A': [1, 2, 3, 4, 5],\n",
        "        'B': [5, 4, 3, 2, 1],\n",
        "        'C': [2, 3, 4, 5, 6]}\n",
        "df = pd.DataFrame(data)\n",
        "\n",
        "# Calculate correlation matrix\n",
        "corr = df.corr()\n",
        "\n",
        "# Plot heatmap of correlation matrix\n",
        "sns.heatmap(corr, annot=True, cmap='coolwarm')\n",
        "\n",
        "plt.title('Correlation Matrix Heatmap')\n",
        "plt.show()\n"
      ],
      "metadata": {
        "colab": {
          "base_uri": "https://localhost:8080/",
          "height": 452
        },
        "id": "bZ0iBmXodT8G",
        "outputId": "dcf3b8b0-fc49-4956-8e81-38a7996a0a10"
      },
      "execution_count": 4,
      "outputs": [
        {
          "output_type": "display_data",
          "data": {
            "text/plain": [
              "<Figure size 640x480 with 2 Axes>"
            ],
            "image/png": "[encoded data removed]"
          },
          "metadata": {}
        }
      ]
    },
    {
      "cell_type": "code",
      "source": [
        "# 5. Generate a bar plot using Plotly\n",
        "\n",
        "import plotly.express as px\n",
        "import pandas as pd\n",
        "\n",
        "# Sample DataFrame\n",
        "data = {'Fruits': ['Apples', 'Bananas', 'Cherries', 'Dates'],\n",
        "        'Quantity': [10, 15, 7, 12]}\n",
        "df = pd.DataFrame(data)\n",
        "\n",
        "# Create bar plot\n",
        "fig = px.bar(df, x='Fruits', y='Quantity', title='Fruit Quantity')\n",
        "\n",
        "# Show plot\n",
        "fig.show()\n"
      ],
      "metadata": {
        "colab": {
          "base_uri": "https://localhost:8080/",
          "height": 542
        },
        "id": "GFhl7-HLdZTC",
        "outputId": "37944563-1199-4492-8e48-259d9ee87bda"
      },
      "execution_count": 5,
      "outputs": [
        {
          "output_type": "display_data",
          "data": {
            "text/html": [
              "<html>\n",
              "<head><meta charset=\"utf-8\" /></head>\n",
              "<body>\n",
              "    <div>            <script src=\"https://cdnjs.cloudflare.com/ajax/libs/mathjax/2.7.5/MathJax.js?config=TeX-AMS-MML_SVG\"></script><script type=\"text/javascript\">if (window.MathJax && window.MathJax.Hub && window.MathJax.Hub.Config) {window.MathJax.Hub.Config({SVG: {font: \"STIX-Web\"}});}</script>                <script type=\"text/javascript\">window.PlotlyConfig = {MathJaxConfig: 'local'};</script>\n",
              "        <script charset=\"utf-8\" src=\"https://cdn.plot.ly/plotly-2.35.2.min.js\"></script>                <div id=\"1c821e56-4f11-41ed-881e-669b5e7db233\" class=\"plotly-graph-div\" style=\"height:525px; width:100%;\"></div>            <script type=\"text/javascript\">                                    window.PLOTLYENV=window.PLOTLYENV || {};                                    if (document.getElementById(\"1c821e56-4f11-41ed-881e-669b5e7db233\")) {                    Plotly.newPlot(                        \"1c821e56-4f11-41ed-881e-669b5e7db233\",                        [{\"alignmentgroup\":\"True\",\"hovertemplate\":\"Fruits=%{x}\\u003cbr\\u003eQuantity=%{y}\\u003cextra\\u003e\\u003c\\u002fextra\\u003e\",\"legendgroup\":\"\",\"marker\":{\"color\":\"#636efa\",\"pattern\":{\"shape\":\"\"}},\"name\":\"\",\"offsetgroup\":\"\",\"orientation\":\"v\",\"showlegend\":false,\"textposition\":\"auto\",\"x\":[\"Apples\",\"Bananas\",\"Cherries\",\"Dates\"],\"xaxis\":\"x\",\"y\":[10,15,7,12],\"yaxis\":\"y\",\"type\":\"bar\"}],                        {\"template\":{\"data\":{\"histogram2dcontour\":[{\"type\":\"histogram2dcontour\",\"colorbar\":{\"outlinewidth\":0,\"ticks\":\"\"},\"colorscale\":[[0.0,\"#0d0887\"],[0.1111111111111111,\"#46039f\"],[0.2222222222222222,\"#7201a8\"],[0.3333333333333333,\"#9c179e\"],[0.4444444444444444,\"#bd3786\"],[0.5555555555555556,\"#d8576b\"],[0.6666666666666666,\"#ed7953\"],[0.7777777777777778,\"#fb9f3a\"],[0.8888888888888888,\"#fdca26\"],[1.0,\"#f0f921\"]]}],\"choropleth\":[{\"type\":\"choropleth\",\"colorbar\":{\"outlinewidth\":0,\"ticks\":\"\"}}],\"histogram2d\":[{\"type\":\"histogram2d\",\"colorbar\":{\"outlinewidth\":0,\"ticks\":\"\"},\"colorscale\":[[0.0,\"#0d0887\"],[0.1111111111111111,\"#46039f\"],[0.2222222222222222,\"#7201a8\"],[0.3333333333333333,\"#9c179e\"],[0.4444444444444444,\"#bd3786\"],[0.5555555555555556,\"#d8576b\"],[0.6666666666666666,\"#ed7953\"],[0.7777777777777778,\"#fb9f3a\"],[0.8888888888888888,\"#fdca26\"],[1.0,\"#f0f921\"]]}],\"heatmap\":[{\"type\":\"heatmap\",\"colorbar\":{\"outlinewidth\":0,\"ticks\":\"\"},\"colorscale\":[[0.0,\"#0d0887\"],[0.1111111111111111,\"#46039f\"],[0.2222222222222222,\"#7201a8\"],[0.3333333333333333,\"#9c179e\"],[0.4444444444444444,\"#bd3786\"],[0.5555555555555556,\"#d8576b\"],[0.6666666666666666,\"#ed7953\"],[0.7777777777777778,\"#fb9f3a\"],[0.8888888888888888,\"#fdca26\"],[1.0,\"#f0f921\"]]}],\"heatmapgl\":[{\"type\":\"heatmapgl\",\"colorbar\":{\"outlinewidth\":0,\"ticks\":\"\"},\"colorscale\":[[0.0,\"#0d0887\"],[0.1111111111111111,\"#46039f\"],[0.2222222222222222,\"#7201a8\"],[0.3333333333333333,\"#9c179e\"],[0.4444444444444444,\"#bd3786\"],[0.5555555555555556,\"#d8576b\"],[0.6666666666666666,\"#ed7953\"],[0.7777777777777778,\"#fb9f3a\"],[0.8888888888888888,\"#fdca26\"],[1.0,\"#f0f921\"]]}],\"contourcarpet\":[{\"type\":\"contourcarpet\",\"colorbar\":{\"outlinewidth\":0,\"ticks\":\"\"}}],\"contour\":[{\"type\":\"contour\",\"colorbar\":{\"outlinewidth\":0,\"ticks\":\"\"},\"colorscale\":[[0.0,\"#0d0887\"],[0.1111111111111111,\"#46039f\"],[0.2222222222222222,\"#7201a8\"],[0.3333333333333333,\"#9c179e\"],[0.4444444444444444,\"#bd3786\"],[0.5555555555555556,\"#d8576b\"],[0.6666666666666666,\"#ed7953\"],[0.7777777777777778,\"#fb9f3a\"],[0.8888888888888888,\"#fdca26\"],[1.0,\"#f0f921\"]]}],\"surface\":[{\"type\":\"surface\",\"colorbar\":{\"outlinewidth\":0,\"ticks\":\"\"},\"colorscale\":[[0.0,\"#0d0887\"],[0.1111111111111111,\"#46039f\"],[0.2222222222222222,\"#7201a8\"],[0.3333333333333333,\"#9c179e\"],[0.4444444444444444,\"#bd3786\"],[0.5555555555555556,\"#d8576b\"],[0.6666666666666666,\"#ed7953\"],[0.7777777777777778,\"#fb9f3a\"],[0.8888888888888888,\"#fdca26\"],[1.0,\"#f0f921\"]]}],\"mesh3d\":[{\"type\":\"mesh3d\",\"colorbar\":{\"outlinewidth\":0,\"ticks\":\"\"}}],\"scatter\":[{\"fillpattern\":{\"fillmode\":\"overlay\",\"size\":10,\"solidity\":0.2},\"type\":\"scatter\"}],\"parcoords\":[{\"type\":\"parcoords\",\"line\":{\"colorbar\":{\"outlinewidth\":0,\"ticks\":\"\"}}}],\"scatterpolargl\":[{\"type\":\"scatterpolargl\",\"marker\":{\"colorbar\":{\"outlinewidth\":0,\"ticks\":\"\"}}}],\"bar\":[{\"error_x\":{\"color\":\"#2a3f5f\"},\"error_y\":{\"color\":\"#2a3f5f\"},\"marker\":{\"line\":{\"color\":\"#E5ECF6\",\"width\":0.5},\"pattern\":{\"fillmode\":\"overlay\",\"size\":10,\"solidity\":0.2}},\"type\":\"bar\"}],\"scattergeo\":[{\"type\":\"scattergeo\",\"marker\":{\"colorbar\":{\"outlinewidth\":0,\"ticks\":\"\"}}}],\"scatterpolar\":[{\"type\":\"scatterpolar\",\"marker\":{\"colorbar\":{\"outlinewidth\":0,\"ticks\":\"\"}}}],\"histogram\":[{\"marker\":{\"pattern\":{\"fillmode\":\"overlay\",\"size\":10,\"solidity\":0.2}},\"type\":\"histogram\"}],\"scattergl\":[{\"type\":\"scattergl\",\"marker\":{\"colorbar\":{\"outlinewidth\":0,\"ticks\":\"\"}}}],\"scatter3d\":[{\"type\":\"scatter3d\",\"line\":{\"colorbar\":{\"outlinewidth\":0,\"ticks\":\"\"}},\"marker\":{\"colorbar\":{\"outlinewidth\":0,\"ticks\":\"\"}}}],\"scattermapbox\":[{\"type\":\"scattermapbox\",\"marker\":{\"colorbar\":{\"outlinewidth\":0,\"ticks\":\"\"}}}],\"scatterternary\":[{\"type\":\"scatterternary\",\"marker\":{\"colorbar\":{\"outlinewidth\":0,\"ticks\":\"\"}}}],\"scattercarpet\":[{\"type\":\"scattercarpet\",\"marker\":{\"colorbar\":{\"outlinewidth\":0,\"ticks\":\"\"}}}],\"carpet\":[{\"aaxis\":{\"endlinecolor\":\"#2a3f5f\",\"gridcolor\":\"white\",\"linecolor\":\"white\",\"minorgridcolor\":\"white\",\"startlinecolor\":\"#2a3f5f\"},\"baxis\":{\"endlinecolor\":\"#2a3f5f\",\"gridcolor\":\"white\",\"linecolor\":\"white\",\"minorgridcolor\":\"white\",\"startlinecolor\":\"#2a3f5f\"},\"type\":\"carpet\"}],\"table\":[{\"cells\":{\"fill\":{\"color\":\"#EBF0F8\"},\"line\":{\"color\":\"white\"}},\"header\":{\"fill\":{\"color\":\"#C8D4E3\"},\"line\":{\"color\":\"white\"}},\"type\":\"table\"}],\"barpolar\":[{\"marker\":{\"line\":{\"color\":\"#E5ECF6\",\"width\":0.5},\"pattern\":{\"fillmode\":\"overlay\",\"size\":10,\"solidity\":0.2}},\"type\":\"barpolar\"}],\"pie\":[{\"automargin\":true,\"type\":\"pie\"}]},\"layout\":{\"autotypenumbers\":\"strict\",\"colorway\":[\"#636efa\",\"#EF553B\",\"#00cc96\",\"#ab63fa\",\"#FFA15A\",\"#19d3f3\",\"#FF6692\",\"#B6E880\",\"#FF97FF\",\"#FECB52\"],\"font\":{\"color\":\"#2a3f5f\"},\"hovermode\":\"closest\",\"hoverlabel\":{\"align\":\"left\"},\"paper_bgcolor\":\"white\",\"plot_bgcolor\":\"#E5ECF6\",\"polar\":{\"bgcolor\":\"#E5ECF6\",\"angularaxis\":{\"gridcolor\":\"white\",\"linecolor\":\"white\",\"ticks\":\"\"},\"radialaxis\":{\"gridcolor\":\"white\",\"linecolor\":\"white\",\"ticks\":\"\"}},\"ternary\":{\"bgcolor\":\"#E5ECF6\",\"aaxis\":{\"gridcolor\":\"white\",\"linecolor\":\"white\",\"ticks\":\"\"},\"baxis\":{\"gridcolor\":\"white\",\"linecolor\":\"white\",\"ticks\":\"\"},\"caxis\":{\"gridcolor\":\"white\",\"linecolor\":\"white\",\"ticks\":\"\"}},\"coloraxis\":{\"colorbar\":{\"outlinewidth\":0,\"ticks\":\"\"}},\"colorscale\":{\"sequential\":[[0.0,\"#0d0887\"],[0.1111111111111111,\"#46039f\"],[0.2222222222222222,\"#7201a8\"],[0.3333333333333333,\"#9c179e\"],[0.4444444444444444,\"#bd3786\"],[0.5555555555555556,\"#d8576b\"],[0.6666666666666666,\"#ed7953\"],[0.7777777777777778,\"#fb9f3a\"],[0.8888888888888888,\"#fdca26\"],[1.0,\"#f0f921\"]],\"sequentialminus\":[[0.0,\"#0d0887\"],[0.1111111111111111,\"#46039f\"],[0.2222222222222222,\"#7201a8\"],[0.3333333333333333,\"#9c179e\"],[0.4444444444444444,\"#bd3786\"],[0.5555555555555556,\"#d8576b\"],[0.6666666666666666,\"#ed7953\"],[0.7777777777777778,\"#fb9f3a\"],[0.8888888888888888,\"#fdca26\"],[1.0,\"#f0f921\"]],\"diverging\":[[0,\"#8e0152\"],[0.1,\"#c51b7d\"],[0.2,\"#de77ae\"],[0.3,\"#f1b6da\"],[0.4,\"#fde0ef\"],[0.5,\"#f7f7f7\"],[0.6,\"#e6f5d0\"],[0.7,\"#b8e186\"],[0.8,\"#7fbc41\"],[0.9,\"#4d9221\"],[1,\"#276419\"]]},\"xaxis\":{\"gridcolor\":\"white\",\"linecolor\":\"white\",\"ticks\":\"\",\"title\":{\"standoff\":15},\"zerolinecolor\":\"white\",\"automargin\":true,\"zerolinewidth\":2},\"yaxis\":{\"gridcolor\":\"white\",\"linecolor\":\"white\",\"ticks\":\"\",\"title\":{\"standoff\":15},\"zerolinecolor\":\"white\",\"automargin\":true,\"zerolinewidth\":2},\"scene\":{\"xaxis\":{\"backgroundcolor\":\"#E5ECF6\",\"gridcolor\":\"white\",\"linecolor\":\"white\",\"showbackground\":true,\"ticks\":\"\",\"zerolinecolor\":\"white\",\"gridwidth\":2},\"yaxis\":{\"backgroundcolor\":\"#E5ECF6\",\"gridcolor\":\"white\",\"linecolor\":\"white\",\"showbackground\":true,\"ticks\":\"\",\"zerolinecolor\":\"white\",\"gridwidth\":2},\"zaxis\":{\"backgroundcolor\":\"#E5ECF6\",\"gridcolor\":\"white\",\"linecolor\":\"white\",\"showbackground\":true,\"ticks\":\"\",\"zerolinecolor\":\"white\",\"gridwidth\":2}},\"shapedefaults\":{\"line\":{\"color\":\"#2a3f5f\"}},\"annotationdefaults\":{\"arrowcolor\":\"#2a3f5f\",\"arrowhead\":0,\"arrowwidth\":1},\"geo\":{\"bgcolor\":\"white\",\"landcolor\":\"#E5ECF6\",\"subunitcolor\":\"white\",\"showland\":true,\"showlakes\":true,\"lakecolor\":\"white\"},\"title\":{\"x\":0.05},\"mapbox\":{\"style\":\"light\"}}},\"xaxis\":{\"anchor\":\"y\",\"domain\":[0.0,1.0],\"title\":{\"text\":\"Fruits\"}},\"yaxis\":{\"anchor\":\"x\",\"domain\":[0.0,1.0],\"title\":{\"text\":\"Quantity\"}},\"legend\":{\"tracegroupgap\":0},\"title\":{\"text\":\"Fruit Quantity\"},\"barmode\":\"relative\"},                        {\"responsive\": true}                    ).then(function(){\n",
              "                            \n",
              "var gd = document.getElementById('1c821e56-4f11-41ed-881e-669b5e7db233');\n",
              "var x = new MutationObserver(function (mutations, observer) {{\n",
              "        var display = window.getComputedStyle(gd).display;\n",
              "        if (!display || display === 'none') {{\n",
              "            console.log([gd, 'removed!']);\n",
              "            Plotly.purge(gd);\n",
              "            observer.disconnect();\n",
              "        }}\n",
              "}});\n",
              "\n",
              "// Listen for the removal of the full notebook cells\n",
              "var notebookContainer = gd.closest('#notebook-container');\n",
              "if (notebookContainer) {{\n",
              "    x.observe(notebookContainer, {childList: true});\n",
              "}}\n",
              "\n",
              "// Listen for the clearing of the current output cell\n",
              "var outputEl = gd.closest('.output');\n",
              "if (outputEl) {{\n",
              "    x.observe(outputEl, {childList: true});\n",
              "}}\n",
              "\n",
              "                        })                };                            </script>        </div>\n",
              "</body>\n",
              "</html>"
            ]
          },
          "metadata": {}
        }
      ]
    },
    {
      "cell_type": "code",
      "source": [
        "# 6. Create a DataFrame and add a new column based on an existing column\n",
        "import pandas as pd\n",
        "\n",
        "# Create a DataFrame\n",
        "data = {'Name': ['Alice', 'Bob', 'Charlie'],\n",
        "        'Marks': [85, 92, 78]}\n",
        "df = pd.DataFrame(data)\n",
        "\n",
        "# Add a new column based on 'Marks'\n",
        "df['Grade'] = df['Marks'].apply(lambda x: 'A' if x >= 90 else ('B' if x >= 80 else 'C'))\n",
        "\n",
        "# Print the updated DataFrame\n",
        "print(df)\n"
      ],
      "metadata": {
        "colab": {
          "base_uri": "https://localhost:8080/"
        },
        "id": "ZOAgUVlNdeo6",
        "outputId": "543fbe7a-8041-4020-c9ce-5a6b75107023"
      },
      "execution_count": 6,
      "outputs": [
        {
          "output_type": "stream",
          "name": "stdout",
          "text": [
            "      Name  Marks Grade\n",
            "0    Alice     85     B\n",
            "1      Bob     92     A\n",
            "2  Charlie     78     C\n"
          ]
        }
      ]
    },
    {
      "cell_type": "code",
      "source": [
        "# 7. Write a program to perform element-wise multiplication of two NumPy arrays\n",
        "\n",
        "import numpy as np\n",
        "\n",
        "# Create two NumPy arrays\n",
        "a = np.array([2, 4, 6])\n",
        "b = np.array([1, 3, 5])\n",
        "\n",
        "# Element-wise multiplication\n",
        "result = a * b\n",
        "\n",
        "# Print the result\n",
        "print(\"Element-wise multiplication:\", result)\n"
      ],
      "metadata": {
        "colab": {
          "base_uri": "https://localhost:8080/"
        },
        "id": "SVfa3KJAdjOe",
        "outputId": "2529ee2d-4eff-40cf-8b37-e24e04d944ea"
      },
      "execution_count": 7,
      "outputs": [
        {
          "output_type": "stream",
          "name": "stdout",
          "text": [
            "Element-wise multiplication: [ 2 12 30]\n"
          ]
        }
      ]
    },
    {
      "cell_type": "code",
      "source": [
        "# 8. Create a line plot with multiple lines using Matplotlib\n",
        "\n",
        "import matplotlib.pyplot as plt\n",
        "\n",
        "# Sample data\n",
        "x = [1, 2, 3, 4, 5]\n",
        "y1 = [10, 20, 25, 30, 40]\n",
        "y2 = [5, 15, 20, 25, 35]\n",
        "\n",
        "# Create line plot\n",
        "plt.plot(x, y1, label='Line 1', color='blue')\n",
        "plt.plot(x, y2, label='Line 2', color='green')\n",
        "\n",
        "# Add labels and title\n",
        "plt.xlabel('X-axis')\n",
        "plt.ylabel('Y-axis')\n",
        "plt.title('Line Plot with Multiple Lines')\n",
        "plt.legend()\n",
        "\n",
        "# Show plot\n",
        "plt.show()\n"
      ],
      "metadata": {
        "colab": {
          "base_uri": "https://localhost:8080/",
          "height": 472
        },
        "id": "kcM3ue33doO4",
        "outputId": "9819dd7d-1a00-4154-c996-8fbf817eacb2"
      },
      "execution_count": 8,
      "outputs": [
        {
          "output_type": "display_data",
          "data": {
            "text/plain": [
              "<Figure size 640x480 with 1 Axes>"
            ],
            "image/png": "[encoded data removed]"
          },
          "metadata": {}
        }
      ]
    },
    {
      "cell_type": "code",
      "source": [
        "# 9. Generate a Pandas DataFrame and filter rows where a column value is greater than a threshold\n",
        "\n",
        "import pandas as pd\n",
        "\n",
        "# Create a DataFrame\n",
        "data = {\n",
        "    'Name': ['Alice', 'Bob', 'Charlie', 'David'],\n",
        "    'Marks': [85, 72, 90, 65]\n",
        "}\n",
        "\n",
        "df = pd.DataFrame(data)\n",
        "\n",
        "# Set threshold\n",
        "threshold = 75\n",
        "\n",
        "# Filter rows where Marks > 75\n",
        "filtered_df = df[df['Marks'] > threshold]\n",
        "\n",
        "# Display filtered DataFrame\n",
        "print(filtered_df)\n"
      ],
      "metadata": {
        "colab": {
          "base_uri": "https://localhost:8080/"
        },
        "id": "ZxJ52FWnduOd",
        "outputId": "1819837f-f953-462c-a9b0-afc43077a6cf"
      },
      "execution_count": 9,
      "outputs": [
        {
          "output_type": "stream",
          "name": "stdout",
          "text": [
            "      Name  Marks\n",
            "0    Alice     85\n",
            "2  Charlie     90\n"
          ]
        }
      ]
    },
    {
      "cell_type": "code",
      "source": [
        "# 10. Create a histogram using Seaborn to visualize a distribution\n",
        "\n",
        "import seaborn as sns\n",
        "import matplotlib.pyplot as plt\n",
        "\n",
        "# Sample data\n",
        "data = [23, 45, 56, 45, 67, 45, 89, 56, 34, 23, 45, 67, 89, 90, 78, 56, 45]\n",
        "\n",
        "# Create histogram using Seaborn\n",
        "sns.histplot(data, bins=8, kde=True, color='skyblue')\n",
        "\n",
        "# Add labels and title\n",
        "plt.title(\"Distribution of Scores\")\n",
        "plt.xlabel(\"Scores\")\n",
        "plt.ylabel(\"Frequency\")\n",
        "\n",
        "# Show the plot\n",
        "plt.show()\n"
      ],
      "metadata": {
        "colab": {
          "base_uri": "https://localhost:8080/",
          "height": 472
        },
        "id": "aSzA6LeldziT",
        "outputId": "8055f476-a174-4bbe-cba8-a1108ab69cee"
      },
      "execution_count": 10,
      "outputs": [
        {
          "output_type": "display_data",
          "data": {
            "text/plain": [
              "<Figure size 640x480 with 1 Axes>"
            ],
            "image/png": "[encoded data removed]"
          },
          "metadata": {}
        }
      ]
    },
    {
      "cell_type": "code",
      "source": [
        "# 11. Perform matrix multiplication using NumPy\n",
        "\n",
        "import numpy as np\n",
        "\n",
        "# Define two matrices\n",
        "A = np.array([[1, 2], [3, 4]])\n",
        "B = np.array([[5, 6], [7, 8]])\n",
        "\n",
        "# Perform matrix multiplication\n",
        "result = np.dot(A, B)\n",
        "\n",
        "# Print the result\n",
        "print(\"Matrix A:\\n\", A)\n",
        "print(\"Matrix B:\\n\", B)\n",
        "print(\"Matrix Multiplication Result:\\n\", result)\n"
      ],
      "metadata": {
        "colab": {
          "base_uri": "https://localhost:8080/"
        },
        "id": "d7Z1KrOAd4Y7",
        "outputId": "bf2ff4ee-5248-4be0-dc80-f4925509f88e"
      },
      "execution_count": 11,
      "outputs": [
        {
          "output_type": "stream",
          "name": "stdout",
          "text": [
            "Matrix A:\n",
            " [[1 2]\n",
            " [3 4]]\n",
            "Matrix B:\n",
            " [[5 6]\n",
            " [7 8]]\n",
            "Matrix Multiplication Result:\n",
            " [[19 22]\n",
            " [43 50]]\n"
          ]
        }
      ]
    },
    {
      "cell_type": "code",
      "source": [
        "# 12. Use Pandas to load a CSV file and display its first 5 rows\n",
        "\n",
        "import pandas as pd\n",
        "import csv\n",
        "\n",
        "# Data to write\n",
        "data = [\n",
        "    ['Name', 'Age', 'Score'],\n",
        "    ['John', 22, 85],\n",
        "    ['Alice', 23, 90],\n",
        "    ['Bob', 21, 78],\n",
        "    ['Emma', 24, 92],\n",
        "    ['Chris', 22, 88],\n",
        "    ['David', 23, 80]\n",
        "]\n",
        "\n",
        "# Write data to CSV file\n",
        "with open('data.csv', mode='w', newline='') as file:\n",
        "    writer = csv.writer(file)\n",
        "    writer.writerows(data)\n",
        "\n",
        "print(\"CSV file created successfully.\")\n",
        "\n",
        "\n",
        "# Load the CSV file\n",
        "df = pd.read_csv('data.csv')  # Replace 'data.csv' with your actual file name\n",
        "\n",
        "# Display the first 5 rows\n",
        "print(df.head())\n"
      ],
      "metadata": {
        "colab": {
          "base_uri": "https://localhost:8080/"
        },
        "id": "D3uJ5okjd9oo",
        "outputId": "e47b9f19-2fdd-4b01-b4e6-c0720ea8e845"
      },
      "execution_count": 14,
      "outputs": [
        {
          "output_type": "stream",
          "name": "stdout",
          "text": [
            "CSV file created successfully.\n",
            "    Name  Age  Score\n",
            "0   John   22     85\n",
            "1  Alice   23     90\n",
            "2    Bob   21     78\n",
            "3   Emma   24     92\n",
            "4  Chris   22     88\n"
          ]
        }
      ]
    },
    {
      "cell_type": "code",
      "source": [
        "# 13. Create a 3D scatter plot using Plotly\n",
        "\n",
        "import plotly.graph_objects as go\n",
        "import numpy as np\n",
        "\n",
        "# Sample data\n",
        "np.random.seed(1)\n",
        "x = np.random.rand(50)\n",
        "y = np.random.rand(50)\n",
        "z = np.random.rand(50)\n",
        "\n",
        "# Create 3D scatter plot\n",
        "fig = go.Figure(data=[go.Scatter3d(\n",
        "    x=x,\n",
        "    y=y,\n",
        "    z=z,\n",
        "    mode='markers',\n",
        "    marker=dict(\n",
        "        size=6,\n",
        "        color=z,       # Color by z value\n",
        "        colorscale='Viridis',\n",
        "        opacity=0.8\n",
        "    )\n",
        ")])\n",
        "\n",
        "# Add layout\n",
        "fig.update_layout(\n",
        "    title='3D Scatter Plot',\n",
        "    scene=dict(\n",
        "        xaxis_title='X Axis',\n",
        "        yaxis_title='Y Axis',\n",
        "        zaxis_title='Z Axis'\n",
        "    )\n",
        ")\n",
        "\n",
        "# Show plot\n",
        "fig.show()\n"
      ],
      "metadata": {
        "colab": {
          "base_uri": "https://localhost:8080/",
          "height": 542
        },
        "id": "agV0UP_jeQDO",
        "outputId": "99dc5cd1-25ca-40ac-cfdf-fed214a091e9"
      },
      "execution_count": 15,
      "outputs": [
        {
          "output_type": "display_data",
          "data": {
            "text/html": [
              "<html>\n",
              "<head><meta charset=\"utf-8\" /></head>\n",
              "<body>\n",
              "    <div>            <script src=\"https://cdnjs.cloudflare.com/ajax/libs/mathjax/2.7.5/MathJax.js?config=TeX-AMS-MML_SVG\"></script><script type=\"text/javascript\">if (window.MathJax && window.MathJax.Hub && window.MathJax.Hub.Config) {window.MathJax.Hub.Config({SVG: {font: \"STIX-Web\"}});}</script>                <script type=\"text/javascript\">window.PlotlyConfig = {MathJaxConfig: 'local'};</script>\n",
              "        <script charset=\"utf-8\" src=\"https://cdn.plot.ly/plotly-2.35.2.min.js\"></script>                <div id=\"9769de32-1571-4ef1-9ba3-1f0e07ac07e1\" class=\"plotly-graph-div\" style=\"height:525px; width:100%;\"></div>            <script type=\"text/javascript\">                                    window.PLOTLYENV=window.PLOTLYENV || {};                                    if (document.getElementById(\"9769de32-1571-4ef1-9ba3-1f0e07ac07e1\")) {                    Plotly.newPlot(                        \"9769de32-1571-4ef1-9ba3-1f0e07ac07e1\",                        [{\"marker\":{\"color\":[0.32664490177209615,0.5270581022576093,0.8859420993107745,0.35726976000249977,0.9085351509197992,0.6233601157918027,0.015821242846556283,0.9294372337437613,0.690896917516924,0.9973228504514805,0.17234050834532855,0.13713574962887776,0.9325954630371636,0.6968181614899002,0.06600017272206249,0.7554630526024664,0.7538761884612464,0.9230245355464833,0.7115247586284718,0.1242709619721647,0.01988013383979559,0.026210986877719278,0.028306488020794607,0.2462110676030459,0.860027948682888,0.5388310643416528,0.5528219786857659,0.8420308923596057,0.12417331511991114,0.2791836790111395,0.5857592714582879,0.9695957483196745,0.56103021925571,0.01864728937294302,0.8006326726806163,0.23297427384102043,0.8071051956187791,0.38786064406417176,0.8635418545594287,0.7471216427371846,0.5562402339904189,0.13645522566068502,0.05991768951221166,0.12134345574073735,0.044551878544761725,0.1074941291060929,0.2257093386078547,0.7129889803826767,0.5597169820541424,0.012555980159115854],\"colorscale\":[[0.0,\"#440154\"],[0.1111111111111111,\"#482878\"],[0.2222222222222222,\"#3e4989\"],[0.3333333333333333,\"#31688e\"],[0.4444444444444444,\"#26828e\"],[0.5555555555555556,\"#1f9e89\"],[0.6666666666666666,\"#35b779\"],[0.7777777777777778,\"#6ece58\"],[0.8888888888888888,\"#b5de2b\"],[1.0,\"#fde725\"]],\"opacity\":0.8,\"size\":6},\"mode\":\"markers\",\"x\":[0.417022004702574,0.7203244934421581,0.00011437481734488664,0.30233257263183977,0.14675589081711304,0.0923385947687978,0.1862602113776709,0.34556072704304774,0.39676747423066994,0.538816734003357,0.4191945144032948,0.6852195003967595,0.20445224973151743,0.8781174363909454,0.027387593197926163,0.6704675101784022,0.41730480236712697,0.5586898284457517,0.14038693859523377,0.1981014890848788,0.8007445686755367,0.9682615757193975,0.31342417815924284,0.6923226156693141,0.8763891522960383,0.8946066635038473,0.08504421136977791,0.03905478323288236,0.1698304195645689,0.8781425034294131,0.0983468338330501,0.42110762500505217,0.9578895301505019,0.5331652849730171,0.6918771139504734,0.31551563100606295,0.6865009276815837,0.8346256718973729,0.018288277344191806,0.7501443149449675,0.9888610889064947,0.7481656543798394,0.2804439920644052,0.7892793284514885,0.10322600657764203,0.44789352617590517,0.9085955030930956,0.2936141483736795,0.28777533858634874,0.13002857211827767],\"y\":[0.019366957870297075,0.678835532939891,0.21162811600005904,0.2655466593722262,0.4915731592803383,0.053362545117080384,0.5741176054920131,0.14672857490581015,0.5893055369032842,0.6997583600209312,0.10233442882782584,0.4140559878195683,0.6944001577277451,0.41417926952690265,0.04995345894608716,0.5358964059155116,0.6637946452197888,0.5148891120583086,0.9445947559908133,0.5865550405019929,0.9034019152878835,0.13747470414623753,0.13927634725075855,0.8073912887095238,0.3976768369855336,0.16535419711693278,0.9275085803960339,0.34776585974550656,0.7508121031361555,0.7259979853504515,0.8833060912058098,0.6236722070556089,0.7509424340273372,0.34889834197784253,0.2699278917650261,0.8958862181960668,0.4280911898712949,0.9648400471483856,0.6634414978184481,0.6216957202091218,0.11474597295337519,0.9494892587070712,0.4499121334799405,0.5783896143871318,0.40813680276128117,0.2370269802430277,0.9033795205622538,0.5736794866722859,0.00287032703115897,0.6171449136207239],\"z\":[0.32664490177209615,0.5270581022576093,0.8859420993107745,0.35726976000249977,0.9085351509197992,0.6233601157918027,0.015821242846556283,0.9294372337437613,0.690896917516924,0.9973228504514805,0.17234050834532855,0.13713574962887776,0.9325954630371636,0.6968181614899002,0.06600017272206249,0.7554630526024664,0.7538761884612464,0.9230245355464833,0.7115247586284718,0.1242709619721647,0.01988013383979559,0.026210986877719278,0.028306488020794607,0.2462110676030459,0.860027948682888,0.5388310643416528,0.5528219786857659,0.8420308923596057,0.12417331511991114,0.2791836790111395,0.5857592714582879,0.9695957483196745,0.56103021925571,0.01864728937294302,0.8006326726806163,0.23297427384102043,0.8071051956187791,0.38786064406417176,0.8635418545594287,0.7471216427371846,0.5562402339904189,0.13645522566068502,0.05991768951221166,0.12134345574073735,0.044551878544761725,0.1074941291060929,0.2257093386078547,0.7129889803826767,0.5597169820541424,0.012555980159115854],\"type\":\"scatter3d\"}],                        {\"template\":{\"data\":{\"histogram2dcontour\":[{\"type\":\"histogram2dcontour\",\"colorbar\":{\"outlinewidth\":0,\"ticks\":\"\"},\"colorscale\":[[0.0,\"#0d0887\"],[0.1111111111111111,\"#46039f\"],[0.2222222222222222,\"#7201a8\"],[0.3333333333333333,\"#9c179e\"],[0.4444444444444444,\"#bd3786\"],[0.5555555555555556,\"#d8576b\"],[0.6666666666666666,\"#ed7953\"],[0.7777777777777778,\"#fb9f3a\"],[0.8888888888888888,\"#fdca26\"],[1.0,\"#f0f921\"]]}],\"choropleth\":[{\"type\":\"choropleth\",\"colorbar\":{\"outlinewidth\":0,\"ticks\":\"\"}}],\"histogram2d\":[{\"type\":\"histogram2d\",\"colorbar\":{\"outlinewidth\":0,\"ticks\":\"\"},\"colorscale\":[[0.0,\"#0d0887\"],[0.1111111111111111,\"#46039f\"],[0.2222222222222222,\"#7201a8\"],[0.3333333333333333,\"#9c179e\"],[0.4444444444444444,\"#bd3786\"],[0.5555555555555556,\"#d8576b\"],[0.6666666666666666,\"#ed7953\"],[0.7777777777777778,\"#fb9f3a\"],[0.8888888888888888,\"#fdca26\"],[1.0,\"#f0f921\"]]}],\"heatmap\":[{\"type\":\"heatmap\",\"colorbar\":{\"outlinewidth\":0,\"ticks\":\"\"},\"colorscale\":[[0.0,\"#0d0887\"],[0.1111111111111111,\"#46039f\"],[0.2222222222222222,\"#7201a8\"],[0.3333333333333333,\"#9c179e\"],[0.4444444444444444,\"#bd3786\"],[0.5555555555555556,\"#d8576b\"],[0.6666666666666666,\"#ed7953\"],[0.7777777777777778,\"#fb9f3a\"],[0.8888888888888888,\"#fdca26\"],[1.0,\"#f0f921\"]]}],\"heatmapgl\":[{\"type\":\"heatmapgl\",\"colorbar\":{\"outlinewidth\":0,\"ticks\":\"\"},\"colorscale\":[[0.0,\"#0d0887\"],[0.1111111111111111,\"#46039f\"],[0.2222222222222222,\"#7201a8\"],[0.3333333333333333,\"#9c179e\"],[0.4444444444444444,\"#bd3786\"],[0.5555555555555556,\"#d8576b\"],[0.6666666666666666,\"#ed7953\"],[0.7777777777777778,\"#fb9f3a\"],[0.8888888888888888,\"#fdca26\"],[1.0,\"#f0f921\"]]}],\"contourcarpet\":[{\"type\":\"contourcarpet\",\"colorbar\":{\"outlinewidth\":0,\"ticks\":\"\"}}],\"contour\":[{\"type\":\"contour\",\"colorbar\":{\"outlinewidth\":0,\"ticks\":\"\"},\"colorscale\":[[0.0,\"#0d0887\"],[0.1111111111111111,\"#46039f\"],[0.2222222222222222,\"#7201a8\"],[0.3333333333333333,\"#9c179e\"],[0.4444444444444444,\"#bd3786\"],[0.5555555555555556,\"#d8576b\"],[0.6666666666666666,\"#ed7953\"],[0.7777777777777778,\"#fb9f3a\"],[0.8888888888888888,\"#fdca26\"],[1.0,\"#f0f921\"]]}],\"surface\":[{\"type\":\"surface\",\"colorbar\":{\"outlinewidth\":0,\"ticks\":\"\"},\"colorscale\":[[0.0,\"#0d0887\"],[0.1111111111111111,\"#46039f\"],[0.2222222222222222,\"#7201a8\"],[0.3333333333333333,\"#9c179e\"],[0.4444444444444444,\"#bd3786\"],[0.5555555555555556,\"#d8576b\"],[0.6666666666666666,\"#ed7953\"],[0.7777777777777778,\"#fb9f3a\"],[0.8888888888888888,\"#fdca26\"],[1.0,\"#f0f921\"]]}],\"mesh3d\":[{\"type\":\"mesh3d\",\"colorbar\":{\"outlinewidth\":0,\"ticks\":\"\"}}],\"scatter\":[{\"fillpattern\":{\"fillmode\":\"overlay\",\"size\":10,\"solidity\":0.2},\"type\":\"scatter\"}],\"parcoords\":[{\"type\":\"parcoords\",\"line\":{\"colorbar\":{\"outlinewidth\":0,\"ticks\":\"\"}}}],\"scatterpolargl\":[{\"type\":\"scatterpolargl\",\"marker\":{\"colorbar\":{\"outlinewidth\":0,\"ticks\":\"\"}}}],\"bar\":[{\"error_x\":{\"color\":\"#2a3f5f\"},\"error_y\":{\"color\":\"#2a3f5f\"},\"marker\":{\"line\":{\"color\":\"#E5ECF6\",\"width\":0.5},\"pattern\":{\"fillmode\":\"overlay\",\"size\":10,\"solidity\":0.2}},\"type\":\"bar\"}],\"scattergeo\":[{\"type\":\"scattergeo\",\"marker\":{\"colorbar\":{\"outlinewidth\":0,\"ticks\":\"\"}}}],\"scatterpolar\":[{\"type\":\"scatterpolar\",\"marker\":{\"colorbar\":{\"outlinewidth\":0,\"ticks\":\"\"}}}],\"histogram\":[{\"marker\":{\"pattern\":{\"fillmode\":\"overlay\",\"size\":10,\"solidity\":0.2}},\"type\":\"histogram\"}],\"scattergl\":[{\"type\":\"scattergl\",\"marker\":{\"colorbar\":{\"outlinewidth\":0,\"ticks\":\"\"}}}],\"scatter3d\":[{\"type\":\"scatter3d\",\"line\":{\"colorbar\":{\"outlinewidth\":0,\"ticks\":\"\"}},\"marker\":{\"colorbar\":{\"outlinewidth\":0,\"ticks\":\"\"}}}],\"scattermapbox\":[{\"type\":\"scattermapbox\",\"marker\":{\"colorbar\":{\"outlinewidth\":0,\"ticks\":\"\"}}}],\"scatterternary\":[{\"type\":\"scatterternary\",\"marker\":{\"colorbar\":{\"outlinewidth\":0,\"ticks\":\"\"}}}],\"scattercarpet\":[{\"type\":\"scattercarpet\",\"marker\":{\"colorbar\":{\"outlinewidth\":0,\"ticks\":\"\"}}}],\"carpet\":[{\"aaxis\":{\"endlinecolor\":\"#2a3f5f\",\"gridcolor\":\"white\",\"linecolor\":\"white\",\"minorgridcolor\":\"white\",\"startlinecolor\":\"#2a3f5f\"},\"baxis\":{\"endlinecolor\":\"#2a3f5f\",\"gridcolor\":\"white\",\"linecolor\":\"white\",\"minorgridcolor\":\"white\",\"startlinecolor\":\"#2a3f5f\"},\"type\":\"carpet\"}],\"table\":[{\"cells\":{\"fill\":{\"color\":\"#EBF0F8\"},\"line\":{\"color\":\"white\"}},\"header\":{\"fill\":{\"color\":\"#C8D4E3\"},\"line\":{\"color\":\"white\"}},\"type\":\"table\"}],\"barpolar\":[{\"marker\":{\"line\":{\"color\":\"#E5ECF6\",\"width\":0.5},\"pattern\":{\"fillmode\":\"overlay\",\"size\":10,\"solidity\":0.2}},\"type\":\"barpolar\"}],\"pie\":[{\"automargin\":true,\"type\":\"pie\"}]},\"layout\":{\"autotypenumbers\":\"strict\",\"colorway\":[\"#636efa\",\"#EF553B\",\"#00cc96\",\"#ab63fa\",\"#FFA15A\",\"#19d3f3\",\"#FF6692\",\"#B6E880\",\"#FF97FF\",\"#FECB52\"],\"font\":{\"color\":\"#2a3f5f\"},\"hovermode\":\"closest\",\"hoverlabel\":{\"align\":\"left\"},\"paper_bgcolor\":\"white\",\"plot_bgcolor\":\"#E5ECF6\",\"polar\":{\"bgcolor\":\"#E5ECF6\",\"angularaxis\":{\"gridcolor\":\"white\",\"linecolor\":\"white\",\"ticks\":\"\"},\"radialaxis\":{\"gridcolor\":\"white\",\"linecolor\":\"white\",\"ticks\":\"\"}},\"ternary\":{\"bgcolor\":\"#E5ECF6\",\"aaxis\":{\"gridcolor\":\"white\",\"linecolor\":\"white\",\"ticks\":\"\"},\"baxis\":{\"gridcolor\":\"white\",\"linecolor\":\"white\",\"ticks\":\"\"},\"caxis\":{\"gridcolor\":\"white\",\"linecolor\":\"white\",\"ticks\":\"\"}},\"coloraxis\":{\"colorbar\":{\"outlinewidth\":0,\"ticks\":\"\"}},\"colorscale\":{\"sequential\":[[0.0,\"#0d0887\"],[0.1111111111111111,\"#46039f\"],[0.2222222222222222,\"#7201a8\"],[0.3333333333333333,\"#9c179e\"],[0.4444444444444444,\"#bd3786\"],[0.5555555555555556,\"#d8576b\"],[0.6666666666666666,\"#ed7953\"],[0.7777777777777778,\"#fb9f3a\"],[0.8888888888888888,\"#fdca26\"],[1.0,\"#f0f921\"]],\"sequentialminus\":[[0.0,\"#0d0887\"],[0.1111111111111111,\"#46039f\"],[0.2222222222222222,\"#7201a8\"],[0.3333333333333333,\"#9c179e\"],[0.4444444444444444,\"#bd3786\"],[0.5555555555555556,\"#d8576b\"],[0.6666666666666666,\"#ed7953\"],[0.7777777777777778,\"#fb9f3a\"],[0.8888888888888888,\"#fdca26\"],[1.0,\"#f0f921\"]],\"diverging\":[[0,\"#8e0152\"],[0.1,\"#c51b7d\"],[0.2,\"#de77ae\"],[0.3,\"#f1b6da\"],[0.4,\"#fde0ef\"],[0.5,\"#f7f7f7\"],[0.6,\"#e6f5d0\"],[0.7,\"#b8e186\"],[0.8,\"#7fbc41\"],[0.9,\"#4d9221\"],[1,\"#276419\"]]},\"xaxis\":{\"gridcolor\":\"white\",\"linecolor\":\"white\",\"ticks\":\"\",\"title\":{\"standoff\":15},\"zerolinecolor\":\"white\",\"automargin\":true,\"zerolinewidth\":2},\"yaxis\":{\"gridcolor\":\"white\",\"linecolor\":\"white\",\"ticks\":\"\",\"title\":{\"standoff\":15},\"zerolinecolor\":\"white\",\"automargin\":true,\"zerolinewidth\":2},\"scene\":{\"xaxis\":{\"backgroundcolor\":\"#E5ECF6\",\"gridcolor\":\"white\",\"linecolor\":\"white\",\"showbackground\":true,\"ticks\":\"\",\"zerolinecolor\":\"white\",\"gridwidth\":2},\"yaxis\":{\"backgroundcolor\":\"#E5ECF6\",\"gridcolor\":\"white\",\"linecolor\":\"white\",\"showbackground\":true,\"ticks\":\"\",\"zerolinecolor\":\"white\",\"gridwidth\":2},\"zaxis\":{\"backgroundcolor\":\"#E5ECF6\",\"gridcolor\":\"white\",\"linecolor\":\"white\",\"showbackground\":true,\"ticks\":\"\",\"zerolinecolor\":\"white\",\"gridwidth\":2}},\"shapedefaults\":{\"line\":{\"color\":\"#2a3f5f\"}},\"annotationdefaults\":{\"arrowcolor\":\"#2a3f5f\",\"arrowhead\":0,\"arrowwidth\":1},\"geo\":{\"bgcolor\":\"white\",\"landcolor\":\"#E5ECF6\",\"subunitcolor\":\"white\",\"showland\":true,\"showlakes\":true,\"lakecolor\":\"white\"},\"title\":{\"x\":0.05},\"mapbox\":{\"style\":\"light\"}}},\"title\":{\"text\":\"3D Scatter Plot\"},\"scene\":{\"xaxis\":{\"title\":{\"text\":\"X Axis\"}},\"yaxis\":{\"title\":{\"text\":\"Y Axis\"}},\"zaxis\":{\"title\":{\"text\":\"Z Axis\"}}}},                        {\"responsive\": true}                    ).then(function(){\n",
              "                            \n",
              "var gd = document.getElementById('9769de32-1571-4ef1-9ba3-1f0e07ac07e1');\n",
              "var x = new MutationObserver(function (mutations, observer) {{\n",
              "        var display = window.getComputedStyle(gd).display;\n",
              "        if (!display || display === 'none') {{\n",
              "            console.log([gd, 'removed!']);\n",
              "            Plotly.purge(gd);\n",
              "            observer.disconnect();\n",
              "        }}\n",
              "}});\n",
              "\n",
              "// Listen for the removal of the full notebook cells\n",
              "var notebookContainer = gd.closest('#notebook-container');\n",
              "if (notebookContainer) {{\n",
              "    x.observe(notebookContainer, {childList: true});\n",
              "}}\n",
              "\n",
              "// Listen for the clearing of the current output cell\n",
              "var outputEl = gd.closest('.output');\n",
              "if (outputEl) {{\n",
              "    x.observe(outputEl, {childList: true});\n",
              "}}\n",
              "\n",
              "                        })                };                            </script>        </div>\n",
              "</body>\n",
              "</html>"
            ]
          },
          "metadata": {}
        }
      ]
    }
  ]
}