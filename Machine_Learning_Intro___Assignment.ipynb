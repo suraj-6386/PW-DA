{
  "nbformat": 4,
  "nbformat_minor": 0,
  "metadata": {
    "colab": {
      "provenance": []
    },
    "kernelspec": {
      "name": "python3",
      "display_name": "Python 3"
    },
    "language_info": {
      "name": "python"
    }
  },
  "cells": [
    {
      "cell_type": "markdown",
      "source": [
        "# Machine Learning Intro | Assignment"
      ],
      "metadata": {
        "id": "a4QeAVUymr3B"
      }
    },
    {
      "cell_type": "markdown",
      "source": [
        "\n",
        "\n",
        "## **Question 1:**\n",
        "\n",
        "**Explain the differences between AI, ML, Deep Learning (DL), and Data Science (DS).**\n",
        "\n",
        "\n",
        "\n",
        "### **Answer:**\n",
        "\n",
        "Artificial Intelligence (AI), Machine Learning (ML), Deep Learning (DL), and Data Science (DS) are related fields but they differ in scope, purpose, and techniques.\n",
        "\n",
        "#### **1. Artificial Intelligence (AI):**\n",
        "\n",
        "* **Definition:** AI is the broadest concept. It refers to creating systems that can perform tasks that normally require human intelligence.\n",
        "* **Goal:** To mimic human intelligence, reasoning, and decision-making.\n",
        "* **Example:** Chatbots, self-driving cars, virtual assistants like Siri or Alexa.\n",
        "\n",
        "\n",
        "\n",
        "#### **2. Machine Learning (ML):**\n",
        "\n",
        "* **Definition:** ML is a subset of AI that enables machines to learn from data without being explicitly programmed.\n",
        "* **Goal:** To build algorithms that improve automatically with experience (data).\n",
        "* **Example:** Spam email detection, movie recommendation systems.\n",
        "\n",
        "\n",
        "\n",
        "#### **3. Deep Learning (DL):**\n",
        "\n",
        "* **Definition:** DL is a specialized subset of ML that uses **artificial neural networks with multiple layers** to learn complex patterns in large datasets.\n",
        "* **Goal:** To handle unstructured data like images, videos, and natural language with very high accuracy.\n",
        "* **Example:** Face recognition, voice assistants, image classification.\n",
        "\n",
        "\n",
        "\n",
        "#### **4. Data Science (DS):**\n",
        "\n",
        "* **Definition:** DS is a multidisciplinary field that combines statistics, programming, domain knowledge, and data analysis to extract insights from data.\n",
        "* **Goal:** To analyze and interpret data for decision-making.\n",
        "* **Example:** Analyzing customer purchasing patterns, predicting sales trends.\n",
        "\n",
        "\n"
      ],
      "metadata": {
        "id": "JTsRCIWzm6XV"
      }
    },
    {
      "cell_type": "markdown",
      "source": [
        "## **Question 2:**\n",
        "\n",
        "**What are the types of machine learning? Describe each with one real-world example.**\n",
        "\n",
        "\n",
        "\n",
        "### **Answer:**\n",
        "\n",
        "Machine Learning (ML) is broadly classified into three main types based on how the model learns from data:\n",
        "\n",
        "\n",
        "\n",
        "#### **1. Supervised Learning**\n",
        "\n",
        "* **Definition:** The model is trained on a labeled dataset (input and output are known). The algorithm learns the mapping between inputs and outputs to make predictions.\n",
        "* **Goal:** Predict outcomes for new/unseen data.\n",
        "* **Real-World Example:**\n",
        "\n",
        "  * **Spam Email Detection:** Emails are labeled as “spam” or “not spam.” The algorithm learns from these labels and predicts whether a new email is spam.\n",
        "\n",
        "\n",
        "#### **2. Unsupervised Learning**\n",
        "\n",
        "* **Definition:** The model is trained on an unlabeled dataset (only input data is given, no output labels). The algorithm tries to find hidden patterns or groupings in the data.\n",
        "* **Goal:** Discover structure or relationships in data.\n",
        "* **Real-World Example:**\n",
        "\n",
        "  * **Customer Segmentation in Marketing:** Retailers use unsupervised learning (clustering) to group customers based on buying behavior and target them with personalized offers.\n",
        "\n",
        "\n",
        "\n",
        "#### **3. Semi-Supervised Learning**\n",
        "\n",
        "* **Definition:** Semi-supervised learning is a type of machine learning that uses a small amount of **labeled data** along with a large amount of **unlabeled data** for training. It combines the advantages of supervised and unsupervised learning.\n",
        "* **Goal:** Improve learning accuracy when labeling data is costly or time-consuming by leveraging unlabeled data.\n",
        "* **Real-World Example:**\n",
        "\n",
        "  * **Medical Diagnosis:** Only a small portion of medical scans (like X-rays or MRIs) are labeled by experts due to high costs, while the majority remain unlabeled. Semi-supervised learning helps build models using both labeled and unlabeled scans for better predictions.\n",
        "\n",
        "\n",
        "#### **4. Reinforcement Learning**\n",
        "\n",
        "* **Definition:** The model learns by interacting with an environment. It receives feedback in the form of rewards or penalties for its actions and improves its performance through trial and error.\n",
        "* **Goal:** Learn a sequence of actions that maximize rewards.\n",
        "* **Real-World Example:**\n",
        "\n",
        "  * **Self-Driving Cars:** A car learns to drive by receiving rewards for safe driving actions (staying in the lane, stopping at signals) and penalties for unsafe ones (collisions).\n",
        "\n",
        "\n",
        "\n",
        "\n"
      ],
      "metadata": {
        "id": "cNzF6uusnJGw"
      }
    },
    {
      "cell_type": "markdown",
      "source": [
        "## **Question 3:**\n",
        "\n",
        "**Define overfitting, underfitting, and the bias-variance tradeoff in machine learning.**\n",
        "\n",
        "\n",
        "### **Answer:**\n",
        "\n",
        "#### **1. Overfitting**\n",
        "\n",
        "* **Definition:** Overfitting occurs when a machine learning model learns **too much detail and noise** from the training data, resulting in poor performance on unseen/test data.\n",
        "* **Reason:** The model becomes too complex (too many parameters or layers).\n",
        "* **Effect:** High accuracy on training data but low accuracy on test data.\n",
        "* **Example:** A model predicting house prices memorizes the training dataset instead of learning general patterns.\n",
        "\n",
        "\n",
        "\n",
        "#### **2. Underfitting**\n",
        "\n",
        "* **Definition:** Underfitting occurs when a model is **too simple** and cannot capture the underlying patterns of the data.\n",
        "* **Reason:** The model has insufficient complexity or is not trained enough.\n",
        "* **Effect:** Poor performance on both training and test data.\n",
        "* **Example:** Using linear regression for a dataset with highly non-linear relationships.\n",
        "\n",
        "\n",
        "#### **3. Bias-Variance Tradeoff**\n",
        "\n",
        "* **Definition:** The bias-variance tradeoff is the balance between **bias (error due to overly simple models)** and **variance (error due to overly complex models)** in machine learning.\n",
        "* **Goal:** Achieve the right complexity in the model that generalizes well to unseen data.\n",
        "* **Key Points:**\n",
        "\n",
        "  * **High Bias (Underfitting):** Model is too simple, makes strong assumptions, low accuracy.\n",
        "  * **High Variance (Overfitting):** Model is too complex, fits noise, poor generalization.\n",
        "  * **Optimal Model:** A balance where both bias and variance are minimized.\n",
        "\n",
        "\n",
        "\n",
        "### **Diagram (for easy understanding):**\n",
        "\n",
        "```\n",
        "Model Complexity  →  Low ---------------------- High\n",
        "Error Type         →  High Bias ---- Optimal ---- High Variance\n",
        "```\n",
        "\n",
        " **Summary:**\n",
        "\n",
        "* **Overfitting** → Model too complex → memorizes training data.\n",
        "* **Underfitting** → Model too simple → fails to learn patterns.\n",
        "* **Bias-Variance Tradeoff** → Finding the right balance between simplicity and complexity for best generalization.\n",
        "\n"
      ],
      "metadata": {
        "id": "x1EyRFMHnQeB"
      }
    },
    {
      "cell_type": "markdown",
      "source": [
        "## **Question 4:**\n",
        "\n",
        "**What are outliers in a dataset, and list three common techniques for handling them.**\n",
        "\n",
        "\n",
        "### **Answer:**\n",
        "\n",
        "#### **Outliers**\n",
        "\n",
        "* **Definition:** Outliers are data points that deviate significantly from the majority of observations in a dataset.\n",
        "* **Cause:** They may arise due to errors in data collection, measurement issues, or genuine rare events.\n",
        "* **Effect:** Outliers can distort statistical analyses and negatively impact the performance of machine learning models.\n",
        "* **Example:** In student height data (mostly between 150–190 cm), a record showing 300 cm would be an outlier.\n",
        "\n",
        "\n",
        "#### **Three Common Techniques for Handling Outliers:**\n",
        "\n",
        "1. **Removal (Deleting Outliers):**\n",
        "\n",
        "   * Remove extreme values if they are errors or irrelevant.\n",
        "   * *Example:* Removing negative age values from a dataset.\n",
        "\n",
        "2. **Transformation (Scaling/Log Transformation):**\n",
        "\n",
        "   * Apply mathematical transformations (e.g., log, square root) to reduce the effect of extreme values.\n",
        "   * *Example:* Using log transformation on income data to handle very high salaries.\n",
        "\n",
        "3. **Capping / Winsorization (Replacing Outliers):**\n",
        "\n",
        "   * Replace extreme values with a maximum or minimum threshold.\n",
        "   * *Example:* Setting any exam score above 100 as 100.\n",
        "\n"
      ],
      "metadata": {
        "id": "0BEuRBzvnV22"
      }
    },
    {
      "cell_type": "markdown",
      "source": [
        "## **Question 5:**\n",
        "\n",
        "**Explain the process of handling missing values and mention one imputation technique for numerical and one for categorical data.**\n",
        "\n",
        "\n",
        "### **Answer:**\n",
        "\n",
        "#### **Handling Missing Values**\n",
        "\n",
        "Missing values occur when some data points in a dataset are not recorded. They can lead to biased analysis or reduce the accuracy of machine learning models. The process of handling missing values involves the following steps:\n",
        "\n",
        "1. **Identify Missing Values:**\n",
        "\n",
        "   * Use methods like `.isnull()` in Python (Pandas) to check missing data.\n",
        "\n",
        "2. **Analyze the Pattern of Missingness:**\n",
        "\n",
        "   * Check if data is missing randomly (MCAR/MAR) or systematically (MNAR).\n",
        "\n",
        "3. **Decide on Strategy:**\n",
        "\n",
        "   * Options include removing, imputing, or ignoring missing values based on dataset size and importance of the variable.\n",
        "\n",
        "\n",
        "#### **Imputation Techniques:**\n",
        "\n",
        "1. **For Numerical Data → Mean/Median Imputation**\n",
        "\n",
        "   * Replace missing values with the mean or median of the column.\n",
        "   * *Example:* If student test scores are missing, fill them with the median score.\n",
        "\n",
        "2. **For Categorical Data → Mode Imputation**\n",
        "\n",
        "   * Replace missing values with the most frequent category (mode).\n",
        "   * *Example:* If “Gender” is missing, fill it with the most common category (e.g., “Male” or “Female”).\n",
        "\n",
        "\n"
      ],
      "metadata": {
        "id": "-juWuHhbnbgL"
      }
    },
    {
      "cell_type": "markdown",
      "source": [
        "## **Question 6:**\n",
        "\n",
        "**Write a Python program that:**\n",
        "\n",
        "* Creates a synthetic imbalanced dataset with `make_classification()` from `sklearn.datasets`.\n",
        "* Prints the class distribution.\n",
        "\n",
        "\n"
      ],
      "metadata": {
        "id": "CsKXhQidnhec"
      }
    },
    {
      "cell_type": "code",
      "source": [
        "\n",
        "# Import required libraries\n",
        "from sklearn.datasets import make_classification\n",
        "import numpy as np\n",
        "from collections import Counter\n",
        "\n",
        "# Create synthetic imbalanced dataset\n",
        "X, y = make_classification(n_samples=1000,    # total samples\n",
        "                           n_features=2,      # number of features\n",
        "                           n_redundant=0,     # no redundant features\n",
        "                           n_clusters_per_class=1,\n",
        "                           weights=[0.9, 0.1], # imbalance: 90% class 0, 10% class 1\n",
        "                           random_state=42)\n",
        "\n",
        "# Print class distribution\n",
        "class_distribution = Counter(y)\n",
        "print(\"Class Distribution:\", class_distribution)\n"
      ],
      "metadata": {
        "colab": {
          "base_uri": "https://localhost:8080/"
        },
        "id": "7P7QI0ctpA-V",
        "outputId": "cbc5ee6f-70a4-47a4-dc1c-d7f8efe1d031"
      },
      "execution_count": 1,
      "outputs": [
        {
          "output_type": "stream",
          "name": "stdout",
          "text": [
            "Class Distribution: Counter({np.int64(0): 895, np.int64(1): 105})\n"
          ]
        }
      ]
    },
    {
      "cell_type": "markdown",
      "source": [
        "**Explanation:**\n",
        "\n",
        "* `weights=[0.9, 0.1]` creates imbalance (90% samples from class `0` and 10% from class `1`).\n",
        "* `Counter(y)` counts how many samples belong to each class.\n"
      ],
      "metadata": {
        "id": "W7tkjZmOpEGr"
      }
    },
    {
      "cell_type": "markdown",
      "source": [
        "## **Question 7:**\n",
        "\n",
        "**Implement one-hot encoding using pandas for the following list of colors: `['Red', 'Green', 'Blue', 'Green', 'Red']`. Print the resulting dataframe.**\n",
        "\n",
        "\n",
        "\n"
      ],
      "metadata": {
        "id": "6SeDT6w8nm5i"
      }
    },
    {
      "cell_type": "code",
      "source": [
        "import pandas as pd\n",
        "\n",
        "# Original list\n",
        "colors = ['Red', 'Green', 'Blue', 'Green', 'Red']\n",
        "\n",
        "# Convert to DataFrame\n",
        "df = pd.DataFrame(colors, columns=['Color'])\n",
        "\n",
        "# Apply one-hot encoding\n",
        "one_hot = pd.get_dummies(df, columns=['Color'])\n",
        "\n",
        "# Print the resulting DataFrame\n",
        "print(one_hot)"
      ],
      "metadata": {
        "colab": {
          "base_uri": "https://localhost:8080/"
        },
        "id": "wZioiUJopLxb",
        "outputId": "532d4938-1d6e-4c7b-f12f-a0787098e879"
      },
      "execution_count": 2,
      "outputs": [
        {
          "output_type": "stream",
          "name": "stdout",
          "text": [
            "   Color_Blue  Color_Green  Color_Red\n",
            "0       False        False       True\n",
            "1       False         True      False\n",
            "2        True        False      False\n",
            "3       False         True      False\n",
            "4       False        False       True\n"
          ]
        }
      ]
    },
    {
      "cell_type": "markdown",
      "source": [
        " **Explanation:**\n",
        "\n",
        "* `pd.get_dummies()` converts categorical values into binary (0/1) columns.\n",
        "* Each unique color becomes a column (`Color_Blue`, `Color_Green`, `Color_Red`).\n",
        "* A `1` indicates the presence of that color in the row.\n",
        "\n"
      ],
      "metadata": {
        "id": "-QacbQ4WpRRM"
      }
    },
    {
      "cell_type": "markdown",
      "source": [
        "## **Question 8:**\n",
        "\n",
        "**Write a Python script to:**\n",
        "\n",
        "* Generate 1000 samples from a normal distribution.\n",
        "* Introduce 50 random missing values.\n",
        "* Fill missing values with the column mean.\n",
        "* Plot a histogram before and after imputation.\n",
        "\n",
        "\n",
        "\n",
        "\n",
        "\n",
        "\n"
      ],
      "metadata": {
        "id": "ajunbqK9nrpe"
      }
    },
    {
      "cell_type": "code",
      "source": [
        "import numpy as np\n",
        "import pandas as pd\n",
        "import matplotlib.pyplot as plt\n",
        "\n",
        "# Step 1: Generate 1000 samples from a normal distribution\n",
        "data = np.random.randn(1000)\n",
        "\n",
        "# Step 2: Introduce 50 random missing values\n",
        "data[np.random.choice(1000, 50, replace=False)] = np.nan\n",
        "\n",
        "# Convert to DataFrame\n",
        "df = pd.DataFrame(data, columns=['Values'])\n",
        "\n",
        "# Step 3: Fill missing values with column mean\n",
        "mean_value = df['Values'].mean()\n",
        "df_filled = df.fillna(mean_value)\n",
        "\n",
        "# Step 4: Plot histograms before and after imputation\n",
        "plt.figure(figsize=(10,5))\n",
        "\n",
        "# Histogram before imputation\n",
        "plt.subplot(1, 2, 1)\n",
        "plt.hist(df['Values'].dropna(), bins=30, edgecolor='black')\n",
        "plt.title(\"Before Imputation\")\n",
        "plt.xlabel(\"Value\")\n",
        "plt.ylabel(\"Frequency\")\n",
        "\n",
        "# Histogram after imputation\n",
        "plt.subplot(1, 2, 2)\n",
        "plt.hist(df_filled['Values'], bins=30, edgecolor='black')\n",
        "plt.title(\"After Imputation\")\n",
        "plt.xlabel(\"Value\")\n",
        "plt.ylabel(\"Frequency\")\n",
        "\n",
        "plt.tight_layout()\n",
        "plt.show()"
      ],
      "metadata": {
        "colab": {
          "base_uri": "https://localhost:8080/",
          "height": 507
        },
        "id": "3JO7vJ9rpWQT",
        "outputId": "471da60d-c62e-460f-cacb-930230243bda"
      },
      "execution_count": 3,
      "outputs": [
        {
          "output_type": "display_data",
          "data": {
            "text/plain": [
              "<Figure size 1000x500 with 2 Axes>"
            ],
            "image/png": "[encoded data removed]"
          },
          "metadata": {}
        }
      ]
    },
    {
      "cell_type": "markdown",
      "source": [
        "###  **Explanation:**\n",
        "\n",
        "* **Step 1:** `np.random.randn(1000)` generates 1000 samples from a standard normal distribution (mean = 0, std = 1).\n",
        "* **Step 2:** 50 random indices are replaced with `NaN` to simulate missing values.\n",
        "* **Step 3:** Missing values are replaced with the column mean using `fillna()`.\n",
        "* **Step 4:** Two histograms are plotted: one before and one after imputation.\n"
      ],
      "metadata": {
        "id": "1ELf50_Ppbes"
      }
    },
    {
      "cell_type": "markdown",
      "source": [
        "## **Question 9:**\n",
        "\n",
        "**Implement Min-Max scaling on the following list of numbers `[2, 5, 10, 15, 20]` using `sklearn.preprocessing.MinMaxScaler`. Print the scaled array.**\n",
        "\n"
      ],
      "metadata": {
        "id": "lp4Co4xVnxlb"
      }
    },
    {
      "cell_type": "code",
      "source": [
        "import numpy as np\n",
        "from sklearn.preprocessing import MinMaxScaler\n",
        "\n",
        "# Original data\n",
        "data = np.array([2, 5, 10, 15, 20]).reshape(-1, 1)\n",
        "\n",
        "# Apply Min-Max Scaling\n",
        "scaler = MinMaxScaler()\n",
        "scaled_data = scaler.fit_transform(data)\n",
        "\n",
        "# Print the scaled array\n",
        "print(\"Original Data:\\n\", data.flatten())\n",
        "print(\"Scaled Data:\\n\", scaled_data.flatten())"
      ],
      "metadata": {
        "colab": {
          "base_uri": "https://localhost:8080/"
        },
        "id": "ywByNEQAphT8",
        "outputId": "c3634ba7-9252-4404-9e34-d5acb4364555"
      },
      "execution_count": 4,
      "outputs": [
        {
          "output_type": "stream",
          "name": "stdout",
          "text": [
            "Original Data:\n",
            " [ 2  5 10 15 20]\n",
            "Scaled Data:\n",
            " [0.         0.16666667 0.44444444 0.72222222 1.        ]\n"
          ]
        }
      ]
    },
    {
      "cell_type": "markdown",
      "source": [
        "\n",
        " **Explanation:**\n",
        "\n",
        "* **Min-Max Scaling Formula:**\n",
        "\n",
        "  $$\n",
        "  X' = \\frac{X - X_{min}}{X_{max} - X_{min}}\n",
        "  $$\n",
        "* Here:\n",
        "\n",
        "  * Min = 2, Max = 20.\n",
        "  * Example for `10`:\n",
        "\n",
        "    $$\n",
        "    \\frac{10 - 2}{20 - 2} = \\frac{8}{18} \\approx 0.421\n",
        "    $$"
      ],
      "metadata": {
        "id": "RGS_kB3OpmIR"
      }
    },
    {
      "cell_type": "markdown",
      "source": [
        "## **Question 10:**\n",
        "\n",
        "You are working as a data scientist for a retail company. You receive a customer transaction dataset that contains:\n",
        "\n",
        "* Missing ages,\n",
        "* Outliers in transaction amount,\n",
        "* A highly imbalanced target (fraud vs. non-fraud),\n",
        "* Categorical variables like payment method.\n",
        "\n",
        "**Explain the step-by-step data preparation plan you’d follow before training a machine learning model. Include how you’d address missing data, outliers, imbalance, and encoding.**\n",
        "\n",
        "\n",
        "#### **Step 1: Handle Missing Data (Ages)**\n",
        "\n",
        "* Use **median imputation** for missing ages since age distribution can be skewed.\n",
        "\n",
        "#### **Step 2: Handle Outliers (Transaction Amount)**\n",
        "\n",
        "* Detect outliers using the **IQR method** or **z-score**.\n",
        "* Cap (Winsorize) extreme values or remove them if they are unrealistic.\n",
        "\n",
        "#### **Step 3: Handle Imbalanced Target (Fraud vs Non-Fraud)**\n",
        "\n",
        "* Use **SMOTE (Synthetic Minority Oversampling Technique)** to oversample minority class (fraud).\n",
        "* Alternatively, undersample the majority class.\n",
        "\n",
        "#### **Step 4: Encode Categorical Variables (Payment Method)**\n",
        "\n",
        "* Apply **One-Hot Encoding** for nominal variables (e.g., Credit Card, UPI, Cash).\n",
        "* If high cardinality, use **Target Encoding**.\n",
        "\n",
        " **Summary:**\n",
        "\n",
        "* **Missing Values:** Filled with median.\n",
        "* **Outliers:** Handled with IQR capping.\n",
        "* **Imbalance:** Solved with SMOTE oversampling.\n",
        "* **Categorical Variables:** Encoded with One-Hot Encoding.\n"
      ],
      "metadata": {
        "id": "_ReGd7XZn3Bm"
      }
    },
    {
      "cell_type": "code",
      "source": [
        "import pandas as pd\n",
        "import numpy as np\n",
        "from sklearn.impute import SimpleImputer\n",
        "from sklearn.preprocessing import OneHotEncoder, MinMaxScaler\n",
        "from imblearn.over_sampling import SMOTE\n",
        "\n",
        "# Sample synthetic dataset\n",
        "data = {\n",
        "    'Age': [25, np.nan, 40, 35, np.nan, 60, 22],\n",
        "    'TransactionAmount': [100, 20000, 150, 130, 30000, 120, 110],\n",
        "    'PaymentMethod': ['Card', 'Cash', 'UPI', 'Card', 'UPI', 'Cash', 'Card'],\n",
        "    'Fraud': [0, 0, 0, 0, 1, 0, 1]\n",
        "}\n",
        "df = pd.DataFrame(data)\n",
        "print(\"Original Data:\\n\", df, \"\\n\")\n",
        "\n",
        "# Step 1: Handle Missing Values (Age) with Median Imputation\n",
        "imputer = SimpleImputer(strategy='median')\n",
        "df['Age'] = imputer.fit_transform(df[['Age']])\n",
        "print(\"After Missing Value Imputation:\\n\", df, \"\\n\")\n",
        "\n",
        "# Step 2: Handle Outliers (Transaction Amount) using IQR capping\n",
        "Q1 = df['TransactionAmount'].quantile(0.25)\n",
        "Q3 = df['TransactionAmount'].quantile(0.75)\n",
        "IQR = Q3 - Q1\n",
        "lower_limit = Q1 - 1.5 * IQR\n",
        "upper_limit = Q3 + 1.5 * IQR\n",
        "df['TransactionAmount'] = np.where(df['TransactionAmount'] > upper_limit, upper_limit,\n",
        "                                   np.where(df['TransactionAmount'] < lower_limit, lower_limit,\n",
        "                                            df['TransactionAmount']))\n",
        "print(\"After Outlier Handling:\\n\", df, \"\\n\")\n",
        "\n",
        "# Step 3: Handle Imbalanced Target using SMOTE\n",
        "X = df.drop('Fraud', axis=1)\n",
        "y = df['Fraud']\n",
        "\n",
        "# One-Hot Encode categorical before SMOTE\n",
        "X = pd.get_dummies(X, drop_first=True)\n",
        "\n",
        "# Use fewer neighbors since minority class is very small\n",
        "smote = SMOTE(random_state=42, k_neighbors=1)\n",
        "X_resampled, y_resampled = smote.fit_resample(X, y)\n",
        "\n",
        "print(\"Class Distribution After SMOTE:\\n\", y_resampled.value_counts(), \"\\n\")\n",
        "\n",
        "# Step 4: Show Encoded Data\n",
        "print(\"Encoded & Resampled Features:\\n\", X_resampled.head())"
      ],
      "metadata": {
        "colab": {
          "base_uri": "https://localhost:8080/"
        },
        "id": "9zSUd-LzpvpK",
        "outputId": "0b0e5f47-afaf-4e95-9ee3-cf094ed0323f"
      },
      "execution_count": 6,
      "outputs": [
        {
          "output_type": "stream",
          "name": "stdout",
          "text": [
            "Original Data:\n",
            "     Age  TransactionAmount PaymentMethod  Fraud\n",
            "0  25.0                100          Card      0\n",
            "1   NaN              20000          Cash      0\n",
            "2  40.0                150           UPI      0\n",
            "3  35.0                130          Card      0\n",
            "4   NaN              30000           UPI      1\n",
            "5  60.0                120          Cash      0\n",
            "6  22.0                110          Card      1 \n",
            "\n",
            "After Missing Value Imputation:\n",
            "     Age  TransactionAmount PaymentMethod  Fraud\n",
            "0  25.0                100          Card      0\n",
            "1  35.0              20000          Cash      0\n",
            "2  40.0                150           UPI      0\n",
            "3  35.0                130          Card      0\n",
            "4  35.0              30000           UPI      1\n",
            "5  60.0                120          Cash      0\n",
            "6  22.0                110          Card      1 \n",
            "\n",
            "After Outlier Handling:\n",
            "     Age  TransactionAmount PaymentMethod  Fraud\n",
            "0  25.0              100.0          Card      0\n",
            "1  35.0            20000.0          Cash      0\n",
            "2  40.0              150.0           UPI      0\n",
            "3  35.0              130.0          Card      0\n",
            "4  35.0            25015.0           UPI      1\n",
            "5  60.0              120.0          Cash      0\n",
            "6  22.0              110.0          Card      1 \n",
            "\n",
            "Class Distribution After SMOTE:\n",
            " Fraud\n",
            "0    5\n",
            "1    5\n",
            "Name: count, dtype: int64 \n",
            "\n",
            "Encoded & Resampled Features:\n",
            "     Age  TransactionAmount  PaymentMethod_Cash  PaymentMethod_UPI\n",
            "0  25.0              100.0               False              False\n",
            "1  35.0            20000.0                True              False\n",
            "2  40.0              150.0               False               True\n",
            "3  35.0              130.0               False              False\n",
            "4  35.0            25015.0               False               True\n"
          ]
        }
      ]
    }
  ]
}