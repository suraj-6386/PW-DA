{
  "nbformat": 4,
  "nbformat_minor": 0,
  "metadata": {
    "colab": {
      "provenance": []
    },
    "kernelspec": {
      "name": "python3",
      "display_name": "Python 3"
    },
    "language_info": {
      "name": "python"
    }
  },
  "cells": [
    {
      "cell_type": "markdown",
      "source": [
        "#OOPS Assignment\n",
        "## THOERY QUESTIONS"
      ],
      "metadata": {
        "id": "RFApWbgcRLgW"
      }
    },
    {
      "cell_type": "markdown",
      "source": [
        "### 1. What is Object-Oriented Programming?\n",
        "Object-Oriented Programming (OOP) is a programming paradigm based on the concept of “objects”, which can contain data (attributes) and code (methods or functions). OOP helps to structure complex programs by organizing them into reusable pieces of code (classes and objects).\n",
        "\n",
        "Main Concepts:\n",
        "\n",
        "* Class: Blueprint for creating objects\n",
        "* Object: Instance of a class\n",
        "* Encapsulation: Data hiding\n",
        "* Inheritance: Reuse features from another class\n",
        "* Polymorphism: Same method, different behavior\n",
        "* Abstraction: Hiding complexity"
      ],
      "metadata": {
        "id": "xWpfP7tGRTUK"
      }
    },
    {
      "cell_type": "markdown",
      "source": [
        "### 2. What is a class in OOP?\n",
        "A class in Object-Oriented Programming (OOP) is a blueprint or template used to create objects. It defines what data (called attributes) and what actions (called methods) an object will have.\n",
        "\n",
        " For example, a class named Car may include properties like color, model, and speed, and actions like start and stop. Similarly, a class Student may include name and roll number as attributes and study or give_exam as behaviors. The class itself is not an object, but it is used to make multiple objects with the same structure."
      ],
      "metadata": {
        "id": "vff_-yszRwL6"
      }
    },
    {
      "cell_type": "markdown",
      "source": [
        "### 3. What is an object in OOP?\n",
        "An object in Object-Oriented Programming (OOP) is a real-world entity created from a class. It is an instance of a class that contains actual values for the properties defined in the class.\n",
        "\n",
        "For example, if Car is a class, then myCar is an object with specific values like red color, model 2022, and speed 120 km/h. Similarly, if Student is a class, then student1 is an object with name \"Suraj\" and roll number 101.\n",
        "\n",
        "An object holds both data and behavior, and you can create many objects from the same class with different values."
      ],
      "metadata": {
        "id": "KCQZC5HhSApp"
      }
    },
    {
      "cell_type": "markdown",
      "source": [
        "### 4. What is the difference between abstraction and encapsulation?\n",
        "\n",
        "* Abstraction means hiding the internal details and showing only the essential features to the user. It focuses on what an object does rather than how it does it.\n",
        "\n",
        "Example: When you use a mobile phone, you press buttons to call but don’t know the internal processing.\n",
        "\n",
        "* Encapsulation means wrapping data and methods together into a single unit (class) and restricting direct access to some parts of it. It protects the data from outside interference.\n",
        "\n",
        "Example: In a banking app, your account balance is hidden and can only be accessed through methods like checkBalance().\n",
        "\n",
        "\n"
      ],
      "metadata": {
        "id": "-_14XDw8SIal"
      }
    },
    {
      "cell_type": "markdown",
      "source": [
        "### 5. What are dunder methods in Python?\n",
        "Dunder methods (short for \"double underscore\" methods) in Python are special built-in methods that start and end with double underscores like __init__, __str__, __len__, etc.\n",
        "\n",
        "They are used to define how objects behave with built-in Python operations like printing, adding, comparing, etc.\n",
        "\n",
        "Examples of Dunder Methods:\n",
        "\n",
        "__init__ → called when an object is created\n",
        "\n",
        "__str__ → called when print() is used\n",
        "\n",
        "__len__ → called when len() is used\n",
        "\n",
        "__add__ → defines behavior of + operator"
      ],
      "metadata": {
        "id": "TmboRP62SUsE"
      }
    },
    {
      "cell_type": "markdown",
      "source": [
        "### 6. Explain the concept of inheritance in OOP.\n",
        "Inheritance in Object-Oriented Programming (OOP) is the concept where one class (child or subclass) can acquire properties and behaviors (methods) from another class (parent or superclass).\n",
        "\n",
        "This helps in code reusability and avoids duplication. The child class can also add its own features or override the parent class’s methods.\n",
        "\n",
        "Example:\n",
        "If we have a class Animal with a method eat(), and a class Dog inherits from Animal, then Dog automatically has the eat() method, without writing it again.\n",
        "\n"
      ],
      "metadata": {
        "id": "-PNAdkD1SeZI"
      }
    },
    {
      "cell_type": "markdown",
      "source": [
        "### 7. What is polymorphism in OOP?\n",
        "\n",
        "Polymorphism in Object-Oriented Programming (OOP) means \"many forms\" — the same method or function name behaves differently based on the object that is calling it.\n",
        "\n",
        "It allows objects of different classes to respond to the same method in their own way.\n",
        "\n",
        "Polymorphism helps in writing flexible and reusable code, especially when using inheritance and method overriding.\n",
        "\n",
        "Example:\n",
        "Both Dog and Cat classes have a method called speak(), but Dog says \"bark\" and Cat says \"meow\".\n",
        "Even though the method name is the same, the behavior is different — this is polymorphism."
      ],
      "metadata": {
        "id": "ssmU0g0ZSl4F"
      }
    },
    {
      "cell_type": "markdown",
      "source": [
        "### 8.  How is encapsulation achieved in Python?\n",
        "Encapsulation in Python is achieved by wrapping data (variables) and methods (functions) into a single class, and by restricting access to some parts of the data using access modifiers.\n",
        "\n",
        "How It’s Done in Python:\n",
        "\n",
        "Public members – accessible from anywhere (name)\n",
        "\n",
        "Protected members – prefix with one underscore (_name), meant for internal use\n",
        "\n",
        "Private members – prefix with two underscores (__name), not directly accessible from outside the class"
      ],
      "metadata": {
        "id": "Iqm4rZj7SxD0"
      }
    },
    {
      "cell_type": "code",
      "source": [
        "##Example\n",
        "\n",
        "class Bank:\n",
        "    def __init__(self):\n",
        "        self.__balance = 1000  # private variable\n",
        "\n",
        "    def get_balance(self):\n",
        "        return self.__balance  # accessed via method\n",
        "\n",
        "b = Bank()\n",
        "print(b.get_balance())  # ✅ Allowed\n",
        "# print(b.__balance)      # ❌ Error: private"
      ],
      "metadata": {
        "colab": {
          "base_uri": "https://localhost:8080/"
        },
        "id": "lWVRAIFvTB0e",
        "outputId": "4a16f51a-674d-4c5b-fab0-42b33acc2e2c"
      },
      "execution_count": 3,
      "outputs": [
        {
          "output_type": "stream",
          "name": "stdout",
          "text": [
            "1000\n"
          ]
        }
      ]
    },
    {
      "cell_type": "markdown",
      "source": [
        "### 9. What is a constructor in Python?\n",
        "\n",
        "A constructor in Python is a special method that is automatically called when an object of a class is created. Its main purpose is to initialize the object’s data (i.e., set initial values for variables).\n",
        "\n",
        "In Python, this constructor method is named __init__(). It prepares the object for use right after it is created."
      ],
      "metadata": {
        "id": "IQymbcRNTIRu"
      }
    },
    {
      "cell_type": "code",
      "source": [
        "# example\n",
        "\n",
        "class Student:\n",
        "    def __init__(self, name):\n",
        "        self.name = name\n",
        "\n",
        "s1 = Student(\"Suraj\")\n",
        "print(s1.name)"
      ],
      "metadata": {
        "colab": {
          "base_uri": "https://localhost:8080/"
        },
        "id": "ttPcPVqeTZFd",
        "outputId": "e3a36528-e244-4159-df3d-6a94aaebcc59"
      },
      "execution_count": 2,
      "outputs": [
        {
          "output_type": "stream",
          "name": "stdout",
          "text": [
            "Suraj\n"
          ]
        }
      ]
    },
    {
      "cell_type": "markdown",
      "source": [
        "### 10. What are class and static methods in Python?\n",
        "\n",
        "Class Method:\n",
        "\n",
        "* Defined using @classmethod decorator.\n",
        "\n",
        "* Takes cls as the first argument (refers to the class, not the object).\n",
        "\n",
        "* Can access or modify class-level data.\n",
        "\n",
        "* Used when you want to work with the class itself, not instances.\n",
        "\n",
        "Static Method\n",
        "\n",
        "* Defined using @staticmethod decorator.\n",
        "\n",
        "* Doesn’t take self or cls as the first argument.\n",
        "\n",
        "* Acts like a regular function but belongs to the class.\n",
        "\n",
        "* Used for utility or helper functions related to the class.\n",
        "\n"
      ],
      "metadata": {
        "id": "aufeZAsETiKm"
      }
    },
    {
      "cell_type": "markdown",
      "source": [
        "### 11. What is method overloading in Python?\n",
        "Method Overloading in Python means defining multiple methods with the same name but different number or types of arguments.\n",
        "\n",
        "However, Python does not support true method overloading like some other languages (e.g., Java).\n",
        "If you define the same method name multiple times in a class, the last one overrides the previous ones.\n",
        "\n",
        "How It’s Handled in Python:\n",
        "Python uses default arguments or args/kwargs to mimic method overloading.\n",
        "\n",
        "Example:\n",
        "A method add() can work with 1, 2, or 3 numbers using default values or *args.\n",
        "\n"
      ],
      "metadata": {
        "id": "AmUBP9fhT6zG"
      }
    },
    {
      "cell_type": "code",
      "source": [
        "#EXAMPLE\n",
        "\n",
        "class Calculator:\n",
        "    def add(self, *args):\n",
        "        return sum(args)\n",
        "\n",
        "c = Calculator()\n",
        "print(c.add(2))\n",
        "print(c.add(2, 3))\n",
        "print(c.add(1, 2, 3))\n"
      ],
      "metadata": {
        "colab": {
          "base_uri": "https://localhost:8080/"
        },
        "id": "va9Y7xtDUcsR",
        "outputId": "2f835fb2-2595-4699-b20c-03f53e6398ac"
      },
      "execution_count": 4,
      "outputs": [
        {
          "output_type": "stream",
          "name": "stdout",
          "text": [
            "2\n",
            "5\n",
            "6\n"
          ]
        }
      ]
    },
    {
      "cell_type": "markdown",
      "source": [
        "### 12. What is method overriding in OOP?\n",
        "Method Overriding in Object-Oriented Programming (OOP) is when a child class provides its own version of a method that is already defined in its parent class.\n",
        "\n",
        "The method in the child class overrides (replaces) the one in the parent class when called using a child class object.\n",
        "\n",
        "\n",
        "* Same method name in both parent and child class\n",
        "* Allows customization of inherited behavior\n",
        "* Achieved using inheritance\n"
      ],
      "metadata": {
        "id": "xxlrU_GyUh0N"
      }
    },
    {
      "cell_type": "markdown",
      "source": [
        "### 13. What is a property decorator in Python?\n",
        "The @property decorator in Python is used to make a method behave like an attribute. It allows you to access a method without using parentheses, which makes the code cleaner and more readable.\n",
        "\n",
        "It is mainly used for encapsulation, so you can control how a value is returned or calculated, while keeping the syntax simple.\n",
        "\n",
        "For example, instead of calling obj.get_name(), you can simply write obj.name using @property."
      ],
      "metadata": {
        "id": "XAm3aM9uU3dQ"
      }
    },
    {
      "cell_type": "markdown",
      "source": [
        "### 14. Why is polymorphism important in OOP?\n",
        "\n",
        "Polymorphism is important in Object-Oriented Programming (OOP) because it allows the same method or function name to behave differently based on the object calling it. This makes code more flexible, reusable, and easier to maintain.\n",
        "\n",
        "Why it's important:\n",
        "\n",
        "* Code Reusability: One function works for different types of objects.\n",
        "\n",
        "* Extensibility: Easy to add new classes without changing existing code.\n",
        "\n",
        "* Simplifies Code: Reduces the need for complex if-else or type-checking logic.\n",
        "\n",
        "* Supports Dynamic Behavior: Method behavior changes at runtime based on the object.\n",
        "\n"
      ],
      "metadata": {
        "id": "0HSUO-A_VCGU"
      }
    },
    {
      "cell_type": "markdown",
      "source": [
        "### 15. What is an abstract class in Python?\n",
        "\n",
        "An abstract class in Python is a class that cannot be instantiated directly. It is meant to be a base class and is used to define common structure for its subclasses.\n",
        "\n",
        "It can have abstract methods (methods with no implementation) that must be implemented in the child classes.\n",
        "\n",
        "Key Points:\n",
        "\n",
        "Defined using the abc module and @abstractmethod decorator.\n",
        "\n",
        "Used to provide a blueprint for other classes.\n",
        "\n",
        "Helps achieve abstraction and enforce structure in subclasses."
      ],
      "metadata": {
        "id": "Bepj4jIwVMVc"
      }
    },
    {
      "cell_type": "markdown",
      "source": [
        "### 16. What are the advantages of OOP?\n",
        "Advantages of Object-Oriented Programming (OOP):\n",
        "\n",
        "* Modularity:\n",
        "Code is organized into classes and objects, making it easy to manage and update.\n",
        "\n",
        "* Reusability:\n",
        "Classes can be reused across programs through inheritance, reducing duplication.\n",
        "\n",
        "* Data Security:\n",
        "Encapsulation hides data and protects it from unauthorized access.\n",
        "\n",
        "* Flexibility:\n",
        "Polymorphism allows the same function to behave differently based on context.\n",
        "\n",
        "* Scalability:\n",
        "Easy to expand or modify programs by adding new classes without affecting existing code.\n",
        "\n",
        "* Real-world Mapping:\n",
        "Models real-world entities naturally using objects, making programs more understandable.\n",
        "\n",
        "* Maintainability:\n",
        "Code is easier to fix and improve due to clear structure and separation of concerns."
      ],
      "metadata": {
        "id": "mZMgz3doVTGc"
      }
    },
    {
      "cell_type": "markdown",
      "source": [
        "### 17. What is the difference between a class variable and an instance variable?\n",
        "\n",
        "A class variable is shared by all objects of the class, whereas an instance variable is unique to each object.\n",
        "\n",
        "* Class Variable\n",
        "\n",
        "Defined outside any method, directly in the class.\n",
        "\n",
        "Same value for all instances (shared).\n",
        "\n",
        "Example (conceptual): school_name is same for all students.\n",
        "\n",
        "* Instance Variable\n",
        "\n",
        "Defined inside the __init__() method using self.\n",
        "\n",
        "Different values for each object (not shared).\n",
        "\n",
        "Example (conceptual): name and roll_number are different for each student."
      ],
      "metadata": {
        "id": "Zuwoh-SoVi0V"
      }
    },
    {
      "cell_type": "markdown",
      "source": [
        "### 18. What is multiple inheritance in Python?\n",
        "\n",
        "Multiple Inheritance in Python is a feature where a class can inherit from more than one parent class. This allows the child class to access the properties and methods of multiple classes.\n",
        "\n",
        "Example:\n",
        "If Class A has method methodA() and Class B has methodB(), then a Class C(A, B) can access both methods.\n",
        "\n",
        "Multiple inheritance increases code reusability, but it must be used carefully to avoid confusion like the diamond problem, which Python handles using the MRO (Method Resolution Order)."
      ],
      "metadata": {
        "id": "lfCpgWl1Vx-R"
      }
    },
    {
      "cell_type": "code",
      "source": [
        "# example\n",
        "\n",
        "class A:\n",
        "    def showA(self):\n",
        "        print(\"A\")\n",
        "\n",
        "class B:\n",
        "    def showB(self):\n",
        "        print(\"B\")\n",
        "\n",
        "class C(A, B):\n",
        "    pass\n",
        "\n",
        "obj = C()\n",
        "obj.showA()\n",
        "obj.showB()\n"
      ],
      "metadata": {
        "colab": {
          "base_uri": "https://localhost:8080/"
        },
        "id": "tDxlnsDzV7c0",
        "outputId": "33ec07a0-629f-4cbd-c508-596d6431d595"
      },
      "execution_count": 5,
      "outputs": [
        {
          "output_type": "stream",
          "name": "stdout",
          "text": [
            "A\n",
            "B\n"
          ]
        }
      ]
    },
    {
      "cell_type": "markdown",
      "source": [
        "### 19. Explain the purpose of ‘`__str__`’ and ‘`__repr__`’  methods in Python?\n",
        "\n",
        "`__str__`\n",
        "\n",
        "* Used by the print() function.\n",
        "\n",
        "* Returns a user-friendly or readable string.\n",
        "\n",
        "* Purpose: For display to end users.\n",
        "\n",
        "* readable output (print(obj))\n",
        "\n",
        "`__repr__`\n",
        "\n",
        "* Used in debugging, repr(), or interpreter.\n",
        "\n",
        "* Returns a developer-friendly string (often with more detail).\n",
        "\n",
        "* Purpose: For developers to understand the object.\n",
        "\n",
        "* unambiguous/debug output (repr(obj) or just obj in shell)\n"
      ],
      "metadata": {
        "id": "a0cZgjYFV-gZ"
      }
    },
    {
      "cell_type": "markdown",
      "source": [
        "### 20. What is the significance of the ‘super()’ function in Python?\n",
        "\n",
        "The super() function in Python is used to call methods from a parent (super) class in a child (subclass). It allows you to reuse code and extend functionality of inherited methods, especially the __init__() constructor.\n",
        "\n",
        "Significance of super():\n",
        "\n",
        "* Calls parent class methods without naming the parent class directly.\n",
        "\n",
        "* Supports multiple inheritance using Python’s Method Resolution Order (MRO).\n",
        "\n",
        "* Makes code more maintainable and flexible.\n",
        "\n",
        "* Commonly used to call the parent constructor inside a subclass."
      ],
      "metadata": {
        "id": "_C5JZw-6Wy3q"
      }
    },
    {
      "cell_type": "markdown",
      "source": [
        "### 21. What is the significance of the `__del__` method in Python?\n",
        "The `__del__` method in Python is a special method called a destructor. It is automatically executed when an object is about to be destroyed, i.e., when it is no longer in use or the program ends.\n",
        "\n",
        "Significance of `__del__`:\n",
        "\n",
        "* Used to clean up resources (like files or network connections) before the object is deleted.\n",
        "\n",
        "* Helps in memory management by allowing custom actions during object destruction.\n",
        "\n",
        "* Called automatically by the Python garbage collector.\n",
        "\n"
      ],
      "metadata": {
        "id": "zlipazfvXCj4"
      }
    },
    {
      "cell_type": "markdown",
      "source": [
        "### 22. What is the difference between @staticmethod and @classmethod in Python?\n",
        "\n",
        "@staticmethod:\n",
        "\n",
        "* Does not take self or cls as a parameter.\n",
        "\n",
        "* Cannot access class or instance variables.\n",
        "\n",
        "* Used for utility/helper functions.\n",
        "\n",
        "\n",
        "@classmethod:\n",
        "\n",
        "* Takes cls as the first parameter.\n",
        "\n",
        "* Can access or modify class variables.\n",
        "\n",
        "* Used for factory methods or class-level operations.\n",
        "\n"
      ],
      "metadata": {
        "id": "3HTXt9lAXVpT"
      }
    },
    {
      "cell_type": "code",
      "source": [
        "#Example:\n",
        "\n",
        "class Math:\n",
        "    @staticmethod\n",
        "    def add(a, b):\n",
        "        return a + b\n",
        "\n",
        "print(Math.add(2, 3))  # Output: 5\n",
        "\n",
        "class Person:\n",
        "    count = 0\n",
        "\n",
        "    def __init__(self):\n",
        "        Person.count += 1\n",
        "\n",
        "    @classmethod\n",
        "    def get_count(cls):\n",
        "        return cls.count\n",
        "\n",
        "p1 = Person()\n",
        "\n",
        "p2 = Person()\n",
        "\n",
        "print(Person.get_count())  # Output: 2"
      ],
      "metadata": {
        "colab": {
          "base_uri": "https://localhost:8080/"
        },
        "id": "mQRUKuKIYC5u",
        "outputId": "d98fef8e-7201-4941-fbed-92abb87fd485"
      },
      "execution_count": 6,
      "outputs": [
        {
          "output_type": "stream",
          "name": "stdout",
          "text": [
            "5\n",
            "2\n"
          ]
        }
      ]
    },
    {
      "cell_type": "markdown",
      "source": [
        "## 23.  How does polymorphism work in Python with inheritance?\n",
        "\n",
        "Polymorphism in Python allows the same method name to behave differently depending on the object calling it — and it's commonly seen when using inheritance.\n",
        "\n",
        "When a child class overrides a method from its parent class, and you call that method using different objects (parent and child), Python automatically uses the correct version based on the object type. This is known as runtime polymorphism.\n",
        "\n"
      ],
      "metadata": {
        "id": "34Zu99rcYNla"
      }
    },
    {
      "cell_type": "code",
      "source": [
        "class Animal:\n",
        "    def speak(self):\n",
        "        print(\"Animal speaks\")\n",
        "\n",
        "class Dog(Animal):\n",
        "    def speak(self):\n",
        "        print(\"Dog barks\")\n",
        "\n",
        "class Cat(Animal):\n",
        "    def speak(self):\n",
        "        print(\"Cat meows\")\n",
        "\n",
        "# Polymorphism in action\n",
        "for animal in [Dog(), Cat()]:\n",
        "    animal.speak()\n"
      ],
      "metadata": {
        "colab": {
          "base_uri": "https://localhost:8080/"
        },
        "id": "akvjIQ5hYT4E",
        "outputId": "abc4202e-b777-483e-a1cf-df90445e5e80"
      },
      "execution_count": 7,
      "outputs": [
        {
          "output_type": "stream",
          "name": "stdout",
          "text": [
            "Dog barks\n",
            "Cat meows\n"
          ]
        }
      ]
    },
    {
      "cell_type": "markdown",
      "source": [
        "All classes inherit from Animal and override the speak() method.\n",
        "\n",
        "When the method is called in a loop, Python checks the actual object type and calls the appropriate version.\n",
        "\n",
        "This is how polymorphism works through inheritance and method overriding in Python."
      ],
      "metadata": {
        "id": "z0aFFCUiYXCo"
      }
    },
    {
      "cell_type": "markdown",
      "source": [
        "### 24. What is method chaining in Python OOP?\n",
        "\n",
        "Method Chaining in Python is a technique where multiple methods are called on the same object in a single line, one after the other.\n",
        "Each method returns the object itself (self), allowing the next method to be called immediately."
      ],
      "metadata": {
        "id": "9AxfjQb8YX9s"
      }
    },
    {
      "cell_type": "code",
      "source": [
        "class Student:\n",
        "    def set_name(self, name):\n",
        "        self.name = name\n",
        "        return self\n",
        "\n",
        "    def set_roll(self, roll):\n",
        "        self.roll = roll\n",
        "        return self\n",
        "\n",
        "s = Student()\n",
        "s.set_name(\"Suraj\").set_roll(101)\n",
        "\n",
        "print(s.name)\n",
        "print(s.roll)\n",
        "\n"
      ],
      "metadata": {
        "colab": {
          "base_uri": "https://localhost:8080/"
        },
        "id": "tbgV9Z8rYf9T",
        "outputId": "824b0952-220f-4b20-9afb-5cad8d7f6145"
      },
      "execution_count": 9,
      "outputs": [
        {
          "output_type": "stream",
          "name": "stdout",
          "text": [
            "Suraj\n",
            "101\n"
          ]
        }
      ]
    },
    {
      "cell_type": "markdown",
      "source": [
        "### 25. What is the purpose of the `__call__` method in Python?\n",
        "\n",
        "The `__call__` method allows an instance of a class to be called like a function.\n",
        "\n",
        "When you define `__call__` in a class, you can use the object as if it were a function — with parentheses and arguments.\n",
        "\n",
        "`__call__`makes your object callable, like a function.\n",
        "\n",
        "Useful in decorators, function wrappers, and DSLs."
      ],
      "metadata": {
        "id": "MA-iUazrYhfx"
      }
    },
    {
      "cell_type": "code",
      "source": [
        "class Greet:\n",
        "    def __call__(self, name):\n",
        "        return f\"Hello, {name}!\"\n",
        "\n",
        "obj = Greet()\n",
        "print(obj(\"Suraj\"))\n"
      ],
      "metadata": {
        "colab": {
          "base_uri": "https://localhost:8080/"
        },
        "id": "_nO0aDO_Y6JL",
        "outputId": "74e1af37-dcec-4e51-9091-258cef67a62a"
      },
      "execution_count": 10,
      "outputs": [
        {
          "output_type": "stream",
          "name": "stdout",
          "text": [
            "Hello, Suraj!\n"
          ]
        }
      ]
    },
    {
      "cell_type": "markdown",
      "source": [
        "##Practical Questions"
      ],
      "metadata": {
        "id": "S2uWnBkqY-YQ"
      }
    },
    {
      "cell_type": "code",
      "source": [
        "# 1.  Create a parent class Animal with a method speak() that prints a generic message. Create a child class Dog that overrides the speak() method to print \"Bark!\".\n",
        "\n",
        "class Animal:\n",
        "    def speak(self):\n",
        "        print(\"Some generic animal sound\")\n",
        "\n",
        "class Dog(Animal):\n",
        "    def speak(self):\n",
        "        print(\"Bark!\")\n",
        "\n",
        "# Create objects\n",
        "a = Animal()\n",
        "d = Dog()\n",
        "\n",
        "# Call speak()\n",
        "a.speak()\n",
        "d.speak()"
      ],
      "metadata": {
        "colab": {
          "base_uri": "https://localhost:8080/"
        },
        "id": "rpfDNWTrY8Fk",
        "outputId": "fdf62d2b-c55d-48f5-9dcd-b43d69dcbe91"
      },
      "execution_count": 11,
      "outputs": [
        {
          "output_type": "stream",
          "name": "stdout",
          "text": [
            "Some generic animal sound\n",
            "Bark!\n"
          ]
        }
      ]
    },
    {
      "cell_type": "code",
      "source": [
        "# 2. . Write a program to create an abstract class Shape with a method area(). Derive classes Circle and Rectangle from it and implement the area() method in both.\n",
        "\n",
        "from abc import ABC, abstractmethod\n",
        "import math\n",
        "\n",
        "# Abstract Class\n",
        "class Shape(ABC):\n",
        "    @abstractmethod\n",
        "    def area(self):\n",
        "        pass\n",
        "\n",
        "# Circle Class\n",
        "class Circle(Shape):\n",
        "    def __init__(self, radius):\n",
        "        self.radius = radius\n",
        "\n",
        "    def area(self):\n",
        "        return math.pi * self.radius ** 2\n",
        "\n",
        "# Rectangle Class\n",
        "class Rectangle(Shape):\n",
        "    def __init__(self, length, width):\n",
        "        self.length = length\n",
        "        self.width = width\n",
        "\n",
        "    def area(self):\n",
        "        return self.length * self.width\n",
        "\n",
        "# Example usage\n",
        "c = Circle(5)\n",
        "r = Rectangle(4, 6)\n",
        "\n",
        "print(\"Circle Area:\", c.area())\n",
        "print(\"Rectangle Area:\", r.area())"
      ],
      "metadata": {
        "colab": {
          "base_uri": "https://localhost:8080/"
        },
        "id": "gkIfxoyNZMu8",
        "outputId": "34bb2173-7a91-4f2c-ad6e-af436d54f24d"
      },
      "execution_count": 12,
      "outputs": [
        {
          "output_type": "stream",
          "name": "stdout",
          "text": [
            "Circle Area: 78.53981633974483\n",
            "Rectangle Area: 24\n"
          ]
        }
      ]
    },
    {
      "cell_type": "code",
      "source": [
        "# 3.  Implement a multi-level inheritance scenario where a class Vehicle has an attribute type. Derive a class Car and further derive a class ElectricCar that adds a battery attribute.\n",
        "\n",
        "class Vehicle:\n",
        "    def __init__(self, v_type):\n",
        "        self.type = v_type\n",
        "\n",
        "class Car(Vehicle):\n",
        "    def __init__(self, v_type, brand):\n",
        "        super().__init__(v_type)\n",
        "        self.brand = brand\n",
        "\n",
        "class ElectricCar(Car):\n",
        "    def __init__(self, v_type, brand, battery):\n",
        "        super().__init__(v_type, brand)\n",
        "        self.battery = battery\n",
        "\n",
        "# Create object\n",
        "e_car = ElectricCar(\"4-wheeler\", \"Tesla\", \"85 kWh\")\n",
        "\n",
        "# Print attributes\n",
        "print(e_car.type)\n",
        "print(e_car.brand)\n",
        "print(e_car.battery)\n"
      ],
      "metadata": {
        "colab": {
          "base_uri": "https://localhost:8080/"
        },
        "id": "dnurHnaxZd0J",
        "outputId": "b7344b27-6c97-4831-882c-03d05cfc620f"
      },
      "execution_count": 13,
      "outputs": [
        {
          "output_type": "stream",
          "name": "stdout",
          "text": [
            "4-wheeler\n",
            "Tesla\n",
            "85 kWh\n"
          ]
        }
      ]
    },
    {
      "cell_type": "code",
      "source": [
        "# 4. Demonstrate polymorphism by creating a base class Bird with a method fly(). Create two derived classes Sparrow and Penguin that override the fly() method.\n",
        "\n",
        "class Bird:\n",
        "    def fly(self):\n",
        "        print(\"Some birds can fly.\")\n",
        "\n",
        "class Sparrow(Bird):\n",
        "    def fly(self):\n",
        "        print(\"Sparrow flies high in the sky.\")\n",
        "\n",
        "class Penguin(Bird):\n",
        "    def fly(self):\n",
        "        print(\"Penguins cannot fly.\")\n",
        "\n",
        "# Polymorphism in action\n",
        "birds = [Sparrow(), Penguin()]\n",
        "\n",
        "for bird in birds:\n",
        "    bird.fly()\n"
      ],
      "metadata": {
        "colab": {
          "base_uri": "https://localhost:8080/"
        },
        "id": "K-G6tC2IZm5t",
        "outputId": "ecdad448-83fb-4195-ce15-41b9aa9f21db"
      },
      "execution_count": 14,
      "outputs": [
        {
          "output_type": "stream",
          "name": "stdout",
          "text": [
            "Sparrow flies high in the sky.\n",
            "Penguins cannot fly.\n"
          ]
        }
      ]
    },
    {
      "cell_type": "code",
      "source": [
        "# 5. Write a program to demonstrate encapsulation by creating a class BankAccount with private attributes balance and methods to deposit, withdraw, and check balance.\n",
        "\n",
        "class BankAccount:\n",
        "    def __init__(self, initial_balance):\n",
        "        self.__balance = initial_balance  # private attribute\n",
        "\n",
        "    def deposit(self, amount):\n",
        "        if amount > 0:\n",
        "            self.__balance += amount\n",
        "\n",
        "    def withdraw(self, amount):\n",
        "        if 0 < amount <= self.__balance:\n",
        "            self.__balance -= amount\n",
        "\n",
        "    def check_balance(self):\n",
        "        return self.__balance\n",
        "\n",
        "# Usage\n",
        "account = BankAccount(1000)\n",
        "account.deposit(500)\n",
        "account.withdraw(200)\n",
        "print(\"Current Balance:\", account.check_balance())\n"
      ],
      "metadata": {
        "colab": {
          "base_uri": "https://localhost:8080/"
        },
        "id": "I_v9cEdeZvM7",
        "outputId": "79a56d57-38d9-4311-d628-6a16f03a6c1a"
      },
      "execution_count": 15,
      "outputs": [
        {
          "output_type": "stream",
          "name": "stdout",
          "text": [
            "Current Balance: 1300\n"
          ]
        }
      ]
    },
    {
      "cell_type": "code",
      "source": [
        "# 6. Demonstrate runtime polymorphism using a method play() in a base class Instrument. Derive classes Guitar and Piano that implement their own version of play().\n",
        "\n",
        "class Instrument:\n",
        "    def play(self):\n",
        "        print(\"Playing an instrument\")\n",
        "\n",
        "class Guitar(Instrument):\n",
        "    def play(self):\n",
        "        print(\"Strumming the guitar\")\n",
        "\n",
        "class Piano(Instrument):\n",
        "    def play(self):\n",
        "        print(\"Playing the piano\")\n",
        "\n",
        "# Demonstrating runtime polymorphism\n",
        "def start_playing(instrument):\n",
        "    instrument.play()\n",
        "\n",
        "# Creating objects\n",
        "g = Guitar()\n",
        "p = Piano()\n",
        "\n",
        "start_playing(g)\n",
        "start_playing(p)\n"
      ],
      "metadata": {
        "colab": {
          "base_uri": "https://localhost:8080/"
        },
        "id": "WhegT1G4Z2U9",
        "outputId": "29ca5aee-c4ea-4360-cce0-b7a7fba5ebb4"
      },
      "execution_count": 16,
      "outputs": [
        {
          "output_type": "stream",
          "name": "stdout",
          "text": [
            "Strumming the guitar\n",
            "Playing the piano\n"
          ]
        }
      ]
    },
    {
      "cell_type": "code",
      "source": [
        "# 7.  Create a class MathOperations with a class method add_numbers() to add two numbers and a static method subtract_numbers() to subtract two numbers.\n",
        "\n",
        "class MathOperations:\n",
        "    @classmethod\n",
        "    def add_numbers(cls, a, b):\n",
        "        return a + b\n",
        "\n",
        "    @staticmethod\n",
        "    def subtract_numbers(a, b):\n",
        "        return a - b\n",
        "\n",
        "# Usage\n",
        "print(MathOperations.add_numbers(5, 3))\n",
        "print(MathOperations.subtract_numbers(10, 4))\n"
      ],
      "metadata": {
        "colab": {
          "base_uri": "https://localhost:8080/"
        },
        "id": "fKHt7OYGZ9h-",
        "outputId": "cae96eac-49b1-495c-80a2-487b0aa2b7de"
      },
      "execution_count": 17,
      "outputs": [
        {
          "output_type": "stream",
          "name": "stdout",
          "text": [
            "8\n",
            "6\n"
          ]
        }
      ]
    },
    {
      "cell_type": "code",
      "source": [
        "# 8.  Implement a class Person with a class method to count the total number of persons created.\n",
        "\n",
        "class Person:\n",
        "    count = 0  # Class variable to track number of persons\n",
        "\n",
        "    def __init__(self, name):\n",
        "        self.name = name\n",
        "        Person.count += 1\n",
        "\n",
        "    @classmethod\n",
        "    def total_persons(cls):\n",
        "        return cls.count\n",
        "\n",
        "# Creating Person objects\n",
        "p1 = Person(\"Alice\")\n",
        "p2 = Person(\"Bob\")\n",
        "p3 = Person(\"Charlie\")\n",
        "\n",
        "# Display total persons created\n",
        "print(\"Total Persons:\", Person.total_persons())\n",
        "\n"
      ],
      "metadata": {
        "colab": {
          "base_uri": "https://localhost:8080/"
        },
        "id": "2ry1T3CHaEHF",
        "outputId": "58e1ef6a-a500-4da9-cfcb-917a05444ea9"
      },
      "execution_count": 18,
      "outputs": [
        {
          "output_type": "stream",
          "name": "stdout",
          "text": [
            "Total Persons: 3\n"
          ]
        }
      ]
    },
    {
      "cell_type": "code",
      "source": [
        "# 9.  Write a class Fraction with attributes numerator and denominator. Override the str method to display the fraction as \"numerator/denominator\".\n",
        "\n",
        "class Fraction:\n",
        "    def __init__(self, numerator, denominator):\n",
        "        self.numerator = numerator\n",
        "        self.denominator = denominator\n",
        "\n",
        "    def __str__(self):\n",
        "        return f\"{self.numerator}/{self.denominator}\"\n",
        "\n",
        "# Example usage\n",
        "f = Fraction(3, 4)\n",
        "print(f)\n"
      ],
      "metadata": {
        "colab": {
          "base_uri": "https://localhost:8080/"
        },
        "id": "DIJUs7xQaQLB",
        "outputId": "2c64c4d7-72a4-4bdb-d0ab-a37bccaf1ab8"
      },
      "execution_count": 19,
      "outputs": [
        {
          "output_type": "stream",
          "name": "stdout",
          "text": [
            "3/4\n"
          ]
        }
      ]
    },
    {
      "cell_type": "code",
      "source": [
        " # 10. Demonstrate operator overloading by creating a class Vector and overriding the add method to add two vectors\n",
        "\n",
        "class Vector:\n",
        "    def __init__(self, x, y):\n",
        "        self.x = x\n",
        "        self.y = y\n",
        "\n",
        "    def __add__(self, other):\n",
        "        return Vector(self.x + other.x, self.y + other.y)\n",
        "\n",
        "    def __str__(self):\n",
        "        return f\"({self.x}, {self.y})\"\n",
        "\n",
        "# Usage\n",
        "v1 = Vector(2, 3)\n",
        "v2 = Vector(4, 5)\n",
        "v3 = v1 + v2\n",
        "\n",
        "print(v3)\n"
      ],
      "metadata": {
        "colab": {
          "base_uri": "https://localhost:8080/"
        },
        "id": "CleiI09oaXFd",
        "outputId": "d33d6bcc-8b3e-4de4-c072-04224799d099"
      },
      "execution_count": 20,
      "outputs": [
        {
          "output_type": "stream",
          "name": "stdout",
          "text": [
            "(6, 8)\n"
          ]
        }
      ]
    },
    {
      "cell_type": "code",
      "source": [
        "# 11. Create a class Person with attributes name and age. Add a method greet() that prints \"Hello, my name is {name} and I am {age} years old.\"\n",
        "\n",
        "class Person:\n",
        "    def __init__(self, name, age):\n",
        "        self.name = name\n",
        "        self.age = age\n",
        "\n",
        "    def greet(self):\n",
        "        print(f\"Hello, my name is {self.name} and I am {self.age} years old.\")\n",
        "\n",
        "# Usage\n",
        "p = Person(\"Suraj\", 22)\n",
        "p.greet()"
      ],
      "metadata": {
        "colab": {
          "base_uri": "https://localhost:8080/"
        },
        "id": "bfqipqv-ahTr",
        "outputId": "6fae3ea9-4703-4b71-bafc-bb6cf47c00ba"
      },
      "execution_count": 21,
      "outputs": [
        {
          "output_type": "stream",
          "name": "stdout",
          "text": [
            "Hello, my name is Suraj and I am 22 years old.\n"
          ]
        }
      ]
    },
    {
      "cell_type": "code",
      "source": [
        "# 12.  Implement a class Student with attributes name and grades. Create a method average_grade() to compute the average of the grades\n",
        "\n",
        "class Student:\n",
        "    def __init__(self, name, grades):\n",
        "        self.name = name\n",
        "        self.grades = grades  # list of numbers\n",
        "\n",
        "    def average_grade(self):\n",
        "        return sum(self.grades) / len(self.grades) if self.grades else 0\n",
        "\n",
        "# Usage\n",
        "s = Student(\"Suraj\", [85, 90, 78, 92])\n",
        "print(f\"{s.name}'s average grade: {s.average_grade()}\")"
      ],
      "metadata": {
        "colab": {
          "base_uri": "https://localhost:8080/"
        },
        "id": "3LhYbQoKao2s",
        "outputId": "32f25645-e77c-4a79-ac7e-871389a758fd"
      },
      "execution_count": 22,
      "outputs": [
        {
          "output_type": "stream",
          "name": "stdout",
          "text": [
            "Suraj's average grade: 86.25\n"
          ]
        }
      ]
    },
    {
      "cell_type": "code",
      "source": [
        "# 13.  Create a class Rectangle with methods set_dimensions() to set the dimensions and area() to calculate the area.\n",
        "\n",
        "class Rectangle:\n",
        "    def set_dimensions(self, length, width):\n",
        "        self.length = length\n",
        "        self.width = width\n",
        "\n",
        "    def area(self):\n",
        "        return self.length * self.width\n",
        "\n",
        "# Usage\n",
        "rect = Rectangle()\n",
        "rect.set_dimensions(5, 3)\n",
        "print(\"Area:\", rect.area())\n"
      ],
      "metadata": {
        "colab": {
          "base_uri": "https://localhost:8080/"
        },
        "id": "re8dIlGCau6o",
        "outputId": "237c9262-b876-449f-f620-e6c057ad20fe"
      },
      "execution_count": 23,
      "outputs": [
        {
          "output_type": "stream",
          "name": "stdout",
          "text": [
            "Area: 15\n"
          ]
        }
      ]
    },
    {
      "cell_type": "code",
      "source": [
        "# 14. Create a class Employee with a method calculate_salary() that computes the salary based on hours worked and hourly rate. Create a derived class Manager that adds a bonus to the salary.\n",
        "\n",
        "class Employee:\n",
        "    def __init__(self, hours_worked, hourly_rate):\n",
        "        self.hours_worked = hours_worked\n",
        "        self.hourly_rate = hourly_rate\n",
        "\n",
        "    def calculate_salary(self):\n",
        "        return self.hours_worked * self.hourly_rate\n",
        "\n",
        "class Manager(Employee):\n",
        "    def __init__(self, hours_worked, hourly_rate, bonus):\n",
        "        super().__init__(hours_worked, hourly_rate)\n",
        "        self.bonus = bonus\n",
        "\n",
        "    def calculate_salary(self):\n",
        "        base_salary = super().calculate_salary()\n",
        "        return base_salary + self.bonus\n",
        "\n",
        "# Usage\n",
        "e = Employee(40, 20)\n",
        "m = Manager(40, 20, 500)\n",
        "\n",
        "print(\"Employee Salary:\", e.calculate_salary())\n",
        "print(\"Manager Salary:\", m.calculate_salary())\n"
      ],
      "metadata": {
        "colab": {
          "base_uri": "https://localhost:8080/"
        },
        "id": "oHXW_FHYa1II",
        "outputId": "58ae66fd-2e71-4e7e-94c1-d6599e0dd9a9"
      },
      "execution_count": 24,
      "outputs": [
        {
          "output_type": "stream",
          "name": "stdout",
          "text": [
            "Employee Salary: 800\n",
            "Manager Salary: 1300\n"
          ]
        }
      ]
    },
    {
      "cell_type": "code",
      "source": [
        "# 15.  Create a class Product with attributes name, price, and quantity. Implement a method total_price() that calculates the total price of the product.\n",
        "\n",
        "class Product:\n",
        "    def __init__(self, name, price, quantity):\n",
        "        self.name = name\n",
        "        self.price = price\n",
        "        self.quantity = quantity\n",
        "\n",
        "    def total_price(self):\n",
        "        return self.price * self.quantity\n",
        "\n",
        "# Usage\n",
        "p = Product(\"Laptop\", 50000, 3)\n",
        "print(f\"Total price of {p.name}: {p.total_price()}\")\n"
      ],
      "metadata": {
        "colab": {
          "base_uri": "https://localhost:8080/"
        },
        "id": "SX85GCAna8en",
        "outputId": "d75915fd-723f-4f31-80d1-b94ae17bd64b"
      },
      "execution_count": 25,
      "outputs": [
        {
          "output_type": "stream",
          "name": "stdout",
          "text": [
            "Total price of Laptop: 150000\n"
          ]
        }
      ]
    },
    {
      "cell_type": "code",
      "source": [
        "# 16.  Create a class Animal with an abstract method sound(). Create two derived classes Cow and Sheep that implement the sound() method.\n",
        "\n",
        "from abc import ABC, abstractmethod\n",
        "\n",
        "class Animal(ABC):\n",
        "    @abstractmethod\n",
        "    def sound(self):\n",
        "        pass\n",
        "\n",
        "class Cow(Animal):\n",
        "    def sound(self):\n",
        "        print(\"Moo\")\n",
        "\n",
        "class Sheep(Animal):\n",
        "    def sound(self):\n",
        "        print(\"Baa\")\n",
        "\n",
        "# Usage\n",
        "cow = Cow()\n",
        "sheep = Sheep()\n",
        "\n",
        "cow.sound()\n",
        "sheep.sound()\n"
      ],
      "metadata": {
        "colab": {
          "base_uri": "https://localhost:8080/"
        },
        "id": "xlzJqn6abCUZ",
        "outputId": "1434ce39-8b64-46e6-cc44-0397cf78c7a5"
      },
      "execution_count": 26,
      "outputs": [
        {
          "output_type": "stream",
          "name": "stdout",
          "text": [
            "Moo\n",
            "Baa\n"
          ]
        }
      ]
    },
    {
      "cell_type": "code",
      "source": [
        "# 17. Create a class Book with attributes title, author, and year_published. Add a method get_book_info() that returns a formatted string with the book's details.\n",
        "\n",
        "class Book:\n",
        "    def __init__(self, title, author, year_published):\n",
        "        self.title = title\n",
        "        self.author = author\n",
        "        self.year_published = year_published\n",
        "\n",
        "    def get_book_info(self):\n",
        "        return f\"'{self.title}' by {self.author}, published in {self.year_published}\"\n",
        "\n",
        "# Usage\n",
        "b = Book(\"1984\", \"George Orwell\", 1949)\n",
        "print(b.get_book_info())\n"
      ],
      "metadata": {
        "colab": {
          "base_uri": "https://localhost:8080/"
        },
        "id": "TX5okeF8bJhY",
        "outputId": "34bb3e27-3dcf-428d-e771-2cf08e6647ac"
      },
      "execution_count": 27,
      "outputs": [
        {
          "output_type": "stream",
          "name": "stdout",
          "text": [
            "'1984' by George Orwell, published in 1949\n"
          ]
        }
      ]
    },
    {
      "cell_type": "code",
      "source": [
        "# 18.  Create a class House with attributes address and price. Create a derived class Mansion that adds an attribute number_of_rooms.\n",
        "\n",
        "class House:\n",
        "    def __init__(self, address: str, price: float):\n",
        "        self.address = address\n",
        "        self.price = price\n",
        "\n",
        "    def __str__(self):\n",
        "        return f\"House at {self.address}, Price: ${self.price:,.2f}\"\n",
        "\n",
        "class Mansion(House):\n",
        "    def __init__(self, address: str, price: float, number_of_rooms: int):\n",
        "        super().__init__(address, price)  # Call the base class constructor\n",
        "        self.number_of_rooms = number_of_rooms\n",
        "\n",
        "    def __str__(self):\n",
        "        base_str = super().__str__()\n",
        "        return f\"{base_str}, Rooms: {self.number_of_rooms}\"\n",
        "\n",
        "\n",
        "my_mansion = Mansion(\"100 Grand Estate\", 10000000.00, 25)\n",
        "print(my_mansion)\n"
      ],
      "metadata": {
        "colab": {
          "base_uri": "https://localhost:8080/"
        },
        "id": "iGzeF88qbQSm",
        "outputId": "68b77cf4-032e-4a3f-c74a-0f0d9d200d6a"
      },
      "execution_count": 28,
      "outputs": [
        {
          "output_type": "stream",
          "name": "stdout",
          "text": [
            "House at 100 Grand Estate, Price: $10,000,000.00, Rooms: 25\n"
          ]
        }
      ]
    }
  ]
}