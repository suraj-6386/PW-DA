{
  "nbformat": 4,
  "nbformat_minor": 0,
  "metadata": {
    "colab": {
      "provenance": []
    },
    "kernelspec": {
      "name": "python3",
      "display_name": "Python 3"
    },
    "language_info": {
      "name": "python"
    }
  },
  "cells": [
    {
      "cell_type": "markdown",
      "source": [
        "#Python - Data Structure Assignment\n",
        "\n",
        "## Data Types and Structures Questions\n",
        "\n",
        "### 1. What are data structures, and why are they important?\n",
        "\n",
        "-> A data structure is a way of organizing, managing, and storing data so that it can be used efficiently. It defines the relationship between data and the operations that can be performed on it.\n",
        "\n",
        "Importance:\n",
        "\n",
        "* Make data access faster.\n",
        "\n",
        "* Save memory.\n",
        "\n",
        "* Help write clean and organized code.\n",
        "\n",
        "* Essential for building efficient algorithms.\n",
        "\n",
        "Examples: List, Tuple, Dictionary, Set."
      ],
      "metadata": {
        "id": "fgQdT1nPVQIW"
      }
    },
    {
      "cell_type": "markdown",
      "source": [
        "### 2. Explain the difference between mutable and immutable data types with examples.\n",
        "\n",
        "* Mutable types allow modification of their content without changing their identity (memory location). You can change, add, or remove elements.\n",
        "\n",
        "Examples: list, set, dictionary\n",
        "\n"
      ],
      "metadata": {
        "id": "cglluoOcW_2L"
      }
    },
    {
      "cell_type": "code",
      "source": [
        "#Example Code:\n",
        "\n",
        "my_list = [1, 2, 3]\n",
        "\n",
        "my_list.append(4)\n",
        "print(my_list)"
      ],
      "metadata": {
        "colab": {
          "base_uri": "https://localhost:8080/"
        },
        "id": "tVn1gWR5W_MR",
        "outputId": "9c8eb6d5-ceac-4f05-a2d0-023f0ad5c8e7"
      },
      "execution_count": 3,
      "outputs": [
        {
          "output_type": "stream",
          "name": "stdout",
          "text": [
            "[1, 2, 3, 4]\n"
          ]
        }
      ]
    },
    {
      "cell_type": "markdown",
      "source": [
        "Immutable types do not allow modification of their content once created. Any change creates a new object.\n",
        "\n",
        "Examples: int, float, str, tuple"
      ],
      "metadata": {
        "id": "U15rSebnXKQF"
      }
    },
    {
      "cell_type": "code",
      "source": [
        "#Example Code:\n",
        "\n",
        "my_str = \"Hello\"\n",
        "\n",
        "my_str[0] = 'J' # This will give an error (strings are immutable)"
      ],
      "metadata": {
        "colab": {
          "base_uri": "https://localhost:8080/",
          "height": 176
        },
        "id": "nNAaZmlNXHpK",
        "outputId": "ff5a71ee-6194-4876-84cc-fd5b5ac1ba1e"
      },
      "execution_count": 2,
      "outputs": [
        {
          "output_type": "error",
          "ename": "TypeError",
          "evalue": "'str' object does not support item assignment",
          "traceback": [
            "\u001b[0;31m---------------------------------------------------------------------------\u001b[0m",
            "\u001b[0;31mTypeError\u001b[0m                                 Traceback (most recent call last)",
            "\u001b[0;32m/tmp/ipython-input-2-3522577907.py\u001b[0m in \u001b[0;36m<cell line: 0>\u001b[0;34m()\u001b[0m\n\u001b[1;32m      3\u001b[0m \u001b[0mmy_str\u001b[0m \u001b[0;34m=\u001b[0m \u001b[0;34m\"Hello\"\u001b[0m\u001b[0;34m\u001b[0m\u001b[0;34m\u001b[0m\u001b[0m\n\u001b[1;32m      4\u001b[0m \u001b[0;34m\u001b[0m\u001b[0m\n\u001b[0;32m----> 5\u001b[0;31m \u001b[0mmy_str\u001b[0m\u001b[0;34m[\u001b[0m\u001b[0;36m0\u001b[0m\u001b[0;34m]\u001b[0m \u001b[0;34m=\u001b[0m \u001b[0;34m'J'\u001b[0m \u001b[0;31m# This will give an error (strings are immutable)\u001b[0m\u001b[0;34m\u001b[0m\u001b[0;34m\u001b[0m\u001b[0m\n\u001b[0m",
            "\u001b[0;31mTypeError\u001b[0m: 'str' object does not support item assignment"
          ]
        }
      ]
    },
    {
      "cell_type": "markdown",
      "source": [
        "### 3. What are the main differences between lists and tuples in Python?\n",
        "->A list is a mutable data structure, which means its contents can be changed after creation. We can add, remove, or modify elements in a list. Lists are defined using square brackets []. They are commonly used when the data is expected to change during the execution of the program.\n",
        "\n",
        "On the other hand, a tuple is immutable, meaning once it is created, its values cannot be altered. Tuples are defined using parentheses (). Since they are immutable, they are generally used when we want to store fixed collections of items that should not be modified."
      ],
      "metadata": {
        "id": "ZFOtJdEnXTgJ"
      }
    },
    {
      "cell_type": "code",
      "source": [
        "# Example\n",
        "\n",
        "my_list = [1, 2, 3]\n",
        "my_list.append(4)  # Valid\n",
        "print(my_list)\n",
        "\n",
        "my_tuple = (1, 2, 3)\n",
        "# my_tuple[0] = 10  # Invalid, will raise an error"
      ],
      "metadata": {
        "colab": {
          "base_uri": "https://localhost:8080/"
        },
        "id": "J90XDrG0XShU",
        "outputId": "2fb782c7-93ea-496c-bd26-46c46e0432ba"
      },
      "execution_count": 6,
      "outputs": [
        {
          "output_type": "stream",
          "name": "stdout",
          "text": [
            "[1, 2, 3, 4]\n"
          ]
        }
      ]
    },
    {
      "cell_type": "markdown",
      "source": [
        "### 4.  Describe how dictionaries store data.\n",
        "\n",
        "->  Dictionary is a built-in data structure that stores data in the form of key-value pairs. Each key is unique, and it maps to a specific value.\n",
        "\n",
        "Dictionaries use a technique called hashing to store and retrieve data efficiently. When a dictionary is created, each key is passed through a hash function, which generates a unique hash code. This hash code determines where the key-value pair will be stored in memory. This allows Python to access values quickly using their keys."
      ],
      "metadata": {
        "id": "EtGXGIZxX3yo"
      }
    },
    {
      "cell_type": "code",
      "source": [
        "#Example\n",
        "student = {\n",
        "    \"name\": \"Suraj\",\n",
        "    \"age\": 22,\n",
        "    \"course\": \"MCA\"\n",
        "}\n",
        "print(student[\"name\"])"
      ],
      "metadata": {
        "colab": {
          "base_uri": "https://localhost:8080/"
        },
        "id": "nDKzV4F1XrSs",
        "outputId": "cdb1ea60-2938-40f4-b131-2b56cd8d0c98"
      },
      "execution_count": 7,
      "outputs": [
        {
          "output_type": "stream",
          "name": "stdout",
          "text": [
            "Suraj\n"
          ]
        }
      ]
    },
    {
      "cell_type": "markdown",
      "source": [
        "### 5. Why might you use a set instead of a list in Python?\n",
        "\n",
        "* You need only unique values:\n",
        "Sets automatically remove duplicates, unlike lists which allow repeated items.\n",
        "\n",
        "* Fast membership testing:\n",
        "Checking if an element exists in a set is faster (O(1) average time) than in a list (O(n) time).\n",
        "\n",
        "* Set operations are needed:\n",
        "Sets support mathematical operations like union, intersection, difference, etc., which are not directly supported by lists."
      ],
      "metadata": {
        "id": "y2pINkgdYN5l"
      }
    },
    {
      "cell_type": "code",
      "source": [
        "# Example\n",
        "\n",
        "my_list = [1, 2, 2, 3]\n",
        "my_set = set(my_list)\n",
        "print(my_set)\n",
        "\n",
        "print(2 in my_set)"
      ],
      "metadata": {
        "colab": {
          "base_uri": "https://localhost:8080/"
        },
        "id": "QYblyo7eYeOj",
        "outputId": "ea959d88-1122-444a-8db1-9ba59ef67c9c"
      },
      "execution_count": 8,
      "outputs": [
        {
          "output_type": "stream",
          "name": "stdout",
          "text": [
            "{1, 2, 3}\n",
            "True\n"
          ]
        }
      ]
    },
    {
      "cell_type": "markdown",
      "source": [
        "### 6. What is a string in Python, and how is it different from a list?\n",
        "-> A string is a sequence of characters enclosed in single (') or double (\") quotes. It is an immutable data type, meaning its contents cannot be changed after creation.\n",
        "\n",
        "A list, on the other hand, is a collection of items (which can be of any data type) enclosed in square brackets []. Lists are mutable, so their elements can be modified, added, or removed.\n",
        "\n",
        "Key Differences:\n",
        "\n",
        "* Mutability:\n",
        "\n",
        "    Strings are immutable\n",
        "\n",
        "    Lists are mutable\n",
        "\n",
        "* Data Type of Elements:\n",
        "\n",
        "    A string contains only characters\n",
        "\n",
        "    A list can contain any data type (int, float, str, etc.)\n",
        "\n",
        "* Syntax:\n",
        "\n",
        "    String: \"hello\" or 'hello'\n",
        "\n",
        "    List: ['h', 'e', 'l', 'l', 'o']"
      ],
      "metadata": {
        "id": "Lt22AGjpYds5"
      }
    },
    {
      "cell_type": "markdown",
      "source": [
        "### 7.  How do tuples ensure data integrity in Python?\n",
        "-> Tuples are immutable, meaning once a tuple is created, its elements cannot be changed, added, or removed. This immutability helps ensure data integrity by preventing accidental modifications.\n",
        "\n",
        "* Protects Data from Changes:\n",
        "Since tuples can't be modified, the data remains constant throughout the program.\n",
        "\n",
        "* Safe to Use as Keys:\n",
        "Tuples can be used as keys in dictionaries or elements in sets, unlike lists.\n",
        "\n",
        "* Reliable for Fixed Data:\n",
        "Ideal for storing constant values like coordinates, months, or configuration settings."
      ],
      "metadata": {
        "id": "QwFqud3JY-8S"
      }
    },
    {
      "cell_type": "markdown",
      "source": [
        "### 8. What is a hash table, and how does it relate to dictionaries in Python?\n",
        "-> A hash table is a data structure that stores data in an unordered way using key-value pairs. It uses a hash function to convert keys into unique indexes, which are then used to access the values quickly.\n",
        "\n",
        "In Python, the dictionary (dict) is implemented using a hash table under the hood.\n",
        "\n",
        "Each key in a dictionary is passed through a hash function.\n",
        "\n",
        "The hash function returns a unique hash code (index).\n",
        "\n",
        "This index determines where the key-value pair is stored in memory."
      ],
      "metadata": {
        "id": "K-EW2o_xZOo0"
      }
    },
    {
      "cell_type": "markdown",
      "source": [
        "### 9. Can lists contain different data types in Python?\n",
        "-> Yes, lists in Python can contain elements of different data types. Python lists are heterogeneous, meaning they can store a mix of data types in a single list.\n",
        "\n"
      ],
      "metadata": {
        "id": "ZH44CpY7ZeuR"
      }
    },
    {
      "cell_type": "code",
      "source": [
        "# Example\n",
        "my_list = [1, \"hello\", 3.14, True, [5, 6], {'a': 1}]\n",
        "print(my_list)"
      ],
      "metadata": {
        "colab": {
          "base_uri": "https://localhost:8080/"
        },
        "id": "9P0RZt2XZm3p",
        "outputId": "1d841c05-a434-40f3-b3c9-c4f7e50c6405"
      },
      "execution_count": 9,
      "outputs": [
        {
          "output_type": "stream",
          "name": "stdout",
          "text": [
            "[1, 'hello', 3.14, True, [5, 6], {'a': 1}]\n"
          ]
        }
      ]
    },
    {
      "cell_type": "markdown",
      "source": [
        "### 10. Explain why strings are immutable in Python.\n",
        "-> Strings are immutable, which means once a string is created, it cannot be changed. Any operation that tries to modify a string actually creates a new string object instead of changing the original one.\n",
        "\n",
        "\n",
        "* Memory efficiency:\n",
        "Immutable strings can be stored in a shared memory space, saving resources.\n",
        "\n",
        "* Security:\n",
        "Because strings are often used as identifiers (e.g., dictionary keys), immutability ensures they stay unchanged.\n",
        "\n",
        "* Hashing:\n",
        "Strings can be used as keys in dictionaries only because they are hashable (which requires immutability).\n",
        "\n",
        "* Thread safety:\n",
        "Since strings can't change, they're safe to use across multiple parts of a program without unexpected side effects.\n",
        "\n"
      ],
      "metadata": {
        "id": "Y3mEcESoZ0vM"
      }
    },
    {
      "cell_type": "markdown",
      "source": [
        "### 11.  What advantages do dictionaries offer over lists for certain tasks?\n",
        "-> Dictionaries offer advantages over lists when you need:\n",
        "\n",
        "* Fast access to data using keys (O(1) time).\n",
        "\n",
        "* Labeled data using key-value pairs.\n",
        "\n",
        "* Unique identifiers for each item.\n",
        "\n",
        "* Clear structure, especially for complex data like student records."
      ],
      "metadata": {
        "id": "lWytPKxaZ_ON"
      }
    },
    {
      "cell_type": "code",
      "source": [
        "#Example\n",
        "\n",
        "# Using list\n",
        "student_list = [\"Suraj\", 21]\n",
        "print(student_list)\n",
        "# Using dictionary\n",
        "student_dict = {\"name\": \"Suraj\", \"age\": 21}\n",
        "print(student_dict)\n"
      ],
      "metadata": {
        "colab": {
          "base_uri": "https://localhost:8080/"
        },
        "id": "xpr5gBrZZrTK",
        "outputId": "515f703c-b29f-4518-a5b5-b76f9e0d9f03"
      },
      "execution_count": 11,
      "outputs": [
        {
          "output_type": "stream",
          "name": "stdout",
          "text": [
            "['Suraj', 21]\n",
            "{'name': 'Suraj', 'age': 21}\n"
          ]
        }
      ]
    },
    {
      "cell_type": "markdown",
      "source": [
        "### 12. Describe a scenario where using a tuple would be preferable over a list.\n",
        "-> A tuple is preferable when you need to store fixed, constant data that should not be changed during the program.\n",
        "\n",
        "You are storing the coordinates of a location in a program:\n",
        "\n",
        "coordinates = (28.6139, 77.2090)  # (latitude, longitude)\n",
        "\n",
        "In this case:\n",
        "\n",
        "The values should not be modified.\n",
        "\n",
        "Tuples are faster and more memory efficient.\n",
        "\n",
        "They ensure data integrity due to immutability."
      ],
      "metadata": {
        "id": "1vxel4EeaYcm"
      }
    },
    {
      "cell_type": "markdown",
      "source": [
        "### 13. How do sets handle duplicate values in Python?\n",
        "-> A set is an unordered collection of unique elements. This means a set automatically removes duplicate values when it is created or updated.\n",
        "\n",
        "Sets in Python do not allow duplicates. If you try to add a duplicate element, the set keeps only one copy, ensuring all elements are unique."
      ],
      "metadata": {
        "id": "4neEOljfazRI"
      }
    },
    {
      "cell_type": "code",
      "source": [
        "# Example\n",
        "my_set = {1, 2, 2, 3, 3, 3}\n",
        "print(my_set)\n",
        "# All duplicates are removed automatically"
      ],
      "metadata": {
        "colab": {
          "base_uri": "https://localhost:8080/"
        },
        "id": "sD1ux5fia431",
        "outputId": "ed9f638b-de77-49bb-a745-7023cafd1a8f"
      },
      "execution_count": 12,
      "outputs": [
        {
          "output_type": "stream",
          "name": "stdout",
          "text": [
            "{1, 2, 3}\n"
          ]
        }
      ]
    },
    {
      "cell_type": "markdown",
      "source": [
        "### 14. How does the “in” keyword work differently for lists and dictionaries?\n",
        "* In a List:\n",
        "\n",
        "Checks if a value exists in the list.\n",
        "\n",
        "* In a Dictionary:\n",
        "\n",
        "Checks if a key exists (not the value).\n"
      ],
      "metadata": {
        "id": "hYmbxccMbAti"
      }
    },
    {
      "cell_type": "code",
      "source": [
        "# Example\n",
        "\n",
        "my_list = [1, 2, 3]\n",
        "print(2 in my_list)\n",
        "\n",
        "my_dict = {'name': 'Suraj', 'age': 22}\n",
        "print('name' in my_dict)\n",
        "print('Suraj' in my_dict)    # False (value, not key)"
      ],
      "metadata": {
        "colab": {
          "base_uri": "https://localhost:8080/"
        },
        "id": "oEitCbHXbVDO",
        "outputId": "dba6225c-fb1e-472c-89d3-e727efaa27c7"
      },
      "execution_count": 13,
      "outputs": [
        {
          "output_type": "stream",
          "name": "stdout",
          "text": [
            "True\n",
            "True\n",
            "False\n"
          ]
        }
      ]
    },
    {
      "cell_type": "markdown",
      "source": [
        "### 15. Can you modify the elements of a tuple? Explain why or why not?\n",
        "-> No, you cannot modify the elements of a tuple in Python because tuples are immutable. Once a tuple is created, its values cannot be changed, added, or removed.\n",
        "\n",
        "Tuples are read-only collections. Their immutability helps protect data from accidental changes, which is why you cannot modify their elements.\n",
        "\n",
        "Why Tuples Are Immutable:\n",
        "\n",
        "* To ensure data integrity\n",
        "\n",
        "* To make them hashable, so they can be used as keys in dictionaries\n",
        "\n",
        "* For performance and memory efficiency\n",
        "\n"
      ],
      "metadata": {
        "id": "DZTz0LfzbiU0"
      }
    },
    {
      "cell_type": "markdown",
      "source": [
        "### 16.  What is a nested dictionary, and give an example of its use case?\n",
        "-> A nested dictionary is a dictionary inside another dictionary.\n",
        "\n",
        "It allows you to store complex, structured data in a hierarchical format.\n",
        "\n",
        "Use Case Example:\n",
        "\n",
        "Storing student records with details like name and marks:"
      ],
      "metadata": {
        "id": "HgMzHNoGbzwq"
      }
    },
    {
      "cell_type": "code",
      "source": [
        "students = {\n",
        "    \"101\": {\"name\": \"Suraj\", \"marks\": 85},\n",
        "    \"102\": {\"name\": \"Amit\", \"marks\": 90}\n",
        "}\n",
        "\n",
        "print(students[\"101\"][\"name\"])\n"
      ],
      "metadata": {
        "colab": {
          "base_uri": "https://localhost:8080/"
        },
        "id": "mh3LPh3ib-Uv",
        "outputId": "3785416b-137f-4526-fe7a-d96c5fbf145c"
      },
      "execution_count": 14,
      "outputs": [
        {
          "output_type": "stream",
          "name": "stdout",
          "text": [
            "Suraj\n"
          ]
        }
      ]
    },
    {
      "cell_type": "markdown",
      "source": [
        "When to Use:\n",
        "\n",
        "* To represent data with multiple levels (e.g., database-like structure).\n",
        "\n",
        "* For managing user profiles, JSON data, product catalogs, etc."
      ],
      "metadata": {
        "id": "_2PyxNr-cAB-"
      }
    },
    {
      "cell_type": "markdown",
      "source": [
        "### 17. Describe the time complexity of accessing elements in a dictionary.\n",
        "\n",
        "-> Dictionaries use a hash table to store key-value pairs. When you access a value using a key, Python calculates a hash of the key to find its memory location quickly.\n",
        "\n",
        "This process gives an average time complexity of O(1), meaning access time remains constant regardless of dictionary size. It makes dictionary lookups very fast and efficient.\n",
        "\n",
        "In rare cases of hash collisions, the time complexity can increase to O(n), but Python handles collisions efficiently. So, dictionary access is almost always very quick in practice."
      ],
      "metadata": {
        "id": "jDLQEjk8cMa3"
      }
    },
    {
      "cell_type": "markdown",
      "source": [
        "### 18.  In what situations are lists preferred over dictionaries?\n",
        "-> Lists are preferred over dictionaries when:\n",
        "\n",
        "* Order matters:\n",
        "Lists maintain the order of elements, useful when the sequence is important.\n",
        "\n",
        "* Data is accessed by position (index):\n",
        "When you refer to items by their position (e.g., first, last), lists are better.\n",
        "\n",
        "* Simple collection of values:\n",
        "When storing values without labels (e.g., numbers, names), lists are more straightforward.\n",
        "\n",
        "* Duplicates are allowed:\n",
        "Lists can contain duplicate values, which dictionaries cannot (in keys).\n",
        "\n"
      ],
      "metadata": {
        "id": "q5ljivU4ckK5"
      }
    },
    {
      "cell_type": "code",
      "source": [
        "#Example\n",
        "fruits = [\"apple\", \"banana\", \"apple\"]  # List allows duplicates\n",
        "print(fruits[0])  # Access by index"
      ],
      "metadata": {
        "colab": {
          "base_uri": "https://localhost:8080/"
        },
        "id": "avL0POv6c-v5",
        "outputId": "8f459d06-eee3-4a36-a692-a7101edd24ca"
      },
      "execution_count": 15,
      "outputs": [
        {
          "output_type": "stream",
          "name": "stdout",
          "text": [
            "apple\n"
          ]
        }
      ]
    },
    {
      "cell_type": "markdown",
      "source": [
        "### 19. Why are dictionaries considered unordered, and how does that affect data retrieval?\n",
        "-> Dictionaries were unordered, meaning the items did not maintain the order in which they were added. This meant you could not rely on the order of key-value pairs.\n",
        "\n",
        "Modern Python (3.7 and above):\n",
        "Dictionaries preserve insertion order, but they are still considered unordered in theory because:\n",
        "\n",
        "* The primary purpose is key-based access, not sequence.\n",
        "* Items are accessed by key, not by position or index.\n",
        "\n",
        "Effect on Data Retrieval:\n",
        "\n",
        "* Retrieval is done using keys, not order.\n",
        "* You cannot access values by position like you do in a list (e.g., dict[0] is invalid).\n",
        "* You must know the key to get the value."
      ],
      "metadata": {
        "id": "BEXLFRgkdBWw"
      }
    },
    {
      "cell_type": "markdown",
      "source": [
        "### 20. Explain the difference between a list and a dictionary in terms of data retrieval.\n",
        "\n",
        "List:\n",
        "\n",
        "* Data is retrieved using index positions (e.g., 0, 1, 2).\n",
        "* Indexing is sequential and numeric.\n",
        "* You must know the position of the item.\n",
        "* Use a list when data is accessed by position.\n",
        "\n",
        "Dictionary:\n",
        "\n",
        "* Data is retrieved using keys, not positions.\n",
        "* Keys can be strings, numbers, or other immutable types.\n",
        "* You must know the key to access its value.\n",
        "* Use a dictionary when data is accessed by name or key.\n"
      ],
      "metadata": {
        "id": "v87a8lradfxe"
      }
    },
    {
      "cell_type": "code",
      "source": [
        "# Example\n",
        "\n",
        "#LIST\n",
        "fruits = ['apple', 'banana', 'cherry']\n",
        "print(fruits[1])\n",
        "\n",
        "#DICTIONARY\n",
        "person = {'name': 'Suraj', 'age': 22}\n",
        "print(person['name'])"
      ],
      "metadata": {
        "colab": {
          "base_uri": "https://localhost:8080/"
        },
        "id": "R3aR8uMqd9kg",
        "outputId": "c50c46b2-a883-4e2c-cd61-768e7a10608c"
      },
      "execution_count": 16,
      "outputs": [
        {
          "output_type": "stream",
          "name": "stdout",
          "text": [
            "banana\n",
            "Suraj\n"
          ]
        }
      ]
    },
    {
      "cell_type": "markdown",
      "source": [
        "## Practical Questions"
      ],
      "metadata": {
        "id": "PApKLIUteM87"
      }
    },
    {
      "cell_type": "code",
      "source": [
        "# 1. Write a code to create a string with your name and print it\n",
        "\n",
        "my_name = \"Suraj Gupta\"\n",
        "print(my_name)\n"
      ],
      "metadata": {
        "colab": {
          "base_uri": "https://localhost:8080/"
        },
        "id": "UPEuW3tmeTe2",
        "outputId": "8693dcc9-78e1-4dfd-b998-316ca348086a"
      },
      "execution_count": 17,
      "outputs": [
        {
          "output_type": "stream",
          "name": "stdout",
          "text": [
            "Suraj Gupta\n"
          ]
        }
      ]
    },
    {
      "cell_type": "code",
      "source": [
        "# 2. Write a code to find the length of the string \"Hello World\"\n",
        "\n",
        "my_string = \"Hello World\"\n",
        "length = len(my_string)\n",
        "print(\"Length of the string:\", length)"
      ],
      "metadata": {
        "colab": {
          "base_uri": "https://localhost:8080/"
        },
        "id": "4d7yvez3ee15",
        "outputId": "803bcf4f-89ac-499b-9a14-c6314c8c938d"
      },
      "execution_count": 18,
      "outputs": [
        {
          "output_type": "stream",
          "name": "stdout",
          "text": [
            "Length of the string: 11\n"
          ]
        }
      ]
    },
    {
      "cell_type": "code",
      "source": [
        "# 3. Write a code to slice the first 3 characters from the string \"Python Programming\"\n",
        "\n",
        "text = \"Python Programming\"\n",
        "sliced = text[:3]\n",
        "print(sliced)"
      ],
      "metadata": {
        "colab": {
          "base_uri": "https://localhost:8080/"
        },
        "id": "O7Hc27FFeky9",
        "outputId": "82b7c32b-8a10-4b4d-bb64-01cac5360bcf"
      },
      "execution_count": 19,
      "outputs": [
        {
          "output_type": "stream",
          "name": "stdout",
          "text": [
            "Pyt\n"
          ]
        }
      ]
    },
    {
      "cell_type": "code",
      "source": [
        "# 4. Write a code to convert the string \"hello\" to uppercase\n",
        "\n",
        "text = \"hello\"\n",
        "uppercase_text = text.upper()\n",
        "print(uppercase_text)"
      ],
      "metadata": {
        "colab": {
          "base_uri": "https://localhost:8080/"
        },
        "id": "rcCZ3Wz4ewJg",
        "outputId": "4cf6e31e-9817-4ab4-b043-f0b3d5af5090"
      },
      "execution_count": 20,
      "outputs": [
        {
          "output_type": "stream",
          "name": "stdout",
          "text": [
            "HELLO\n"
          ]
        }
      ]
    },
    {
      "cell_type": "code",
      "source": [
        "# 5. Write a code to replace the word \"apple\" with \"orange\" in the string \"I like apple\"\n",
        "\n",
        "sentence = \"I like apple\"\n",
        "new_sentence = sentence.replace(\"apple\", \"orange\")\n",
        "print(new_sentence)"
      ],
      "metadata": {
        "colab": {
          "base_uri": "https://localhost:8080/"
        },
        "id": "W7IArwC4e14d",
        "outputId": "8b708f98-23a3-4970-e595-d8f86f182826"
      },
      "execution_count": 21,
      "outputs": [
        {
          "output_type": "stream",
          "name": "stdout",
          "text": [
            "I like orange\n"
          ]
        }
      ]
    },
    {
      "cell_type": "code",
      "source": [
        "# 6. Write a code to create a list with numbers 1 to 5 and print it\n",
        "\n",
        "numbers = [1, 2, 3, 4, 5]\n",
        "print(numbers)"
      ],
      "metadata": {
        "colab": {
          "base_uri": "https://localhost:8080/"
        },
        "id": "BKEMyIjwe7iX",
        "outputId": "3098bdc3-61b4-4583-d96a-674ed5343f80"
      },
      "execution_count": 22,
      "outputs": [
        {
          "output_type": "stream",
          "name": "stdout",
          "text": [
            "[1, 2, 3, 4, 5]\n"
          ]
        }
      ]
    },
    {
      "cell_type": "code",
      "source": [
        "# 7.  Write a code to append the number 10 to the list [1, 2, 3, 4]\n",
        "\n",
        "numbers = [1, 2, 3, 4]\n",
        "numbers.append(10)\n",
        "print(numbers)"
      ],
      "metadata": {
        "colab": {
          "base_uri": "https://localhost:8080/"
        },
        "id": "JJUfL7W6fCwL",
        "outputId": "dfa6566b-aab7-484c-b4dd-73c1952e364b"
      },
      "execution_count": 23,
      "outputs": [
        {
          "output_type": "stream",
          "name": "stdout",
          "text": [
            "[1, 2, 3, 4, 10]\n"
          ]
        }
      ]
    },
    {
      "cell_type": "code",
      "source": [
        "# 8. Write a code to remove the number 3 from the list [1, 2, 3, 4, 5]\n",
        "\n",
        "numbers = [1, 2, 3, 4, 5]\n",
        "numbers.remove(3)\n",
        "print(numbers)"
      ],
      "metadata": {
        "colab": {
          "base_uri": "https://localhost:8080/"
        },
        "id": "HR2WGa6VfMuI",
        "outputId": "cd0fb40b-69a5-4cd2-c117-c24dcb259163"
      },
      "execution_count": 24,
      "outputs": [
        {
          "output_type": "stream",
          "name": "stdout",
          "text": [
            "[1, 2, 4, 5]\n"
          ]
        }
      ]
    },
    {
      "cell_type": "code",
      "source": [
        "# 9. Write a code to access the second element in the list ['a', 'b', 'c', 'd']\n",
        "\n",
        "letters = ['a', 'b', 'c', 'd']\n",
        "second_element = letters[1]\n",
        "print(second_element)"
      ],
      "metadata": {
        "colab": {
          "base_uri": "https://localhost:8080/"
        },
        "id": "4rL0pjrBfTH3",
        "outputId": "cb081474-3f9b-46da-a77a-6efc37e344aa"
      },
      "execution_count": 25,
      "outputs": [
        {
          "output_type": "stream",
          "name": "stdout",
          "text": [
            "b\n"
          ]
        }
      ]
    },
    {
      "cell_type": "code",
      "source": [
        "# 10. Write a code to reverse the list [10, 20, 30, 40, 50].\n",
        "\n",
        "numbers = [10, 20, 30, 40, 50]\n",
        "reversed_list = numbers[::-1]\n",
        "# also numbers.reverse() can be used\n",
        "print(reversed_list)"
      ],
      "metadata": {
        "colab": {
          "base_uri": "https://localhost:8080/"
        },
        "id": "yYq7pIXyfW9A",
        "outputId": "0522fc7c-eea0-4468-e43a-14863cf2a387"
      },
      "execution_count": 27,
      "outputs": [
        {
          "output_type": "stream",
          "name": "stdout",
          "text": [
            "[50, 40, 30, 20, 10]\n"
          ]
        }
      ]
    },
    {
      "cell_type": "code",
      "source": [
        "# 11. Write a code to create a tuple with the elements 100, 200, 300 and print it.\n",
        "\n",
        "my_tuple = (100, 200, 300)\n",
        "print(my_tuple)"
      ],
      "metadata": {
        "colab": {
          "base_uri": "https://localhost:8080/"
        },
        "id": "y9vC_dLKfsPc",
        "outputId": "3e5b5105-dd12-4a88-cf6c-22727dc59f39"
      },
      "execution_count": 28,
      "outputs": [
        {
          "output_type": "stream",
          "name": "stdout",
          "text": [
            "(100, 200, 300)\n"
          ]
        }
      ]
    },
    {
      "cell_type": "code",
      "source": [
        "# 12. Write a code to access the second-to-last element of the tuple ('red', 'green', 'blue', 'yellow').\n",
        "\n",
        "colors = ('red', 'green', 'blue', 'yellow')\n",
        "second_last = colors[-2]\n",
        "print(second_last)"
      ],
      "metadata": {
        "colab": {
          "base_uri": "https://localhost:8080/"
        },
        "id": "XU9uwqZlfwmx",
        "outputId": "dcd87980-0145-4c87-e091-ccab292c6f89"
      },
      "execution_count": 29,
      "outputs": [
        {
          "output_type": "stream",
          "name": "stdout",
          "text": [
            "blue\n"
          ]
        }
      ]
    },
    {
      "cell_type": "code",
      "source": [
        "# 13. Write a code to find the minimum number in the tuple (10, 20, 5, 15)\n",
        "\n",
        "numbers = (10, 20, 5, 15)\n",
        "minimum = min(numbers)\n",
        "print(\"Minimum number:\", minimum)"
      ],
      "metadata": {
        "colab": {
          "base_uri": "https://localhost:8080/"
        },
        "id": "N_e5un3Nf6Nf",
        "outputId": "8f03eca8-b91f-4834-ce4b-c50b1d93cc68"
      },
      "execution_count": 30,
      "outputs": [
        {
          "output_type": "stream",
          "name": "stdout",
          "text": [
            "Minimum number: 5\n"
          ]
        }
      ]
    },
    {
      "cell_type": "code",
      "source": [
        "# 14. Write a code to find the index of the element \"cat\" in the tuple ('dog', 'cat', 'rabbit')\n",
        "\n",
        "animals = ('dog', 'cat', 'rabbit')\n",
        "index = animals.index('cat')\n",
        "print(\"Index of 'cat':\", index)"
      ],
      "metadata": {
        "colab": {
          "base_uri": "https://localhost:8080/"
        },
        "id": "W25Z1-sPgBfN",
        "outputId": "152cf5d5-ae52-4586-9ed4-4df79f3e9e48"
      },
      "execution_count": 31,
      "outputs": [
        {
          "output_type": "stream",
          "name": "stdout",
          "text": [
            "Index of 'cat': 1\n"
          ]
        }
      ]
    },
    {
      "cell_type": "code",
      "source": [
        "#15.  Write a code to create a tuple containing three different fruits and check if \"kiwi\" is in it.\n",
        "\n",
        "fruits = (\"apple\", \"banana\", \"mango\")\n",
        "if \"kiwi\" in fruits:\n",
        "    print(\"Kiwi is in the tuple.\")\n",
        "else:\n",
        "    print(\"Kiwi is not in the tuple.\")"
      ],
      "metadata": {
        "colab": {
          "base_uri": "https://localhost:8080/"
        },
        "id": "180T0etpgPZ8",
        "outputId": "66dc853a-ee01-48ee-98ab-409fbec10e0b"
      },
      "execution_count": 32,
      "outputs": [
        {
          "output_type": "stream",
          "name": "stdout",
          "text": [
            "Kiwi is not in the tuple.\n"
          ]
        }
      ]
    },
    {
      "cell_type": "code",
      "source": [
        "# 16.  Write a code to create a set with the elements 'a', 'b', 'c' and print it.\n",
        "\n",
        "my_set = {'a', 'b', 'c'}\n",
        "print(my_set)"
      ],
      "metadata": {
        "colab": {
          "base_uri": "https://localhost:8080/"
        },
        "id": "GriEhbHKgWe3",
        "outputId": "5eccf29e-7902-416e-8416-054d0501e962"
      },
      "execution_count": 33,
      "outputs": [
        {
          "output_type": "stream",
          "name": "stdout",
          "text": [
            "{'a', 'c', 'b'}\n"
          ]
        }
      ]
    },
    {
      "cell_type": "code",
      "source": [
        "# 17. Write a code to clear all elements from the set {1, 2, 3, 4, 5}.\n",
        "\n",
        "my_set = {1, 2, 3, 4, 5}\n",
        "my_set.clear()\n",
        "print(my_set)"
      ],
      "metadata": {
        "colab": {
          "base_uri": "https://localhost:8080/"
        },
        "id": "OUhZrdybgah_",
        "outputId": "92731fad-b018-43d3-e534-068bf4902863"
      },
      "execution_count": 34,
      "outputs": [
        {
          "output_type": "stream",
          "name": "stdout",
          "text": [
            "set()\n"
          ]
        }
      ]
    },
    {
      "cell_type": "code",
      "source": [
        "# 18. Write a code to remove the element 4 from the set {1, 2, 3, 4}\n",
        "\n",
        "my_set = {1, 2, 3, 4}\n",
        "my_set.remove(4)\n",
        "print(my_set)"
      ],
      "metadata": {
        "colab": {
          "base_uri": "https://localhost:8080/"
        },
        "id": "hEX45OmHgjRl",
        "outputId": "ffcd06b1-b08c-4815-b75e-f8a358b627b4"
      },
      "execution_count": 35,
      "outputs": [
        {
          "output_type": "stream",
          "name": "stdout",
          "text": [
            "{1, 2, 3}\n"
          ]
        }
      ]
    },
    {
      "cell_type": "code",
      "source": [
        "# 19.  Write a code to find the union of two sets {1, 2, 3} and {3, 4, 5}.\n",
        "\n",
        "set1 = {1, 2, 3}\n",
        "set2 = {3, 4, 5}\n",
        "union_set = set1.union(set2)\n",
        "print(union_set)"
      ],
      "metadata": {
        "colab": {
          "base_uri": "https://localhost:8080/"
        },
        "id": "4Xy-bYixguQE",
        "outputId": "bbda4715-d4b3-440f-fd7a-efd9ba5fbfae"
      },
      "execution_count": 36,
      "outputs": [
        {
          "output_type": "stream",
          "name": "stdout",
          "text": [
            "{1, 2, 3, 4, 5}\n"
          ]
        }
      ]
    },
    {
      "cell_type": "code",
      "source": [
        "# 20. Write a code to find the intersection of two sets {1, 2, 3} and {2, 3, 4}\n",
        "\n",
        "set1 = {1, 2, 3}\n",
        "set2 = {2, 3, 4}\n",
        "intersection_set = set1.intersection(set2)\n",
        "print(intersection_set)"
      ],
      "metadata": {
        "colab": {
          "base_uri": "https://localhost:8080/"
        },
        "id": "76mw2GF_g528",
        "outputId": "2ce3c55f-865f-4b2e-a9b9-59653cabeb26"
      },
      "execution_count": 37,
      "outputs": [
        {
          "output_type": "stream",
          "name": "stdout",
          "text": [
            "{2, 3}\n"
          ]
        }
      ]
    },
    {
      "cell_type": "code",
      "source": [
        "# 21. Write a code to create a dictionary with the keys \"name\", \"age\", and \"city\", and print it.\n",
        "\n",
        "person = {\n",
        "    \"name\": \"Suraj\",\n",
        "    \"age\": 22,\n",
        "    \"city\": \"Pune\"\n",
        "}\n",
        "print(person)"
      ],
      "metadata": {
        "colab": {
          "base_uri": "https://localhost:8080/"
        },
        "id": "sD2DmFWDg9aU",
        "outputId": "962d2f57-862f-4a1c-fb2b-13d7faf6c93d"
      },
      "execution_count": 38,
      "outputs": [
        {
          "output_type": "stream",
          "name": "stdout",
          "text": [
            "{'name': 'Suraj', 'age': 22, 'city': 'Pune'}\n"
          ]
        }
      ]
    },
    {
      "cell_type": "code",
      "source": [
        "# 22. Write a code to add a new key-value pair \"country\": \"USA\" to the dictionary {'name': 'John', 'age': 25}.\n",
        "\n",
        "person = {'name': 'John', 'age': 25}\n",
        "person['country'] = 'USA'\n",
        "print(person)"
      ],
      "metadata": {
        "colab": {
          "base_uri": "https://localhost:8080/"
        },
        "id": "6GdnxKcghILA",
        "outputId": "f83958b8-d0e8-4293-8fa1-8820c8463bb3"
      },
      "execution_count": 39,
      "outputs": [
        {
          "output_type": "stream",
          "name": "stdout",
          "text": [
            "{'name': 'John', 'age': 25, 'country': 'USA'}\n"
          ]
        }
      ]
    },
    {
      "cell_type": "code",
      "source": [
        "# 23.  Write a code to access the value associated with the key \"name\" in the dictionary {'name': 'Alice', 'age': 30}.\n",
        "\n",
        "person = {'name': 'Alice', 'age': 30}\n",
        "print(person['name'])"
      ],
      "metadata": {
        "colab": {
          "base_uri": "https://localhost:8080/"
        },
        "id": "MsKfbNLxhT_F",
        "outputId": "1d869563-ac04-44a0-ee86-6b9c2c4b496d"
      },
      "execution_count": 40,
      "outputs": [
        {
          "output_type": "stream",
          "name": "stdout",
          "text": [
            "Alice\n"
          ]
        }
      ]
    },
    {
      "cell_type": "code",
      "source": [
        "# 24. Write a code to remove the key \"age\" from the dictionary {'name': 'Bob', 'age': 22, 'city': 'New York'}.\n",
        "\n",
        "person = {'name': 'Bob', 'age': 22, 'city': 'New York'}\n",
        "person.pop('age')\n",
        "print(person)"
      ],
      "metadata": {
        "colab": {
          "base_uri": "https://localhost:8080/"
        },
        "id": "PRbxX8VJhdrZ",
        "outputId": "4a09bb45-b63d-4a05-8f7e-81cd5f87e989"
      },
      "execution_count": 41,
      "outputs": [
        {
          "output_type": "stream",
          "name": "stdout",
          "text": [
            "{'name': 'Bob', 'city': 'New York'}\n"
          ]
        }
      ]
    },
    {
      "cell_type": "code",
      "source": [
        "# 25.  Write a code to check if the key \"city\" exists in the dictionary {'name': 'Alice', 'city': 'Paris'}.\n",
        "\n",
        "person = {'name': 'Alice', 'city': 'Paris'}\n",
        "if \"city\" in person:\n",
        "    print(\"Key 'city' exists in the dictionary.\")\n",
        "else:\n",
        "    print(\"Key 'city' does not exist.\")"
      ],
      "metadata": {
        "colab": {
          "base_uri": "https://localhost:8080/"
        },
        "id": "cBk_I5D9hlTR",
        "outputId": "4517575b-eeca-48ac-cad2-4a2afbca5412"
      },
      "execution_count": 42,
      "outputs": [
        {
          "output_type": "stream",
          "name": "stdout",
          "text": [
            "Key 'city' exists in the dictionary.\n"
          ]
        }
      ]
    },
    {
      "cell_type": "code",
      "source": [
        "# 26.  Write a code to create a list, a tuple, and a dictionary, and print them all.\n",
        "\n",
        "my_list = [1, 2, 3]\n",
        "my_tuple = ('a', 'b', 'c')\n",
        "my_dict = {'name': 'Suraj', 'age': 22}\n",
        "\n",
        "print(\"List:\", my_list)\n",
        "print(\"Tuple:\", my_tuple)\n",
        "print(\"Dictionary:\", my_dict)"
      ],
      "metadata": {
        "colab": {
          "base_uri": "https://localhost:8080/"
        },
        "id": "_XbUBLP8ht0x",
        "outputId": "1c973350-8021-46c3-d824-931b77b46fb0"
      },
      "execution_count": 43,
      "outputs": [
        {
          "output_type": "stream",
          "name": "stdout",
          "text": [
            "List: [1, 2, 3]\n",
            "Tuple: ('a', 'b', 'c')\n",
            "Dictionary: {'name': 'Suraj', 'age': 22}\n"
          ]
        }
      ]
    },
    {
      "cell_type": "code",
      "source": [
        "# 27. Write a code to create a list of 5 random numbers between 1 and 100, sort it in ascending order, and print the result. (replaced)\n",
        "\n",
        "import random\n",
        "\n",
        "# Create list of 5 random numbers between 1 and 100\n",
        "random_numbers = [random.randint(1, 100) for _ in range(5)]\n",
        "\n",
        "random_numbers.sort()\n",
        "\n",
        "print(random_numbers)"
      ],
      "metadata": {
        "colab": {
          "base_uri": "https://localhost:8080/"
        },
        "id": "E6_dZuknh9Eg",
        "outputId": "c6b14ebd-4401-470c-cb73-471d1f50cf9b"
      },
      "execution_count": 45,
      "outputs": [
        {
          "output_type": "stream",
          "name": "stdout",
          "text": [
            "[25, 69, 79, 80, 83]\n"
          ]
        }
      ]
    },
    {
      "cell_type": "code",
      "source": [
        "# 28. Write a code to create a list with strings and print the element at the third index\n",
        "\n",
        "words = [\"apple\", \"banana\", \"cherry\", \"date\", \"elderberry\"]\n",
        "print(words[3])"
      ],
      "metadata": {
        "colab": {
          "base_uri": "https://localhost:8080/"
        },
        "id": "9PqGGg2hiOTQ",
        "outputId": "16049ba5-3d87-42ad-9cdf-e71308f9f098"
      },
      "execution_count": 46,
      "outputs": [
        {
          "output_type": "stream",
          "name": "stdout",
          "text": [
            "date\n"
          ]
        }
      ]
    },
    {
      "cell_type": "code",
      "source": [
        "# 29. Write a code to combine two dictionaries into one and print the result\n",
        "\n",
        "dict1 = {'a': 1, 'b': 2}\n",
        "dict2 = {'c': 3, 'd': 4}\n",
        "\n",
        "combined_dict = dict1.copy()\n",
        "combined_dict.update(dict2)\n",
        "print(combined_dict)"
      ],
      "metadata": {
        "colab": {
          "base_uri": "https://localhost:8080/"
        },
        "id": "FXqdRN5SiU10",
        "outputId": "9602593d-0ee0-4b5a-cac4-0b02667ad4c6"
      },
      "execution_count": 47,
      "outputs": [
        {
          "output_type": "stream",
          "name": "stdout",
          "text": [
            "{'a': 1, 'b': 2, 'c': 3, 'd': 4}\n"
          ]
        }
      ]
    },
    {
      "cell_type": "code",
      "source": [
        "# 30. Write a code to convert a list of strings into a set.\n",
        "\n",
        "string_list = [\"apple\", \"banana\", \"apple\", \"cherry\"]\n",
        "string_set = set(string_list)\n",
        "print(string_set)"
      ],
      "metadata": {
        "colab": {
          "base_uri": "https://localhost:8080/"
        },
        "id": "5SWWzj7DiYtR",
        "outputId": "568d0726-9d06-4305-d79a-cbdeb03fafa9"
      },
      "execution_count": 48,
      "outputs": [
        {
          "output_type": "stream",
          "name": "stdout",
          "text": [
            "{'banana', 'apple', 'cherry'}\n"
          ]
        }
      ]
    }
  ]
}