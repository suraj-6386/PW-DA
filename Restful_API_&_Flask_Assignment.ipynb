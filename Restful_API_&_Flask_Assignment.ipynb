{
  "nbformat": 4,
  "nbformat_minor": 0,
  "metadata": {
    "colab": {
      "provenance": [],
      "collapsed_sections": [
        "jARs3mv6ZrfM"
      ]
    },
    "kernelspec": {
      "name": "python3",
      "display_name": "Python 3"
    },
    "language_info": {
      "name": "python"
    }
  },
  "cells": [
    {
      "cell_type": "markdown",
      "source": [
        "# Restful API & Flask Assignment"
      ],
      "metadata": {
        "id": "es-AVBjtZoJE"
      }
    },
    {
      "cell_type": "markdown",
      "source": [
        "## Theory Questions"
      ],
      "metadata": {
        "id": "jARs3mv6ZrfM"
      }
    },
    {
      "cell_type": "markdown",
      "source": [
        "### 1. What is a RESTful API?\n",
        "\n",
        "A RESTful API is a way for two systems to communicate over the web using the principles of REST (Representational State Transfer).\n",
        "\n",
        "In simple terms:\n",
        "It’s an interface that allows clients (like a website or mobile app) to request and send data to a server using standard HTTP methods such as GET, POST, PUT, DELETE.\n"
      ],
      "metadata": {
        "id": "vT7cZbUZZx13"
      }
    },
    {
      "cell_type": "markdown",
      "source": [
        "### 2. Explain the concept of API specification.\n",
        "\n",
        "An API specification is a detailed document or file that describes exactly how an API works — what endpoints it has, what data it expects, and what it returns.\n",
        "\n",
        "Why it’s important\n",
        "* It ensures that both API developers (who build it) and API consumers (who use it) have a clear agreement on how the API behaves.\n",
        "\n",
        "* Prevents confusion, bugs, and miscommunication.\n",
        "\n",
        "What it includes\n",
        "* Base URL – The root address of the API.\n",
        "\n",
        "  Example: https://api.example.com/v1\n",
        "\n",
        "* Endpoints (Resources) – Specific paths for different operations.\n",
        "\n",
        "  Example: /users, /orders/{id}\n",
        "\n",
        "* HTTP Methods – Defines the action:\n",
        "\n",
        "  GET, POST, PUT, PATCH, DELETE\n",
        "\n",
        "* Request Details –\n",
        "\n",
        "  Query parameters (?search=book)\n",
        "\n",
        "  Path parameters (/users/{id})\n",
        "\n",
        "  Request body (for POST/PUT)\n",
        "\n",
        "  Headers (e.g., Authorization: Bearer token)\n",
        "\n",
        "* Response Details –\n",
        "\n",
        "  Format (usually JSON)\n",
        "\n",
        "  Example responses\n",
        "\n",
        "  Status codes (200 OK, 404 Not Found, 500 Internal Server Error)\n",
        "\n",
        "* Authentication & Authorization –\n",
        "\n",
        "  API keys, OAuth 2.0, JWT, etc.\n",
        "\n",
        "* Error Handling – How errors are returned and their format."
      ],
      "metadata": {
        "id": "93RmITedah0N"
      }
    },
    {
      "cell_type": "markdown",
      "source": [
        "### 3. What is Flask, and why is it popular for building APIs?\n",
        "\n",
        "Flask is a lightweight web framework for Python that makes it easy to build web applications and APIs.\n",
        "It’s called a “micro-framework” because it provides only the essentials — routing, request handling, and templates — but lets you add extra features with extensions when needed.\n",
        "\n",
        "\n",
        "Why Flask is popular for building APIs\n",
        "\n",
        "1. Simplicity and Flexibility\n",
        "\n",
        "   * You can start with just a few lines of code.\n",
        "   * No strict rules or heavy structure; you control how the app is organized.\n",
        "\n",
        "2. Lightweight\n",
        "\n",
        "   * Minimal built-in components mean faster startup and less complexity.\n",
        "\n",
        "3. Python-friendly\n",
        "\n",
        "   * Uses Python’s syntax and ecosystem, making it easy for Python developers to pick up.\n",
        "\n",
        "4. Extensions Available\n",
        "\n",
        "   * Add database support, authentication, form handling, etc., only if needed.\n",
        "\n",
        "5. Perfect for APIs\n",
        "\n",
        "   * Easy to handle JSON requests and responses.\n",
        "   * Works well with RESTful design.\n",
        "\n",
        "6. Active Community\n",
        "\n",
        "   * Plenty of tutorials, documentation, and support online.\n"
      ],
      "metadata": {
        "id": "RVymR5gHbHVT"
      }
    },
    {
      "cell_type": "markdown",
      "source": [
        "### 4. What is routing in Flask?\n",
        "\n",
        "Routing is the process of mapping a URL (like /home or /users) to a specific function in your Python code that handles the request.\n",
        "\n",
        "When a user visits a URL in the browser or sends an API request, Flask uses the route definition to decide which function to run.\n",
        "\n",
        "How routing works\n",
        "* You define routes using the @app.route() decorator.\n",
        "\n",
        "* Inside the decorator, you specify:\n",
        "\n",
        "* The path (e.g., /, /about, /users/<id>)\n",
        "\n",
        "* The methods (GET, POST, PUT, etc.)\n",
        "\n"
      ],
      "metadata": {
        "id": "IFE1uYtNbcsp"
      }
    },
    {
      "cell_type": "markdown",
      "source": [
        "### 5.  How do you create a simple Flask application?\n",
        "\n",
        "Creating a simple Flask application is straightforward and only needs a few lines of Python.\n",
        "\n",
        "\n",
        "Steps to create a basic Flask app\n",
        "\n",
        "1. **Install Flask**\n",
        "\n",
        "```bash\n",
        "pip install flask\n",
        "```\n",
        "\n",
        "2. **Create the app file**\n",
        "\n",
        "Save this as app.py:\n",
        "\n",
        "```python\n",
        "from flask import Flask\n",
        "\n",
        "# Create the Flask app\n",
        "app = Flask(__name__)\n",
        "\n",
        "# Define a route\n",
        "@app.route('/')\n",
        "def home():\n",
        "    return \"Hello, Flask!\"\n",
        "\n",
        "# Run the app\n",
        "if __name__ == '__main__':\n",
        "    app.run(debug=True)\n",
        "```\n",
        "\n",
        "3. **Run the application**\n",
        "\n",
        "```bash\n",
        "python app.py\n",
        "```\n",
        "\n",
        "4. **Access it in the browser**\n",
        "\n",
        "Go to:\n",
        "\n",
        "```\n",
        "http://localhost:5000/\n",
        "```\n",
        "\n",
        "You should see:\n",
        "\n",
        "```\n",
        "Hello, Flask!\n",
        "```\n",
        "\n",
        "---\n",
        "\n",
        "**How it works:**\n",
        "\n",
        "* Flask(__name__) → Creates the app instance.\n",
        "* @app.route('/') → Maps the `/` URL to the `home()` function.\n",
        "* app.run(debug=True) → Runs the server with live reload and error messages.\n",
        "\n",
        "\n",
        "\n"
      ],
      "metadata": {
        "id": "Z2s1fv63bnYm"
      }
    },
    {
      "cell_type": "markdown",
      "source": [
        "### 6. What are HTTP methods used in RESTful APIs?\n",
        "\n",
        "Here’s a **detailed explanation** of the HTTP methods used in RESTful APIs:\n",
        "\n",
        "\n",
        " **1. GET** – Retrieve Data\n",
        "\n",
        "* **Purpose**: To request and retrieve data from the server without changing it.\n",
        "* **Behavior**:\n",
        "\n",
        "  * It’s a **safe** and **idempotent** method, meaning multiple identical GET requests should not modify data and should return the same result.\n",
        "  * Data is typically returned in formats like JSON or XML.\n",
        "* **Use case**: Reading data such as a list of products, user details, or search results.\n",
        "\n",
        "\n",
        "\n",
        "**2. POST** – Create a New Resource\n",
        "\n",
        "* **Purpose**: To send data to the server to create a new entry in a collection.\n",
        "* **Behavior**:\n",
        "\n",
        "  * Not idempotent — multiple identical POST requests can create duplicate resources.\n",
        "  * Often requires sending a request body containing the new resource’s details.\n",
        "  * The server usually responds with a status code like **201 Created** along with the created resource.\n",
        "* **Use case**: Creating a new account, posting a comment, or submitting a form.\n",
        "\n",
        "\n",
        "\n",
        " **3. PUT** – Update an Existing Resource (Full Update)\n",
        "\n",
        "* **Purpose**: To completely replace an existing resource with new data.\n",
        "* **Behavior**:\n",
        "\n",
        "  * Idempotent — sending the same PUT request multiple times results in the same final state of the resource.\n",
        "  * The request body contains all fields of the resource, even those not changing.\n",
        "  * If a resource doesn’t exist, some APIs create it (though this depends on design).\n",
        "* **Use case**: Updating an entire product record with new details.\n",
        "\n",
        "\n",
        "\n",
        "**4. PATCH** – Partially Update a Resource\n",
        "\n",
        "* **Purpose**: To update only specific fields of a resource without sending the entire object.\n",
        "* **Behavior**:\n",
        "\n",
        "  * Not necessarily idempotent, but often treated as idempotent depending on implementation.\n",
        "  * The request body contains only the fields that need to be changed.\n",
        "* **Use case**: Changing just the email address of a user without modifying their other details.\n",
        "\n",
        "\n",
        "**5. DELETE** – Remove a Resource\n",
        "\n",
        "* **Purpose**: To delete a resource from the server.\n",
        "* **Behavior**:\n",
        "\n",
        "  * Idempotent — deleting the same resource multiple times has the same effect (resource remains deleted).\n",
        "  * The server usually responds with **204 No Content** to indicate success without returning a body.\n",
        "* **Use case**: Removing a file, deleting a user account, or canceling an order.\n",
        "\n",
        "\n",
        "**Relation to CRUD Operations**\n",
        "\n",
        "* Create → POST\n",
        "* Read → GET\n",
        "* Update → PUT or PATCH\n",
        "* Delete → DELETE\n"
      ],
      "metadata": {
        "id": "kQeZe21rcJSd"
      }
    },
    {
      "cell_type": "markdown",
      "source": [
        "### 7. What is the purpose of the @app.route() decorator in Flask?\n",
        "\n",
        "In Flask, the @app.route() decorator is used to associate a specific URL path with a particular view function in the application. When a client sends a request to that URL, Flask matches it with the corresponding route and executes the linked function to generate a response.\n",
        "\n",
        "This mechanism is essential for directing incoming requests to the correct logic, whether it’s displaying a webpage or returning API data. The @app.route() decorator can also specify HTTP methods (like GET or POST) that the route should accept, allowing developers to handle different types of requests for the same URL."
      ],
      "metadata": {
        "id": "7TNAYYSKcitf"
      }
    },
    {
      "cell_type": "markdown",
      "source": [
        "### 8. What is the difference between GET and POST HTTP methods?\n",
        "\n",
        "1. GET Method:\n",
        "\n",
        "* The GET method in HTTP is used to request and retrieve data from a server without making any changes to the server’s state. When using GET, the data is appended to the URL as query parameters, making it visible in the browser’s address bar. This makes GET unsuitable for transmitting sensitive information such as passwords.\n",
        "\n",
        "* GET requests are limited in the amount of data they can send because of URL length restrictions. They can be cached, bookmarked, and are generally faster for simple data retrieval. Since GET is idempotent, sending the same request multiple times will produce the same result without altering the data on the server.\n",
        "\n",
        "\n",
        "2. POST Method\n",
        "\n",
        "* The POST method in HTTP is used to send data to the server, usually to create or update a resource. In POST, the data is sent in the body of the request, which is not visible in the URL, providing better security for sensitive information compared to GET. POST requests are not cached or stored in browser history by default.\n",
        "\n",
        "* Unlike GET, POST is not idempotent, meaning that sending the same POST request multiple times may result in duplicate resources or repeated actions. It is ideal for actions like submitting forms, uploading files, or sending large amounts of data, as there is no size limitation on the request body.\n",
        "\n"
      ],
      "metadata": {
        "id": "c6ccem8xcz-S"
      }
    },
    {
      "cell_type": "markdown",
      "source": [
        "### 9. How do you handle errors in Flask APIs?\n",
        "\n",
        "Handling Errors in Flask APIs:\n",
        "\n",
        "In Flask APIs, error handling is essential to provide meaningful responses when something goes wrong. Instead of returning generic server errors, you can send structured error messages with appropriate HTTP status codes so that the client understands the problem.\n",
        "\n",
        "Flask provides multiple ways to handle errors. The simplest method is using the abort() function from flask to immediately stop execution and return an error response, such as abort(404) for “Not Found.” You can also use custom error handlers with the @app.errorhandler() decorator to define what should be returned for specific errors. This allows you to send JSON error responses instead of plain HTML, which is more suitable for APIs.\n",
        "\n",
        "Example with Custom Error Handler:\n",
        "\n",
        "```python\n",
        "from flask import Flask, jsonify, abort\n",
        "\n",
        "app = Flask(__name__)\n",
        "\n",
        "# Custom error handler for 404\n",
        "@app.errorhandler(404)\n",
        "def not_found(error):\n",
        "    return jsonify({\"error\": \"Resource not found\"}), 404\n",
        "\n",
        "@app.route('/item/<int:id>')\n",
        "def get_item(id):\n",
        "    if id != 1:\n",
        "        abort(404)\n",
        "    return jsonify({\"id\": id, \"name\": \"Sample Item\"})\n",
        "\n",
        "if __name__ == '__main__':\n",
        "    app.run(debug=True)\n",
        "```\n",
        "\n",
        "If you run that Flask code and visit the endpoint in a browser or API client:\n",
        "\n",
        "\n",
        "**1. Request:**\n",
        "\n",
        "```\n",
        "GET http://localhost:5000/item/1\n",
        "```\n",
        "\n",
        "**Output (JSON):**\n",
        "\n",
        "```json\n",
        "{\n",
        "  \"id\": 1,\n",
        "  \"name\": \"Sample Item\"\n",
        "}\n",
        "```\n",
        "\n",
        "**Status Code:** `200 OK`\n",
        "\n",
        "\n",
        "**2. Request:**\n",
        "\n",
        "```\n",
        "GET http://localhost:5000/item/2\n",
        "```\n",
        "\n",
        "(or any number other than `1`)\n",
        "\n",
        "**Output (JSON):**\n",
        "\n",
        "```json\n",
        "{\n",
        "  \"error\": \"Resource not found\"\n",
        "}\n",
        "```\n",
        "\n",
        "**Status Code:** `404 Not Found`\n",
        "\n"
      ],
      "metadata": {
        "id": "Uf5nZInbdFBU"
      }
    },
    {
      "cell_type": "markdown",
      "source": [
        "### 10. How do you connect Flask to a SQL database?\n",
        "\n",
        "\n",
        "**1. Choose Your Database**\n",
        "\n",
        "* Decide which SQL database you want to use (e.g., MySQL, PostgreSQL, or SQLite).\n",
        "\n",
        "**2. Install the Required Libraries**\n",
        "\n",
        "  * Install Flask and the database driver (e.g., `mysqlclient`, `psycopg2` for PostgreSQL) along with an ORM like Flask-SQLAlchemy if you want easier database management.\n",
        "\n",
        "**3. Set Up a Virtual Environment**\n",
        "\n",
        "  * Create and activate a virtual environment so your project dependencies are isolated from your system Python.\n",
        "\n",
        "**4. Configure the Database URI**\n",
        "\n",
        "* In your Flask app settings, provide the database connection details — username, password, host, port, and database name — in the correct URI format.\n",
        "\n",
        "**5. Initialize the Database Connection**\n",
        "\n",
        "* Create a database object in your Flask application using the chosen driver or ORM.\n",
        "\n",
        "**6. Define Database Models**\n",
        "\n",
        "* Describe your tables as Python classes (if using an ORM) or plan your SQL table structure.\n",
        "\n",
        "**7. Create the Tables**\n",
        "\n",
        "* Run migrations or initialization commands to create the tables in the database.\n",
        "\n",
        "**8. Perform Database Operations**\n",
        "\n",
        "* Use the connection or ORM methods to insert, read, update, and delete data.\n",
        "\n",
        "**9. Handle Errors and Security**\n",
        "\n",
        "* Use error handling for failed connections and store sensitive credentials securely (e.g., in environment variables).\n",
        "\n",
        "**10. Test the Connection**\n",
        "\n",
        "* Run sample queries to confirm your Flask app can read from and write to the database.\n"
      ],
      "metadata": {
        "id": "FOaKmzjLdTYd"
      }
    },
    {
      "cell_type": "markdown",
      "source": [
        "### 11. What is the role of Flask-SQLAlchemy?\n",
        "\n",
        "Role and Purpose:\n",
        "\n",
        "* Database Integration\n",
        "\n",
        "  Provides a simple way to connect Flask to different SQL databases like MySQL, PostgreSQL, and SQLite using a single configuration.\n",
        "\n",
        "* Object Relational Mapping (ORM)\n",
        "\n",
        "  Allows you to work with database tables as Python classes and rows as Python objects instead of writing raw SQL queries.\n",
        "\n",
        "* Simplifies CRUD Operations\n",
        "\n",
        "  Offers built-in methods for creating, reading, updating, and deleting records with minimal code.\n",
        "\n",
        "* Model Management\n",
        "\n",
        "  Lets you define models (tables) directly in Python code and automatically map them to the database schema.\n",
        "\n",
        "* Cross-Database Support\n",
        "\n",
        "  Works with multiple database backends by changing only the database URI, without modifying the rest of the code.\n",
        "\n",
        "* Session Handling\n",
        "\n",
        "  Manages database sessions automatically, making transactions easier to handle.\n",
        "\n"
      ],
      "metadata": {
        "id": "8cINTzUqeSDj"
      }
    },
    {
      "cell_type": "markdown",
      "source": [
        "### 12. What are Flask blueprints, and how are they useful?\n",
        "\n",
        "Flask Blueprints are a way to organize a Flask application into smaller, reusable components.\n",
        "They act like templates or mini-applications inside a larger Flask project, letting you group related routes, views, and other logic together.\n",
        "\n",
        "Why they are useful\n",
        "\n",
        "* Better Organization\n",
        "\n",
        "  Instead of putting all routes in one app.py file, you can split them into separate modules (e.g., auth, admin, api).\n",
        "\n",
        "* Reusability\n",
        "\n",
        "  Blueprints can be reused across different projects or registered multiple times in the same app.\n",
        "\n",
        "* Easier Collaboration\n",
        "\n",
        "  In team projects, different developers can work on different blueprints without touching the main app code.\n",
        "\n",
        "* Scalability\n",
        "\n",
        "  They make it easier to grow the application without creating a huge, messy file.\n",
        "\n",
        "* Independent Functionality\n",
        "\n",
        "  Each blueprint can have its own routes, templates, and static files, keeping features self-contained."
      ],
      "metadata": {
        "id": "emnadSDOeihK"
      }
    },
    {
      "cell_type": "markdown",
      "source": [
        "### 13. What is the purpose of Flask's request object?\n",
        "\n",
        "The request object in Flask is used to access data sent by the client to the server during an HTTP request.\n",
        "\n",
        "Purpose:\n",
        "\n",
        "* Access Request Data\n",
        "\n",
        "  Retrieve form data, JSON data, query parameters, and file uploads sent by the client.\n",
        "\n",
        "* Get Request Metadata\n",
        "\n",
        "  Access information such as HTTP method (GET, POST), headers, cookies, and the client’s IP address.\n",
        "\n",
        "* Work with Different Content Types\n",
        "\n",
        "  Handle data from HTML forms, API requests, or file submissions in a consistent way.\n",
        "\n",
        "* Support for Multiple Request Methods\n",
        "\n",
        "  Allows you to write logic that behaves differently depending on whether the request is a GET, POST, etc.\n",
        "\n"
      ],
      "metadata": {
        "id": "rYbUFPd2ezNG"
      }
    },
    {
      "cell_type": "markdown",
      "source": [
        "### 14. How do you create a RESTful API endpoint using Flask?\n",
        "\n",
        "\n",
        "### **Steps to Create a RESTful API Endpoint in Flask**\n",
        "\n",
        "1. **Install Flask**\n",
        "\n",
        "   * Use `pip install flask` to set up Flask in your project environment.\n",
        "\n",
        "2. **Import Flask and Required Modules**\n",
        "\n",
        "   * Import `Flask` to create the app and `jsonify` to return JSON responses.\n",
        "\n",
        "3. **Create a Flask Application Instance**\n",
        "\n",
        "   * Initialize your Flask app using `app = Flask(__name__)`.\n",
        "\n",
        "4. **Define the API Endpoint (Route)**\n",
        "\n",
        "   * Use the `@app.route()` decorator to specify the URL path for the API.\n",
        "   * Set the `methods` parameter to the desired HTTP methods (GET, POST, etc.).\n",
        "\n",
        "5. **Write the View Function**\n",
        "\n",
        "   * Inside the function, process the request and prepare the response data.\n",
        "\n",
        "6. **Return a JSON Response**\n",
        "\n",
        "   * Use `jsonify()` to send the response in JSON format with an appropriate HTTP status code.\n",
        "\n",
        "7. **Run the Application**\n",
        "\n",
        "   * Start the server with `app.run(debug=True)` and access the endpoint in a browser or API client.\n"
      ],
      "metadata": {
        "id": "w_z1hio3fAk7"
      }
    },
    {
      "cell_type": "markdown",
      "source": [
        "### 15. What is the purpose of Flask's jsonify() function?\n",
        "\n",
        "The **`jsonify()`** function in Flask is used to create **JSON responses** for the client in a proper and consistent format.\n",
        "\n",
        "\n",
        "### **Purpose**\n",
        "\n",
        "1. **Convert Python Data to JSON**\n",
        "\n",
        "   * Takes Python dictionaries, lists, or other serializable objects and converts them into JSON format automatically.\n",
        "\n",
        "2. **Set the Correct Content-Type**\n",
        "\n",
        "   * Automatically adds the `Content-Type: application/json` header so the client knows it’s receiving JSON data.\n",
        "\n",
        "3. **Simplify API Responses**\n",
        "\n",
        "   * Makes returning JSON from Flask APIs easier, without manually using `json.dumps()` and setting headers.\n",
        "\n",
        "4. **Ensure Proper Encoding**\n",
        "\n",
        "   * Handles special characters and ensures the output is UTF-8 encoded JSON.\n"
      ],
      "metadata": {
        "id": "-ob2AZGdfIta"
      }
    },
    {
      "cell_type": "markdown",
      "source": [
        "### 16. Explain Flask’s url_for() function.\n",
        "\n",
        "Flask’s **`url_for()`** function is used to dynamically build URLs for your application’s routes based on the **name of the view function** rather than hardcoding paths.\n",
        "\n",
        "\n",
        "### **Purpose**\n",
        "\n",
        "1. **Avoid Hardcoding URLs**\n",
        "\n",
        "   * If you hardcode URLs and later change a route, you’ll need to update it everywhere.\n",
        "   * `url_for()` automatically updates the URL if the route changes, preventing broken links.\n",
        "\n",
        "2. **Dynamic URL Generation**\n",
        "\n",
        "   * Can insert dynamic values (like IDs or usernames) into the URL using parameters.\n",
        "\n",
        "3. **Better Maintainability**\n",
        "\n",
        "   * Keeps your application cleaner and easier to modify.\n",
        "\n",
        "4. **Supports Static Files**\n",
        "\n",
        "   * Can also generate URLs for static files by passing `'static'` as the endpoint name.\n",
        "\n",
        "\n",
        "### **How It Works**\n",
        "\n",
        "* You pass the **function name** (endpoint) of a route to `url_for()` along with any required arguments.\n",
        "* Flask looks up the corresponding URL pattern and fills in variables with provided values.\n"
      ],
      "metadata": {
        "id": "M0zfMJXPfTp4"
      }
    },
    {
      "cell_type": "markdown",
      "source": [
        "### 17. How does Flask handle static files (CSS, JavaScript, etc.)?\n",
        "\n",
        "Flask handles static files by serving them from a special **`static`** directory in your project.\n",
        "\n",
        "### **Default Behavior**\n",
        "\n",
        "1. **Static Folder**\n",
        "\n",
        "   * Flask automatically looks for a folder named **`static`** in the same directory as your main app file.\n",
        "   * Any files inside this folder (CSS, JavaScript, images, etc.) can be served to the browser.\n",
        "\n",
        "2. **Static URL Path**\n",
        "\n",
        "   * The default URL path for static files is `/static/<filename>`.\n",
        "   * For example, a file at `static/style.css` is accessible at `http://localhost:5000/static/style.css`.\n",
        "\n",
        "\n",
        "### **Using in HTML Templates**\n",
        "\n",
        "* You can reference static files in templates using Flask’s **`url_for('static', filename='...')`** function:\n",
        "\n",
        "  ```html\n",
        "  <link rel=\"stylesheet\" href=\"{{ url_for('static', filename='style.css') }}\">\n",
        "  <script src=\"{{ url_for('static', filename='script.js') }}\"></script>\n",
        "  ```\n",
        "\n",
        "### **Customization**\n",
        "\n",
        "* You can change the default static folder or URL path by setting parameters when creating the Flask app:\n",
        "\n",
        "  ```python\n",
        "  app = Flask(__name__, static_folder='assets', static_url_path='/files')\n",
        "  ```\n",
        "\n",
        "Flask serves static files from a dedicated folder (`static` by default) and makes them accessible via `/static/filename`. This keeps your CSS, JS, and images organized and easy to link in templates."
      ],
      "metadata": {
        "id": "epDJcuuOfcfl"
      }
    },
    {
      "cell_type": "markdown",
      "source": [
        "### 18. What is an API specification, and how does it help in building a Flask API?\n",
        "\n",
        "An **API specification** is a formal document or definition that describes how an API works, including its endpoints, request and response formats, parameters, authentication methods, and possible error responses. It serves as a blueprint for both developers building the API and those consuming it. Common formats include **OpenAPI (Swagger)**, **RAML**, and **API Blueprint**.\n",
        "\n",
        "\n",
        "\n",
        "### **How it helps in building a Flask API**\n",
        "\n",
        "1. **Clear Blueprint for Development**\n",
        "\n",
        "   * An API specification outlines exactly what needs to be built—what endpoints exist, what HTTP methods to use, what data is expected, and what will be returned.\n",
        "   * This prevents guesswork and helps Flask developers structure routes, request handling, and responses consistently.\n",
        "\n",
        "2. **Better Collaboration**\n",
        "\n",
        "   * Frontend and backend teams can work in parallel using the API specification as a reference.\n",
        "   * Testers can create test cases early, and documentation is automatically aligned with the actual API.\n",
        "\n",
        "3. **Consistency and Maintenance**\n",
        "\n",
        "   * With a specification, all API responses follow a uniform structure, making maintenance easier.\n",
        "   * Flask APIs can integrate with tools like **Flask-RESTX** or **Connexion** to automatically validate requests and responses against the specification.\n",
        "\n",
        "4. **Easier Testing and Integration**\n",
        "\n",
        "   * API specifications can be imported into testing tools like **Postman** or **Swagger UI** to quickly test endpoints.\n",
        "   * This speeds up debugging and ensures the API works as intended.\n"
      ],
      "metadata": {
        "id": "62MDFGdwfoGz"
      }
    },
    {
      "cell_type": "markdown",
      "source": [
        "### 19. What are HTTP status codes, and why are they important in a Flask API?\n",
        "\n",
        "**HTTP status codes** are three-digit numbers returned by a web server to indicate the result of a client’s request.\n",
        "They are part of the HTTP response and help both developers and clients understand whether the request was successful, failed, or requires additional action.\n",
        "\n",
        "\n",
        "### **Why They Are Important in a Flask API**\n",
        "\n",
        "1. **Communicate Request Outcome**\n",
        "\n",
        "   * Status codes clearly tell the client what happened without having to parse the response body.\n",
        "   * Example:\n",
        "\n",
        "     * `200 OK` → Request succeeded.\n",
        "     * `404 Not Found` → Requested resource doesn’t exist.\n",
        "\n",
        "2. **Improve API Usability**\n",
        "\n",
        "   * Clients can programmatically act based on status codes.\n",
        "   * Example: Retry on `503 Service Unavailable` but not on `400 Bad Request`.\n",
        "\n",
        "3. **Error Handling and Debugging**\n",
        "\n",
        "   * Clear codes help developers identify and fix issues faster.\n",
        "   * Example: `401 Unauthorized` vs `403 Forbidden` shows whether the issue is authentication or permissions.\n",
        "\n",
        "4. **Follow Web Standards**\n",
        "\n",
        "   * Properly using HTTP status codes ensures your Flask API behaves like other well-designed APIs, making it easier for other developers to integrate with.\n"
      ],
      "metadata": {
        "id": "oo7RAFTxfwNF"
      }
    },
    {
      "cell_type": "markdown",
      "source": [
        "### 20. How do you handle POST requests in Flask?\n",
        "\n",
        "In Flask, you handle **POST** requests by:\n",
        "\n",
        "1. **Allowing POST in the route**\n",
        "\n",
        "```python\n",
        "@app.route('/submit', methods=['POST'])\n",
        "def submit():\n",
        "```\n",
        "\n",
        "2. **Getting data from the request**\n",
        "\n",
        "```python\n",
        "data = request.form     # For form data\n",
        "data = request.json     # For JSON body\n",
        "```\n",
        "\n",
        "3. **Processing and returning a response**\n",
        "\n",
        "```python\n",
        "return jsonify({\"message\": \"Data received\"}), 201\n",
        "```\n",
        "\n",
        "**Example:**\n",
        "\n",
        "```python\n",
        "from flask import Flask, request, jsonify\n",
        "\n",
        "app = Flask(__name__)\n",
        "\n",
        "@app.route('/submit', methods=['POST'])\n",
        "def submit():\n",
        "    data = request.json\n",
        "    return jsonify({\"received\": data}), 201\n",
        "```\n"
      ],
      "metadata": {
        "id": "hidndmDPf47g"
      }
    },
    {
      "cell_type": "markdown",
      "source": [
        "### 21. How would you secure a Flask API?\n",
        "\n",
        "To secure a Flask API, you can:\n",
        "\n",
        "1. **Use Authentication & Authorization** – Implement methods like JWT tokens or OAuth2 to verify user identity and restrict access.\n",
        "2. **Validate Input Data** – Prevent SQL injection, XSS, and other attacks by validating and sanitizing inputs.\n",
        "3. **Use HTTPS** – Encrypt data in transit with SSL/TLS.\n",
        "4. **Rate Limiting** – Prevent abuse by limiting the number of requests per user/IP.\n",
        "5. **Error Handling** – Avoid exposing sensitive information in error messages.\n",
        "6. **Keep Dependencies Updated** – Patch security vulnerabilities regularly.\n"
      ],
      "metadata": {
        "id": "Kd2LVApjgH2j"
      }
    },
    {
      "cell_type": "markdown",
      "source": [
        "### 22. What is the significance of the Flask-RESTful extension?\n",
        "\n",
        "**Flask-RESTful** is an extension that makes building RESTful APIs in Flask easier and more structured.\n",
        "\n",
        "**Significance:**\n",
        "\n",
        "1. **Simplifies API development** – Provides a clean way to create endpoints using classes instead of plain functions.\n",
        "2. **Built-in request parsing** – Easily handle JSON or form data with `reqparse`.\n",
        "3. **Automatic HTTP method handling** – Supports `GET`, `POST`, `PUT`, `DELETE` in a single class.\n",
        "4. **Better error handling** – Provides helpful error responses for missing or invalid data.\n",
        "5. **JSON support** – Automatically serializes Python dictionaries into JSON responses.\n",
        "\n",
        "Example:\n",
        "\n",
        "```python\n",
        "from flask_restful import Resource, Api\n",
        "\n",
        "class Hello(Resource):\n",
        "    def get(self):\n",
        "        return {\"message\": \"Hello, World!\"}\n",
        "```\n",
        "\n",
        "It’s like giving Flask a **toolbox specifically for REST APIs**.\n"
      ],
      "metadata": {
        "id": "GaRYV662ghVc"
      }
    },
    {
      "cell_type": "markdown",
      "source": [
        "### 23. What is the role of Flask’s session object?\n",
        "\n",
        "In Flask, the **`session` object** is used to store information about a user **across multiple requests**.\n",
        "\n",
        "**Role:**\n",
        "\n",
        "1. **Maintains state** – HTTP is stateless, but `session` lets you remember user-specific data between page loads (e.g., login status).\n",
        "2. **Server-side or client-side storage** – In Flask, session data is stored on the client in a **secure cookie** (signed using the app’s `SECRET_KEY`).\n",
        "3. **Stores small data** – Ideal for things like user IDs, preferences, or temporary form data.\n",
        "4. **Automatic handling** – Flask handles reading/writing the session data for each request.\n",
        "\n",
        "**Example use case:**\n",
        "\n",
        "* When a user logs in, store `session[\"user_id\"] = 123` so you can identify them on every page without asking them to log in again.\n"
      ],
      "metadata": {
        "id": "vBWjbrXugr8Z"
      }
    },
    {
      "cell_type": "markdown",
      "source": [
        "## Practical Questions\n"
      ],
      "metadata": {
        "id": "KP0nUuI5gwUQ"
      }
    },
    {
      "cell_type": "code",
      "source": [
        "# Question: How do you create a basic Flask application\n",
        "from flask import Flask\n",
        "\n",
        "app = Flask(__name__)\n",
        "\n",
        "@app.route('/')\n",
        "def home():\n",
        "    return \"Hello, Flask!\"\n",
        "\n",
        "if __name__ == \"__main__\":\n",
        "    app.run(debug=True)"
      ],
      "metadata": {
        "id": "zv-G0fXkkAGg"
      },
      "execution_count": null,
      "outputs": []
    },
    {
      "cell_type": "markdown",
      "source": [
        "Hello, Flask!\n"
      ],
      "metadata": {
        "id": "mdOrpg0hkF5j"
      }
    },
    {
      "cell_type": "code",
      "source": [
        "# Question: How do you serve static files like images or CSS in Flask\n",
        "from flask import Flask\n",
        "\n",
        "app = Flask(__name__, static_folder=\"static\")\n",
        "\n",
        "@app.route('/')\n",
        "def home():\n",
        "    return '<link rel=\"stylesheet\" href=\"/static/style.css\"><h1>Static CSS Loaded</h1>'\n",
        "\n",
        "if __name__ == \"__main__\":\n",
        "    app.run(debug=True)\n"
      ],
      "metadata": {
        "id": "Uyum6-PrkNLq"
      },
      "execution_count": null,
      "outputs": []
    },
    {
      "cell_type": "markdown",
      "source": [
        "Expected Output in Browser:\n",
        "A page with <h1>Static CSS Loaded</h1> styled by static/style.css"
      ],
      "metadata": {
        "id": "CjcmSt8bkNt6"
      }
    },
    {
      "cell_type": "code",
      "source": [
        "# Question: How do you define different routes with different HTTP methods in Flask\n",
        "from flask import Flask, request\n",
        "\n",
        "app = Flask(__name__)\n",
        "\n",
        "@app.route('/example', methods=['GET', 'POST'])\n",
        "def example():\n",
        "    if request.method == 'POST':\n",
        "        return \"This is a POST request\"\n",
        "    return \"This is a GET request\"\n",
        "\n",
        "if __name__ == \"__main__\":\n",
        "    app.run(debug=True)\n"
      ],
      "metadata": {
        "id": "dDMEzAVokYsb"
      },
      "execution_count": null,
      "outputs": []
    },
    {
      "cell_type": "markdown",
      "source": [
        "Expected Output:\n",
        "\n",
        "Visiting /example in browser → This is a GET request\n",
        "\n",
        "Sending a POST request → This is a POST request"
      ],
      "metadata": {
        "id": "LqIuHGwWkZMp"
      }
    },
    {
      "cell_type": "code",
      "source": [
        "# Question: How do you render HTML templates in Flask\n",
        "from flask import Flask, render_template\n",
        "\n",
        "app = Flask(__name__)\n",
        "\n",
        "@app.route('/')\n",
        "def home():\n",
        "    return render_template('index.html')\n",
        "\n",
        "if __name__ == \"__main__\":\n",
        "    app.run(debug=True)\n"
      ],
      "metadata": {
        "id": "zXDoP29okb1W"
      },
      "execution_count": null,
      "outputs": []
    },
    {
      "cell_type": "markdown",
      "source": [
        "Expected Output:\n",
        "The HTML content from templates/index.html is displayed."
      ],
      "metadata": {
        "id": "Lvgm6WuvkfDt"
      }
    },
    {
      "cell_type": "code",
      "source": [
        "# Question: How can you generate URLs for routes in Flask using url_for\n",
        "from flask import Flask, url_for\n",
        "\n",
        "app = Flask(__name__)\n",
        "\n",
        "@app.route('/')\n",
        "def home():\n",
        "    return f\"Go to {url_for('about')}\"\n",
        "\n",
        "@app.route('/about')\n",
        "def about():\n",
        "    return \"About Page\"\n",
        "\n",
        "if __name__ == \"__main__\":\n",
        "    app.run(debug=True)\n"
      ],
      "metadata": {
        "id": "jDUPutSgkgS3"
      },
      "execution_count": null,
      "outputs": []
    },
    {
      "cell_type": "markdown",
      "source": [
        "Go to /about\n"
      ],
      "metadata": {
        "id": "Nz_SRA5Lki-9"
      }
    },
    {
      "cell_type": "code",
      "source": [
        "# Question: How do you handle forms in Flask\n",
        "from flask import Flask, request, render_template_string\n",
        "\n",
        "app = Flask(__name__)\n",
        "\n",
        "@app.route('/', methods=['GET', 'POST'])\n",
        "def form():\n",
        "    if request.method == 'POST':\n",
        "        return f\"Hello {request.form['name']}\"\n",
        "    return render_template_string('<form method=\"post\"><input name=\"name\"><input type=\"submit\"></form>')\n",
        "\n",
        "if __name__ == \"__main__\":\n",
        "    app.run(debug=True)\n"
      ],
      "metadata": {
        "id": "mSEpQImbkj6D"
      },
      "execution_count": null,
      "outputs": []
    },
    {
      "cell_type": "markdown",
      "source": [
        "Expected Output:\n",
        "\n",
        "Shows a form with a text box.\n",
        "\n",
        "Submitting with Suraj → Hello Suraj"
      ],
      "metadata": {
        "id": "9yzE27pBkm8R"
      }
    },
    {
      "cell_type": "code",
      "source": [
        "# Question: How can you validate form data in Flask\n",
        "from flask import Flask, request\n",
        "\n",
        "app = Flask(__name__)\n",
        "\n",
        "@app.route('/', methods=['POST', 'GET'])\n",
        "def validate():\n",
        "    if request.method == 'POST':\n",
        "        name = request.form.get('name')\n",
        "        if not name:\n",
        "            return \"Name is required!\"\n",
        "        return f\"Hello {name}\"\n",
        "    return '<form method=\"post\"><input name=\"name\"><input type=\"submit\"></form>'\n",
        "\n",
        "if __name__ == \"__main__\":\n",
        "    app.run(debug=True)\n"
      ],
      "metadata": {
        "id": "HR9i0oA4koxs"
      },
      "execution_count": null,
      "outputs": []
    },
    {
      "cell_type": "markdown",
      "source": [
        "Expected Output:\n",
        "\n",
        "Submitting empty → Name is required!\n",
        "\n",
        "Submitting Suraj → Hello Suraj\n",
        "\n"
      ],
      "metadata": {
        "id": "lCI67XTikqZM"
      }
    },
    {
      "cell_type": "code",
      "source": [
        "# Question: How do you manage sessions in Flask\n",
        "from flask import Flask, session\n",
        "\n",
        "app = Flask(__name__)\n",
        "app.secret_key = 'secret'\n",
        "\n",
        "@app.route('/')\n",
        "def index():\n",
        "    session['user'] = 'Suraj'\n",
        "    return 'Session created!'\n",
        "\n",
        "@app.route('/get')\n",
        "def get():\n",
        "    return f\"User: {session.get('user')}\"\n",
        "\n",
        "if __name__ == \"__main__\":\n",
        "    app.run(debug=True)\n"
      ],
      "metadata": {
        "id": "unf_LHhFktHV"
      },
      "execution_count": null,
      "outputs": []
    },
    {
      "cell_type": "markdown",
      "source": [
        "Expected Output:\n",
        "\n",
        "Visiting / → Session created!\n",
        "\n",
        "Visiting /get → User: Suraj"
      ],
      "metadata": {
        "id": "u307ZanJkup-"
      }
    },
    {
      "cell_type": "code",
      "source": [
        "# Question: How do you redirect to a different route in Flask\n",
        "from flask import Flask, redirect, url_for\n",
        "\n",
        "app = Flask(__name__)\n",
        "\n",
        "@app.route('/')\n",
        "def home():\n",
        "    return redirect(url_for('about'))\n",
        "\n",
        "@app.route('/about')\n",
        "def about():\n",
        "    return \"Redirected to About Page\"\n",
        "\n",
        "if __name__ == \"__main__\":\n",
        "    app.run(debug=True)\n"
      ],
      "metadata": {
        "id": "B4SQaOy6kwfg"
      },
      "execution_count": null,
      "outputs": []
    },
    {
      "cell_type": "markdown",
      "source": [
        "Redirected to About Page\n"
      ],
      "metadata": {
        "id": "70yxh59IkzTu"
      }
    },
    {
      "cell_type": "code",
      "source": [
        "# Question: How do you handle errors in Flask (e.g., 404)\n",
        "from flask import Flask\n",
        "\n",
        "app = Flask(__name__)\n",
        "\n",
        "@app.errorhandler(404)\n",
        "def not_found(e):\n",
        "    return \"Custom 404 Error Page\", 404\n",
        "\n",
        "if __name__ == \"__main__\":\n",
        "    app.run(debug=True)\n"
      ],
      "metadata": {
        "id": "qEH7-5oZk5qA"
      },
      "execution_count": null,
      "outputs": []
    },
    {
      "cell_type": "markdown",
      "source": [
        "Custom 404 Error Page\n"
      ],
      "metadata": {
        "id": "UyhiXyask77E"
      }
    },
    {
      "cell_type": "code",
      "source": [
        "# Question: How do you structure a Flask app using Blueprints\n",
        "from flask import Flask, Blueprint\n",
        "\n",
        "bp = Blueprint('bp', __name__)\n",
        "\n",
        "@bp.route('/')\n",
        "def home():\n",
        "    return \"Hello from Blueprint\"\n",
        "\n",
        "app = Flask(__name__)\n",
        "app.register_blueprint(bp)\n",
        "\n",
        "if __name__ == \"__main__\":\n",
        "    app.run(debug=True)\n"
      ],
      "metadata": {
        "id": "HgAXsha3k8Vt"
      },
      "execution_count": null,
      "outputs": []
    },
    {
      "cell_type": "markdown",
      "source": [
        "Hello from Blueprint\n"
      ],
      "metadata": {
        "id": "W7ezQsQTk99M"
      }
    },
    {
      "cell_type": "code",
      "source": [
        "# Question: How do you define a custom Jinja filter in Flask\n",
        "from flask import Flask, render_template_string\n",
        "\n",
        "app = Flask(__name__)\n",
        "\n",
        "def reverse_string(s):\n",
        "    return s[::-1]\n",
        "\n",
        "app.jinja_env.filters['reverse'] = reverse_string\n",
        "\n",
        "@app.route('/')\n",
        "def home():\n",
        "    return render_template_string(\"{{ 'Flask' | reverse }}\")\n",
        "\n",
        "if __name__ == \"__main__\":\n",
        "    app.run(debug=True)\n"
      ],
      "metadata": {
        "id": "gNv-QNIlk_uw"
      },
      "execution_count": null,
      "outputs": []
    },
    {
      "cell_type": "markdown",
      "source": [
        "ksalF\n"
      ],
      "metadata": {
        "id": "MCqlyf0WlBVK"
      }
    },
    {
      "cell_type": "code",
      "source": [
        "# Question: How can you redirect with query parameters in Flask\n",
        "from flask import Flask, redirect, url_for, request\n",
        "\n",
        "app = Flask(__name__)\n",
        "\n",
        "@app.route('/')\n",
        "def home():\n",
        "    return redirect(url_for('about', name='Suraj'))\n",
        "\n",
        "@app.route('/about')\n",
        "def about():\n",
        "    name = request.args.get('name')\n",
        "    return f\"Hello {name}\"\n",
        "\n",
        "if __name__ == \"__main__\":\n",
        "    app.run(debug=True)\n"
      ],
      "metadata": {
        "id": "xk6RIl6PlHmj"
      },
      "execution_count": null,
      "outputs": []
    },
    {
      "cell_type": "markdown",
      "source": [
        "Hello Suraj\n"
      ],
      "metadata": {
        "id": "c_pqryq1lEvf"
      }
    },
    {
      "cell_type": "code",
      "source": [
        "# Question: How do you return JSON responses in Flask\n",
        "from flask import Flask, jsonify\n",
        "\n",
        "app = Flask(__name__)\n",
        "\n",
        "@app.route('/')\n",
        "def json_data():\n",
        "    return jsonify(name=\"Suraj\", role=\"Developer\")\n",
        "\n",
        "if __name__ == \"__main__\":\n",
        "    app.run(debug=True)\n"
      ],
      "metadata": {
        "id": "_5kLoFkDlKON"
      },
      "execution_count": null,
      "outputs": []
    },
    {
      "cell_type": "markdown",
      "source": [
        "{\n",
        "  \"name\": \"Suraj\",\n",
        "  \"role\": \"Developer\"\n",
        "}\n"
      ],
      "metadata": {
        "id": "vdlponRAlLpW"
      }
    },
    {
      "cell_type": "code",
      "source": [
        "# Question: How do you capture URL parameters in Flask\n",
        "from flask import Flask\n",
        "\n",
        "app = Flask(__name__)\n",
        "\n",
        "@app.route('/user/<name>')\n",
        "def user(name):\n",
        "    return f\"Hello {name}\"\n",
        "\n",
        "if __name__ == \"__main__\":\n",
        "    app.run(debug=True)\n"
      ],
      "metadata": {
        "id": "boxAkNR1lNRt"
      },
      "execution_count": null,
      "outputs": []
    },
    {
      "cell_type": "markdown",
      "source": [
        "Hello Suraj\n"
      ],
      "metadata": {
        "id": "j5Kntj2MlPCh"
      }
    }
  ]
}