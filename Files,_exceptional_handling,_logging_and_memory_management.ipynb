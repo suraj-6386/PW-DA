{
  "nbformat": 4,
  "nbformat_minor": 0,
  "metadata": {
    "colab": {
      "provenance": []
    },
    "kernelspec": {
      "name": "python3",
      "display_name": "Python 3"
    },
    "language_info": {
      "name": "python"
    }
  },
  "cells": [
    {
      "cell_type": "markdown",
      "source": [
        "#Files, exceptional handling, logging and memory management Questions"
      ],
      "metadata": {
        "id": "sZHohFwPGyyH"
      }
    },
    {
      "cell_type": "markdown",
      "source": [
        "### 1. What is the difference between interpreted and compiled languages?\n",
        "\n",
        "Compiled languages translate the entire source code into machine code before the program is run. This means that the code goes through a compilation process that converts it into a standalone executable file. Because the program is already translated into native machine code, it generally runs faster and more efficiently. Errors in compiled languages are usually caught during the compilation stage, so the program won’t run until those errors are fixed. Examples of compiled languages include C, C++, and Rust. However, compiled programs need to be recompiled for different platforms, which makes them less portable.\n",
        "\n",
        "On the other hand, interpreted languages execute code line-by-line at runtime through an interpreter. Instead of producing a separate executable, the interpreter reads and executes each instruction directly. This allows for more flexibility and easier debugging since you can test and run code interactively. However, interpreted programs often run slower than compiled ones because each line must be translated as the program runs. Errors in interpreted languages are detected only when the interpreter encounters the problematic line. Examples include Python, JavaScript, and Ruby. Interpreted languages are more portable because the same source code can run on any system that has the appropriate interpreter installed."
      ],
      "metadata": {
        "id": "eHIGVjpeG4RT"
      }
    },
    {
      "cell_type": "markdown",
      "source": [
        "### 2. What is exception handling in Python?\n",
        "\n",
        "Exception handling in Python is a way to manage errors that occur during the execution of a program, preventing the program from crashing unexpectedly. When an error (called an exception) happens, Python stops the normal flow of the program and looks for code that can handle that error.\n",
        "\n",
        "Python uses a set of keywords—try, except, else, and finally—to handle exceptions"
      ],
      "metadata": {
        "id": "cwV-pz6oHafJ"
      }
    },
    {
      "cell_type": "markdown",
      "source": [
        "### 3. What is the purpose of the finally block in exception handling?\n",
        "\n",
        "The purpose of the finally block in exception handling is to ensure that certain important code runs no matter what happens in the try and except blocks. Whether an exception is raised or not, and whether it’s caught or not, the code inside the finally block will always execute.\n",
        "\n",
        "This is especially useful for cleanup activities like:\n",
        "\n",
        "* Closing files\n",
        "* Releasing resources (e.g., database connections)\n",
        "* Releasing locks or network connections\n",
        "\n",
        "Using a finally block helps prevent resource leaks and ensures that your program leaves things in a good state regardless of errors."
      ],
      "metadata": {
        "id": "KQFErz2PHk2c"
      }
    },
    {
      "cell_type": "markdown",
      "source": [
        "### 4. What is logging in Python?\n",
        "\n",
        "Logging in Python is the process of recording events, messages, or information about a program’s execution. Python provides a built-in module called logging that helps developers track what’s happening inside their programs, such as errors, warnings, or general informational messages.\n",
        "\n",
        "With the logging module, you can log messages at different severity levels like DEBUG, INFO, WARNING, ERROR, and CRITICAL, and you can configure logs to be saved to files, displayed on the console, or sent to remote servers."
      ],
      "metadata": {
        "id": "aszJ8nnLH5i9"
      }
    },
    {
      "cell_type": "markdown",
      "source": [
        "### 5. What is the significance of the `__del__` method in Python?\n",
        "\n",
        "The `__del__` method in Python is a special method called a destructor. It is automatically invoked when an object is about to be destroyed or garbage collected.\n",
        "\n",
        "Significance of `__del__`:\n",
        "\n",
        "* It allows you to define cleanup actions that should happen right before an object’s memory is freed.\n",
        "\n",
        "* Common uses include closing files, releasing network connections, or freeing other external resources held by the object.\n",
        "\n",
        "However, relying heavily on `__del__` is generally discouraged because the exact time when it is called can be unpredictable, especially in complex programs or when there are reference cycles. Instead, using context managers (with statements) is often preferred for resource management."
      ],
      "metadata": {
        "id": "pbXbRU7AICD0"
      }
    },
    {
      "cell_type": "markdown",
      "source": [
        "### 6. What is the difference between import and from ... import in Python?\n",
        "\n",
        "1. import module:\n",
        "This imports the entire module.\n",
        "You must prefix everything you use from that module with the module name.\n",
        "\n",
        "Example:\n",
        "\n",
        "import math\n",
        "\n",
        "print(math.sqrt(16))  # Accessing sqrt via math module\n",
        "\n",
        "2. from module import name:\n",
        "This imports specific items (functions, classes, variables) directly from a module. You can use the imported name without prefixing the module name.\n",
        "\n",
        "Example:\n",
        "\n",
        "from math import sqrt\n",
        "\n",
        "print(sqrt(16))  # No need to write math.sqrt\n",
        "\n",
        "#### Summary:\n",
        "\n",
        "Use import module when you want to keep the code organized and clear where functions come from.\n",
        "\n",
        "Use from module import name when you only need a few specific items and want to type less."
      ],
      "metadata": {
        "id": "9aVV1oacISe1"
      }
    },
    {
      "cell_type": "markdown",
      "source": [
        "### 7. How can you handle multiple exceptions in Python?\n",
        "\n",
        "Multiple exceptions can be handled using two main ways to make your program more robust and avoid crashes:\n",
        "\n",
        "1. Multiple except blocks:\n",
        "You can write separate except blocks for different error types. Python will match the exception with the first block that fits. This helps when you want to perform different actions for different exceptions.\n",
        "\n",
        "2. Single except block with a tuple:\n",
        "You can also group multiple exceptions in one except block using a tuple. This is useful when you want to handle different exceptions with the same response.\n",
        "\n",
        "3. Using a generic except block (catches all exceptions):\n",
        "You can use except: without specifying any exception type, and it will catch any kind of error. Use this method carefully, as it may hide bugs by catching unexpected exceptions.\n"
      ],
      "metadata": {
        "id": "2VWpq0sFI09f"
      }
    },
    {
      "cell_type": "markdown",
      "source": [
        "### 8. What is the purpose of the with statement when handling files in Python?\n",
        "\n",
        "The with statement is used to simplify file handling and automatically manage resources.\n",
        "\n",
        "Key Purpose:\n",
        "\n",
        "* It automatically opens and closes the file.\n",
        "* Ensures the file is closed even if an error occurs.\n",
        "* Makes code cleaner and safer.\n",
        "\n",
        "Why it’s useful:\n",
        "* Prevents file corruption.\n",
        "* Avoids forgetting to close the file manually.\n",
        "* Reduces the risk of memory leaks or file locks."
      ],
      "metadata": {
        "id": "WJxIDwcTKE-1"
      }
    },
    {
      "cell_type": "markdown",
      "source": [
        "### 9. What is the difference between multithreading and multiprocessing?\n",
        "\n",
        "Multithreading\n",
        "* Runs multiple threads within a single process.\n",
        "* Threads share memory space, making communication easy.\n",
        "* Best for I/O-bound tasks (like reading files or network requests).\n",
        "* Limited by GIL (Global Interpreter Lock) in CPython — only one thread runs at a time in CPU-bound tasks.\n",
        "\n",
        "Multiprocessing\n",
        "* Runs multiple processes, each with its own memory space.\n",
        "* Processes run in parallel, suitable for CPU-bound tasks (like heavy computations).\n",
        "* No GIL limitation — true parallelism.\n",
        "* Communication is complex (uses pipes, queues, etc.)."
      ],
      "metadata": {
        "id": "2lAzoe_VKVhR"
      }
    },
    {
      "cell_type": "markdown",
      "source": [
        "### 10. What are the advantages of using logging in a program?\n",
        "\n",
        "Advantages of Using Logging in a Program (Python):\n",
        "\n",
        "* Tracks Events:\n",
        "Logs important events during program execution (errors, warnings, info).\n",
        "\n",
        "* Debugging Aid:\n",
        "Helps trace and fix bugs by recording step-by-step flow and issues.\n",
        "\n",
        "* Error Monitoring:\n",
        "Automatically captures errors without interrupting program flow.\n",
        "\n",
        "* File Logging:\n",
        "Stores logs in files for later review — useful for long-running or background processes.\n",
        "\n",
        "* Customizable Levels:\n",
        "Supports levels like DEBUG, INFO, WARNING, ERROR, CRITICAL to filter messages.\n",
        "\n",
        "* Production Safe:\n",
        "Better than print statements — can be turned off or redirected without code change.\n",
        "\n",
        "* Audit & Security:\n",
        "Logs user actions, failures, and system changes — helpful in audits.\n",
        "\n",
        "* Maintenance Friendly:\n",
        "Eases future updates and understanding of system behavior."
      ],
      "metadata": {
        "id": "wjMp5ktbKnG0"
      }
    },
    {
      "cell_type": "markdown",
      "source": [
        "### 11. What is memory management in Python?\n",
        "\n",
        "Memory management in Python is the process by which the interpreter handles the allocation and deallocation of memory to ensure efficient use of system resources.\n",
        "\n",
        "Python uses a private heap to store all objects and data structures, and this memory is managed internally by the Python memory manager. It uses a combination of reference counting and garbage collection to automatically reclaim memory that is no longer in use. This means developers do not need to manually free up memory, reducing the chances of memory leaks or errors.\n",
        "\n",
        "Python also uses a system called pymalloc to optimize memory allocation for small objects, making memory management both automatic and efficient."
      ],
      "metadata": {
        "id": "EsLBdqPbK0Xo"
      }
    },
    {
      "cell_type": "markdown",
      "source": [
        "### 12. What are the basic steps involved in exception handling in Python?\n",
        "\n",
        "The basic steps involved in exception handling in Python are:\n",
        "\n",
        "1. Try Block: You write the code that might raise an exception inside the try block.\n",
        "\n",
        "2. Except Block: If an exception occurs, the control shifts to the except block, where you handle the error.\n",
        "\n",
        "3. Else Block (optional): This runs if no exception occurs in the try block.\n",
        "\n",
        "4. Finally Block (optional): This always executes, whether an exception occurred or not, usually for cleanup actions.\n",
        "\n",
        "This structure helps in writing robust programs that handle errors gracefully without crashing.\n",
        "\n"
      ],
      "metadata": {
        "id": "rk5CjBZELI_P"
      }
    },
    {
      "cell_type": "markdown",
      "source": [
        "### 13. Why is memory management important in Python?\n",
        "\n",
        "* Efficient Resource Utilization: Ensures that memory is used effectively without waste.\n",
        "\n",
        "* Prevents Memory Leaks: Automatically removes unused objects to avoid memory being held unnecessarily.\n",
        "\n",
        "* Improves Performance: Frees up memory for new tasks, making programs run faster.\n",
        "\n",
        "* Stability of Programs: Reduces the risk of crashes or slowdowns due to memory overload.\n",
        "\n",
        "* Automatic Garbage Collection: Python uses built-in garbage collectors to manage memory automatically.\n",
        "\n",
        "* Supports Large Applications: Proper memory handling is critical when dealing with large datasets or long-running applications."
      ],
      "metadata": {
        "id": "5YoatkFMLTGh"
      }
    },
    {
      "cell_type": "markdown",
      "source": [
        "### 14. What is the role of try and except in exception handling?\n",
        "\n",
        "1. try Block:\n",
        "This block contains the code that you expect might cause an error. Python will attempt to run the code inside the try block. If everything works fine, it skips the except block.\n",
        "\n",
        "2. except Block:\n",
        "If an error occurs inside the try block, Python immediately stops executing the rest of the try block and jumps to the except block. The code in this block handles the error gracefully — for example, by showing a message or taking an alternate action — instead of letting the program crash.\n",
        "This structure allows your program to handle errors safely and keep running smoothly."
      ],
      "metadata": {
        "id": "WBg1YMbuLj48"
      }
    },
    {
      "cell_type": "markdown",
      "source": [
        "### 15. How does Python's garbage collection system work?\n",
        "\n",
        "Python's garbage collection system works by automatically identifying and freeing up memory that is no longer in use, so that it can be reused.\n",
        "\n",
        "How it works:\n",
        "1. Reference Counting:\n",
        "\n",
        "* Every object in Python has a reference count (i.e., how many variables refer to it).\n",
        "\n",
        "* When this count drops to zero, it means the object is no longer needed and is deleted.\n",
        "\n",
        "2. Garbage Collector (GC):\n",
        "\n",
        "* Python also uses a garbage collector to find circular references — cases where two or more objects refer to each other but are not used anywhere else.\n",
        "\n",
        "* The GC runs periodically and removes such unused objects.\n",
        "\n",
        "This system helps manage memory efficiently without requiring manual memory allocation and deallocation by the programmer."
      ],
      "metadata": {
        "id": "NHlZ9Z9INMXp"
      }
    },
    {
      "cell_type": "markdown",
      "source": [
        "### 16. What is the purpose of the else block in exception handling?\n",
        "\n",
        "The purpose of the else block in exception handling is to define a section of code that should run only if no exceptions were raised in the try block.\n",
        "\n",
        "Explanation:\n",
        "* The else block is optional.\n",
        "\n",
        "* It runs only when the try block executes without throwing any exceptions.\n",
        "\n",
        "* If an exception occurs, the else block is skipped, and the except block (if present) is executed instead."
      ],
      "metadata": {
        "id": "eCDd8RlgP2EE"
      }
    },
    {
      "cell_type": "markdown",
      "source": [
        "### 17. What are the common logging levels in Python?\n",
        "\n",
        "The common logging levels (defined in the logging module) indicate the severity or importance of a message. Here are the standard levels, from lowest to highest severity:\n",
        "\n",
        "1. DEBUG – Used for detailed debugging information. Mostly for developers.\n",
        "\n",
        "2. INFO – Used to show general program information and confirmation that things are working as expected.\n",
        "\n",
        "3. WARNING – Indicates something unexpected happened, or a potential issue, but the program can still run.\n",
        "\n",
        "4. ERROR – A more serious problem that has caused part of the program to fail.\n",
        "\n",
        "5. CRITICAL – A very serious error that may prevent the program from continuing."
      ],
      "metadata": {
        "id": "hRDGtxvMQB93"
      }
    },
    {
      "cell_type": "markdown",
      "source": [
        "### 18. What is the difference between os.fork() and multiprocessing in Python?\n",
        "\n",
        "The main difference between os.fork() and multiprocessing in Python lies in how they create processes, ease of use, and cross-platform support.\n",
        "\n",
        "1. os.fork():\n",
        "* Creates a child process by duplicating the current process.\n",
        "\n",
        "* Available only on Unix/Linux/macOS systems (not supported on Windows).\n",
        "\n",
        "* Lower-level and requires manual handling of inter-process communication.\n",
        "\n",
        "* Less readable and more error-prone for complex tasks.\n",
        "\n",
        "2. multiprocessing module:\n",
        "* High-level module for creating and managing processes in a portable way.\n",
        "\n",
        "* Cross-platform: works on Windows, Linux, and macOS.\n",
        "\n",
        "* Supports process pools, queues, pipes, and shared memory.\n",
        "\n",
        "* Safer and easier to use for parallel programming."
      ],
      "metadata": {
        "id": "5R4jqBQ7QeGE"
      }
    },
    {
      "cell_type": "markdown",
      "source": [
        "### 19. What is the importance of closing a file in Python?\n",
        "\n",
        "Closing a file in Python is important because it:\n",
        "\n",
        "1. Frees System Resources:\n",
        "When a file is open, it occupies system resources like file handles or memory. Closing the file releases those resources.\n",
        "\n",
        "2. Saves Data Properly:\n",
        "If you’ve written data to a file, closing it ensures that all data is actually written (flushed) from the buffer to the disk.\n",
        "\n",
        "3. Avoids File Corruption:\n",
        "Keeping a file open for too long can increase the risk of data corruption, especially if the program crashes before the file is closed.\n",
        "\n",
        "4. Prevents Errors:\n",
        "Operating systems have a limit on the number of files that can be open at once. Not closing files can lead to “too many open files” errors."
      ],
      "metadata": {
        "id": "CbU3n4y_QuZI"
      }
    },
    {
      "cell_type": "markdown",
      "source": [
        "### 20. What is the difference between file.read() and file.readline() in Python?\n",
        "\n",
        "\n",
        "1. file.read():\n",
        "\n",
        "* Reads the entire file content as a single string.\n",
        "\n",
        "* Can take an optional number (n) to read n characters.\n",
        "\n",
        "* Useful when you want to process the whole file at once.\n",
        "\n",
        "2. file.readline():\n",
        "\n",
        "* Reads only one line from the file at a time.\n",
        "\n",
        "* Each call reads the next line.\n",
        "\n",
        "* Useful for reading large files line-by-line without loading the whole file into memory.\n"
      ],
      "metadata": {
        "id": "iLKX4fZZQ--r"
      }
    },
    {
      "cell_type": "markdown",
      "source": [
        "### 21. What is the logging module in Python used for?\n",
        "\n",
        "The logging module in Python is used to record (log) messages that describe events happening in a program. It helps developers track the flow of execution, find bugs, and monitor the status of an application.\n",
        "\n",
        "* Main Purposes:\n",
        "\n",
        "Debugging: Helps identify issues during development.\n",
        "\n",
        "Monitoring: Logs errors, warnings, and info in production apps.\n",
        "\n",
        "Recording Events: Stores a history of program behavior.\n",
        "\n",
        "Better than print(): More flexible, allows levels, file output, and formatting.\n",
        "\n",
        "* Key Features:\n",
        "\n",
        "Supports different severity levels: DEBUG, INFO, WARNING, ERROR, CRITICAL.\n",
        "\n",
        "Can log to files, console, or other outputs.\n",
        "\n",
        "Allows custom formatting and timestamping.\n",
        "\n",
        "Helps in debugging and auditing without modifying actual program flow."
      ],
      "metadata": {
        "id": "P6yrFhx6RajO"
      }
    },
    {
      "cell_type": "markdown",
      "source": [
        "### 22. What is the os module in Python used for in file handling?\n",
        "\n",
        "The os module in Python is used to perform file and directory operations by interacting with the operating system. It allows you to:\n",
        "\n",
        "* Create folders and directories.\n",
        "\n",
        "* Check if a file or folder exists.\n",
        "\n",
        "* Get or change the current working directory.\n",
        "\n",
        "* List all files and folders in a directory.\n",
        "\n",
        "* Rename files or directories.\n",
        "\n",
        "* Delete files or remove folders.\n",
        "\n",
        "* Handle file paths in a platform-independent way."
      ],
      "metadata": {
        "id": "uCikkcRVRrn5"
      }
    },
    {
      "cell_type": "markdown",
      "source": [
        "### 23. What are the challenges associated with memory management in Python?\n",
        "\n",
        "\n",
        "Challenges Associated with Memory Management in Python:\n",
        "* Garbage Collection Overhead:\n",
        "Python uses automatic garbage collection to clean up unused memory, but it can introduce performance overhead or delay memory release, especially in large or long-running programs.\n",
        "\n",
        "* Circular References:\n",
        "When two or more objects reference each other, they may not be freed immediately, even if they are no longer in use. This can cause memory leaks.\n",
        "\n",
        "* Memory Leaks:\n",
        "Poor coding practices (like keeping unnecessary references or using global variables carelessly) can lead to memory leaks, where memory is never released.\n",
        "\n",
        "* High Memory Usage:\n",
        "Python objects generally take more memory than in low-level languages like C, which can be a challenge in memory-constrained environments.\n",
        "\n",
        "* Lack of Manual Control:\n",
        "Python doesn’t allow fine-grained manual memory control, which can be limiting in performance-critical applications.\n",
        "\n",
        "* Shared References:\n",
        "Mutating shared objects (like lists or dictionaries) can cause unexpected side effects and memory usage if not handled carefully."
      ],
      "metadata": {
        "id": "XQoKwubxR-lg"
      }
    },
    {
      "cell_type": "markdown",
      "source": [
        "### 24. How do you raise an exception manually in Python?\n",
        "\n",
        "To raise an exception manually using the raise keyword followed by the type of exception you want to trigger.\n",
        "\n",
        "Syntax:\n",
        "\n",
        "raise ExceptionType(\"Custom error message\")\n",
        "\n",
        "Example:\n",
        "If you want to raise a ValueError when a condition is not met:\n",
        "\n",
        "\n",
        "age = -5\n",
        "\n",
        "if age < 0:\n",
        "  \n",
        "  raise ValueError(\"Age cannot be negative\")\n",
        "\n",
        "Notes:\n",
        "You can raise built-in exceptions like ValueError, TypeError, ZeroDivisionError, etc.\n",
        "You can also raise custom exceptions by defining your own exception classes (if needed)."
      ],
      "metadata": {
        "id": "WkQpH8PSSPNI"
      }
    },
    {
      "cell_type": "markdown",
      "source": [
        "### 25. Why is it important to use multithreading in certain applications?\n",
        "\n",
        "Multithreading is important in certain applications because it allows a program to perform multiple tasks concurrently, improving efficiency, performance, and responsiveness, especially when dealing with I/O-bound operations.\n",
        "\n",
        "Key Reasons:\n",
        "* Improves Responsiveness:\n",
        "In applications like GUIs or servers, multithreading ensures the main program remains responsive while background tasks run in separate threads.\n",
        "\n",
        "* Efficient I/O Handling:\n",
        "When waiting for I/O operations (like file read/write, network calls), other threads can continue running, preventing the whole program from freezing.\n",
        "\n",
        "* Resource Sharing:\n",
        "Threads share the same memory space, making data sharing between them easier compared to multiprocessing.\n",
        "\n",
        "* Faster Execution for I/O-bound Tasks:\n",
        "For programs that spend a lot of time waiting (e.g., downloading files, reading user input), threads can help run tasks concurrently and save time.\n",
        "\n",
        "* Real-time Performance:\n",
        "In games, real-time systems, or real-time data processing, multithreading helps manage multiple operations simultaneously (e.g., rendering, user input, and audio)."
      ],
      "metadata": {
        "id": "sSCx8kuQSvvG"
      }
    },
    {
      "cell_type": "markdown",
      "source": [
        "## Practical Questions"
      ],
      "metadata": {
        "id": "ZNYB5HeES-A1"
      }
    },
    {
      "cell_type": "code",
      "execution_count": 9,
      "metadata": {
        "id": "QD4pkHAsGolO"
      },
      "outputs": [],
      "source": [
        "# 1. How can you open a file for writing in Python and write a string to it\n",
        "\n",
        "with open(\"example.txt\", \"w\") as file:\n",
        "    file.write(\"Hello, Python file handling!\")\n",
        "\n",
        "with open(\"sample.txt\", \"w\") as file:\n",
        "    file.write(\"Hello, Second Python file handling!\")\n"
      ]
    },
    {
      "cell_type": "code",
      "source": [
        "# 2. Write a Python program to read the contents of a file and print each line\n",
        "\n",
        "with open(\"example.txt\", \"r\") as file:\n",
        "    for line in file:\n",
        "        print(line.strip())\n"
      ],
      "metadata": {
        "colab": {
          "base_uri": "https://localhost:8080/"
        },
        "id": "9NutiSDCTnWL",
        "outputId": "619dd09c-6948-474f-c3aa-32471582f94f"
      },
      "execution_count": 6,
      "outputs": [
        {
          "output_type": "stream",
          "name": "stdout",
          "text": [
            "Hello, Python file handling!\n"
          ]
        }
      ]
    },
    {
      "cell_type": "code",
      "source": [
        "# 3. How would you handle a case where the file doesn't exist while trying to open it for reading\n",
        "\n",
        "try:\n",
        "    with open(\"sample.txt\", \"r\") as file:\n",
        "        print(file.read())\n",
        "except FileNotFoundError:\n",
        "    print(\"File not found!\")\n"
      ],
      "metadata": {
        "colab": {
          "base_uri": "https://localhost:8080/"
        },
        "id": "wuKQ9k1dTtmu",
        "outputId": "1a637bd1-64ed-4aa0-e079-589c269f4db7"
      },
      "execution_count": 7,
      "outputs": [
        {
          "output_type": "stream",
          "name": "stdout",
          "text": [
            "File not found!\n"
          ]
        }
      ]
    },
    {
      "cell_type": "code",
      "source": [
        "# 4. Write a Python script that reads from one file and writes its content to another file\n",
        "\n",
        "with open(\"example.txt\", \"r\") as src, open(\"sample.txt\", \"w\") as dst:\n",
        "    for line in src:\n",
        "        dst.write(line)\n"
      ],
      "metadata": {
        "id": "fPAk4km4TvDr"
      },
      "execution_count": 10,
      "outputs": []
    },
    {
      "cell_type": "code",
      "source": [
        "#5. How would you catch and handle division by zero error in Python\n",
        "\n",
        "try:\n",
        "    result = 10 / 0\n",
        "except ZeroDivisionError:\n",
        "    print(\"Cannot divide by zero!\")\n"
      ],
      "metadata": {
        "colab": {
          "base_uri": "https://localhost:8080/"
        },
        "id": "eImifFHPTwoD",
        "outputId": "819ff110-20e4-45aa-9794-85252ba71bd9"
      },
      "execution_count": 11,
      "outputs": [
        {
          "output_type": "stream",
          "name": "stdout",
          "text": [
            "Cannot divide by zero!\n"
          ]
        }
      ]
    },
    {
      "cell_type": "code",
      "source": [
        "# 6. Write a Python program that logs an error message to a log file when a division by zero exception occurs\n",
        "\n",
        "import logging\n",
        "\n",
        "logging.basicConfig(filename=\"error_log.txt\", level=logging.ERROR)\n",
        "\n",
        "try:\n",
        "    x = 10 / 0\n",
        "except ZeroDivisionError as e:\n",
        "    logging.error(\"Division by zero occurred: %s\", e)\n"
      ],
      "metadata": {
        "colab": {
          "base_uri": "https://localhost:8080/"
        },
        "id": "WN_pl-pLTyBF",
        "outputId": "46c14918-fb63-4773-b243-3efffbe5fb23"
      },
      "execution_count": 12,
      "outputs": [
        {
          "output_type": "stream",
          "name": "stderr",
          "text": [
            "ERROR:root:Division by zero occurred: division by zero\n"
          ]
        }
      ]
    },
    {
      "cell_type": "code",
      "source": [
        "# 7. How do you log information at different levels (INFO, ERROR, WARNING) in Python using the logging module\n",
        "\n",
        "import logging\n",
        "\n",
        "logging.basicConfig(level=logging.DEBUG)\n",
        "\n",
        "logging.info(\"Program started\")\n",
        "logging.warning(\"This is a warning\")\n",
        "logging.error(\"This is an error\")\n"
      ],
      "metadata": {
        "colab": {
          "base_uri": "https://localhost:8080/"
        },
        "id": "INeibYiiTzZ3",
        "outputId": "d2f7b822-32ed-41f8-f62d-1bde479d8aa0"
      },
      "execution_count": 13,
      "outputs": [
        {
          "output_type": "stream",
          "name": "stderr",
          "text": [
            "WARNING:root:This is a warning\n",
            "ERROR:root:This is an error\n"
          ]
        }
      ]
    },
    {
      "cell_type": "code",
      "source": [
        "# 8.  Write a program to handle a file opening error using exception handling\n",
        "\n",
        "try:\n",
        "    file = open(\"nonexistent.txt\", \"r\")\n",
        "except FileNotFoundError:\n",
        "    print(\"Error: File not found.\")\n"
      ],
      "metadata": {
        "colab": {
          "base_uri": "https://localhost:8080/"
        },
        "id": "vhKNUzVMT0-w",
        "outputId": "adc5bd2e-6ae3-4551-e376-3c4077cd2135"
      },
      "execution_count": 14,
      "outputs": [
        {
          "output_type": "stream",
          "name": "stdout",
          "text": [
            "Error: File not found.\n"
          ]
        }
      ]
    },
    {
      "cell_type": "code",
      "source": [
        "# 9. How can you read a file line by line and store its content in a list in Python\n",
        "\n",
        "with open(\"sample.txt\", \"r\") as file:\n",
        "    lines = file.readlines()\n",
        "print(lines)\n"
      ],
      "metadata": {
        "colab": {
          "base_uri": "https://localhost:8080/"
        },
        "id": "jCO7RZckT2XG",
        "outputId": "37836e07-1f59-4b96-9b39-db0e5d989b99"
      },
      "execution_count": 15,
      "outputs": [
        {
          "output_type": "stream",
          "name": "stdout",
          "text": [
            "['Hello, Python file handling!']\n"
          ]
        }
      ]
    },
    {
      "cell_type": "code",
      "source": [
        "# 10. How can you append data to an existing file in Python\n",
        "\n",
        "with open(\"sample.txt\", \"a\") as file:\n",
        "    file.write(\"This is an appended line.\\n\")\n"
      ],
      "metadata": {
        "id": "AKqWEYD7T4Iq"
      },
      "execution_count": 16,
      "outputs": []
    },
    {
      "cell_type": "code",
      "source": [
        "# 11. Write a Python program that uses a try-except block to handle an error when attempting to access a dictionary key that doesn't exist\n",
        "\n",
        "my_dict = {\"name\": \"Suraj\"}\n",
        "\n",
        "try:\n",
        "    print(my_dict[\"age\"])\n",
        "except KeyError:\n",
        "    print(\"Key not found!\")\n"
      ],
      "metadata": {
        "colab": {
          "base_uri": "https://localhost:8080/"
        },
        "id": "KQWvfPZyT5wr",
        "outputId": "23893ce1-77f8-4988-e01e-82e5583b5306"
      },
      "execution_count": 17,
      "outputs": [
        {
          "output_type": "stream",
          "name": "stdout",
          "text": [
            "Key not found!\n"
          ]
        }
      ]
    },
    {
      "cell_type": "code",
      "source": [
        "# 12. Write a program that demonstrates using multiple except blocks to handle different types of exceptions\n",
        "\n",
        "try:\n",
        "    num = int(\"abc\")  # ValueError\n",
        "    result = 10 / 0    # ZeroDivisionError\n",
        "except ValueError:\n",
        "    print(\"Invalid number format!\")\n",
        "except ZeroDivisionError:\n",
        "    print(\"Cannot divide by zero!\")\n"
      ],
      "metadata": {
        "colab": {
          "base_uri": "https://localhost:8080/"
        },
        "id": "GbKRVd1hT7ag",
        "outputId": "d420253a-2418-4de1-cc6a-74041fc49b87"
      },
      "execution_count": 18,
      "outputs": [
        {
          "output_type": "stream",
          "name": "stdout",
          "text": [
            "Invalid number format!\n"
          ]
        }
      ]
    },
    {
      "cell_type": "code",
      "source": [
        "# 13. How would you check if a file exists before attempting to read it in Python\n",
        "\n",
        "import os\n",
        "\n",
        "if os.path.exists(\"abc.txt\"):\n",
        "    with open(\"abc.txt\", \"r\") as file:\n",
        "        content = file.read()\n",
        "        print(content)\n",
        "else:\n",
        "    print(\"File does not exist.\")\n"
      ],
      "metadata": {
        "colab": {
          "base_uri": "https://localhost:8080/"
        },
        "id": "FCilSPLwT8sL",
        "outputId": "647f2ebe-2e11-46a3-d318-5969a67fc29c"
      },
      "execution_count": 21,
      "outputs": [
        {
          "output_type": "stream",
          "name": "stdout",
          "text": [
            "File does not exist.\n"
          ]
        }
      ]
    },
    {
      "cell_type": "code",
      "source": [
        "# 14. Write a program that uses the logging module to log both informational and error messages\n",
        "\n",
        "import logging\n",
        "\n",
        "logging.basicConfig(filename=\"logfile.txt\", level=logging.INFO)\n",
        "\n",
        "logging.info(\"Application started\")\n",
        "\n",
        "try:\n",
        "    x = 1 / 0\n",
        "except ZeroDivisionError:\n",
        "    logging.error(\"Tried dividing by zero.\")\n"
      ],
      "metadata": {
        "colab": {
          "base_uri": "https://localhost:8080/"
        },
        "id": "BVMgGThcT-V4",
        "outputId": "49c18845-1a60-4877-808e-009238b77dd8"
      },
      "execution_count": 22,
      "outputs": [
        {
          "output_type": "stream",
          "name": "stderr",
          "text": [
            "ERROR:root:Tried dividing by zero.\n"
          ]
        }
      ]
    },
    {
      "cell_type": "code",
      "source": [
        "# 15. Write a Python program that prints the content of a file and handles the case when the file is empty\n",
        "\n",
        "with open(\"sample.txt\", \"r\") as file:\n",
        "    content = file.read()\n",
        "    if content:\n",
        "        print(content)\n",
        "    else:\n",
        "        print(\"The file is empty.\")\n"
      ],
      "metadata": {
        "colab": {
          "base_uri": "https://localhost:8080/"
        },
        "id": "8wmGQupHUAXM",
        "outputId": "06736d26-ac27-4e06-ca83-f130e00458f7"
      },
      "execution_count": 23,
      "outputs": [
        {
          "output_type": "stream",
          "name": "stdout",
          "text": [
            "Hello, Python file handling!This is an appended line.\n",
            "\n"
          ]
        }
      ]
    },
    {
      "cell_type": "code",
      "source": [
        "!pip install -q memory-profiler\n"
      ],
      "metadata": {
        "id": "HlDAXX3jfhbh"
      },
      "execution_count": 25,
      "outputs": []
    },
    {
      "cell_type": "code",
      "source": [
        "# 16. Demonstrate how to use memory profiling to check the memory usage of a small program\n",
        "\n",
        "from memory_profiler import memory_usage\n",
        "\n",
        "def create_large_list():\n",
        "    data = [i * 2 for i in range(1000000)]  # 1 million elements\n",
        "    return data\n",
        "\n",
        "mem_usage = memory_usage(create_large_list)\n",
        "\n",
        "print(f\"Memory used: {mem_usage} MiB\")\n",
        "print(f\"Peak memory usage: {max(mem_usage):.2f} MiB\")\n",
        "\n",
        "\n"
      ],
      "metadata": {
        "colab": {
          "base_uri": "https://localhost:8080/"
        },
        "id": "Gf3PtVuUUB3I",
        "outputId": "bf9b302d-4074-44b4-834e-9ec5cd6b4f8d"
      },
      "execution_count": 26,
      "outputs": [
        {
          "output_type": "stream",
          "name": "stdout",
          "text": [
            "Memory used: [147.41796875, 147.57421875, 152.234375, 156.9765625, 161.93359375, 166.6796875, 171.42578125, 180.33984375, 185.828125, 176.96875, 167.125, 166.140625, 158.53125] MiB\n",
            "Peak memory usage: 185.83 MiB\n"
          ]
        }
      ]
    },
    {
      "cell_type": "code",
      "source": [
        "# 17. Write a Python program to create and write a list of numbers to a file, one number per line\n",
        "\n",
        "numbers = [1, 2, 3, 4, 5]\n",
        "\n",
        "with open(\"numbers.txt\", \"w\") as file:\n",
        "    for num in numbers:\n",
        "        file.write(str(num) + \"\\n\")\n"
      ],
      "metadata": {
        "id": "XB4iTpSuUQuQ"
      },
      "execution_count": 27,
      "outputs": []
    },
    {
      "cell_type": "code",
      "source": [
        "# 18. How would you implement a basic logging setup that logs to a file with rotation after 1MB\n",
        "\n",
        "import logging\n",
        "from logging.handlers import RotatingFileHandler\n",
        "\n",
        "handler = RotatingFileHandler(\"app.log\", maxBytes=1024*1024, backupCount=3)\n",
        "logging.basicConfig(handlers=[handler], level=logging.INFO)\n",
        "\n",
        "logging.info(\"Logging with rotation\")\n"
      ],
      "metadata": {
        "id": "K4HtQzIdUUe6"
      },
      "execution_count": 28,
      "outputs": []
    },
    {
      "cell_type": "code",
      "source": [
        "# 19. Write a program that handles both IndexError and KeyError using a try-except block\n",
        "\n",
        "try:\n",
        "    lst = [1, 2, 3]\n",
        "    print(lst[5])  # IndexError\n",
        "    d = {\"a\": 1}\n",
        "    print(d[\"b\"])  # KeyError\n",
        "except IndexError:\n",
        "    print(\"Index out of range!\")\n",
        "except KeyError:\n",
        "    print(\"Key does not exist!\")\n"
      ],
      "metadata": {
        "colab": {
          "base_uri": "https://localhost:8080/"
        },
        "id": "x3Z1b9VjUWrz",
        "outputId": "1c2e4060-20ec-4340-e379-87f5ba532619"
      },
      "execution_count": 29,
      "outputs": [
        {
          "output_type": "stream",
          "name": "stdout",
          "text": [
            "Index out of range!\n"
          ]
        }
      ]
    },
    {
      "cell_type": "code",
      "source": [
        "# 20. How would you open a file and read its contents using a context manager in Python\n",
        "\n",
        "with open(\"sample.txt\", \"r\") as file:\n",
        "    content = file.read()\n",
        "    print(content)\n"
      ],
      "metadata": {
        "colab": {
          "base_uri": "https://localhost:8080/"
        },
        "id": "mpz_tMX5UYDQ",
        "outputId": "d276e803-1f42-4a61-e559-74436bde4ef1"
      },
      "execution_count": 30,
      "outputs": [
        {
          "output_type": "stream",
          "name": "stdout",
          "text": [
            "Hello, Python file handling!This is an appended line.\n",
            "\n"
          ]
        }
      ]
    },
    {
      "cell_type": "code",
      "source": [
        "# 21. Write a Python program that reads a file and prints the number of occurrences of a specific word\n",
        "\n",
        "word_to_find = \"python\"\n",
        "count = 0\n",
        "\n",
        "with open(\"sample.txt\", \"r\") as file:\n",
        "    for line in file:\n",
        "        count += line.lower().count(word_to_find.lower())\n",
        "\n",
        "print(f\"The word '{word_to_find}' occurred {count} times.\")\n"
      ],
      "metadata": {
        "colab": {
          "base_uri": "https://localhost:8080/"
        },
        "id": "uZ_LkSBpUZe3",
        "outputId": "0455f461-ef01-4c02-c22a-049bb093555f"
      },
      "execution_count": 31,
      "outputs": [
        {
          "output_type": "stream",
          "name": "stdout",
          "text": [
            "The word 'python' occurred 1 times.\n"
          ]
        }
      ]
    },
    {
      "cell_type": "code",
      "source": [
        "# 22. How can you check if a file is empty before attempting to read its contents\n",
        "\n",
        "import os\n",
        "\n",
        "if os.stat(\"sample.txt\").st_size == 0:\n",
        "    print(\"File is empty\")\n",
        "else:\n",
        "    with open(\"sample.txt\", \"r\") as file:\n",
        "        print(file.read())\n"
      ],
      "metadata": {
        "colab": {
          "base_uri": "https://localhost:8080/"
        },
        "id": "LTknaAAyUa_I",
        "outputId": "517314fa-cc54-4af3-ec5c-2d023c20d77a"
      },
      "execution_count": 32,
      "outputs": [
        {
          "output_type": "stream",
          "name": "stdout",
          "text": [
            "Hello, Python file handling!This is an appended line.\n",
            "\n"
          ]
        }
      ]
    },
    {
      "cell_type": "code",
      "source": [
        "# 23. Write a Python program that writes to a log file when an error occurs during file handling\n",
        "\n",
        "import logging\n",
        "\n",
        "logging.basicConfig(filename=\"file_errors.log\", level=logging.ERROR)\n",
        "\n",
        "try:\n",
        "    with open(\"not_found.txt\", \"r\") as file:\n",
        "        print(file.read())\n",
        "except FileNotFoundError as e:\n",
        "    logging.error(\"File handling error: %s\", e)\n"
      ],
      "metadata": {
        "colab": {
          "base_uri": "https://localhost:8080/"
        },
        "id": "crdgAFyzUcTA",
        "outputId": "9d7e91dc-6ae7-4b56-cce7-907ef0743432"
      },
      "execution_count": 33,
      "outputs": [
        {
          "output_type": "stream",
          "name": "stderr",
          "text": [
            "ERROR:root:File handling error: [Errno 2] No such file or directory: 'not_found.txt'\n"
          ]
        }
      ]
    }
  ]
}